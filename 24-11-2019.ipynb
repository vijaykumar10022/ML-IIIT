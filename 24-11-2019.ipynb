{
 "cells": [
  {
   "cell_type": "code",
   "execution_count": null,
   "metadata": {},
   "outputs": [],
   "source": []
  },
  {
   "cell_type": "markdown",
   "metadata": {},
   "source": []
  },
  {
   "cell_type": "code",
   "execution_count": 1,
   "metadata": {},
   "outputs": [],
   "source": [
    "import numpy as np\n",
    "import matplotlib.pyplot as plt"
   ]
  },
  {
   "cell_type": "code",
   "execution_count": 2,
   "metadata": {},
   "outputs": [
    {
     "data": {
      "text/plain": [
       "array([[0.93837446],\n",
       "       [0.48600466],\n",
       "       [0.78673081],\n",
       "       [0.83843332],\n",
       "       [0.65322049],\n",
       "       [0.40963356],\n",
       "       [0.03650425],\n",
       "       [0.5409554 ],\n",
       "       [0.47949627],\n",
       "       [0.3367346 ],\n",
       "       [0.77239295],\n",
       "       [0.85482199],\n",
       "       [0.61428169],\n",
       "       [0.85293221],\n",
       "       [0.80014305],\n",
       "       [0.13617912],\n",
       "       [0.22438872],\n",
       "       [0.18578153],\n",
       "       [0.05912589],\n",
       "       [0.88082036],\n",
       "       [0.85353579],\n",
       "       [0.7348001 ],\n",
       "       [0.92603308],\n",
       "       [0.3609565 ],\n",
       "       [0.07321602],\n",
       "       [0.65518858],\n",
       "       [0.61288049],\n",
       "       [0.50472978],\n",
       "       [0.47721139],\n",
       "       [0.8314575 ],\n",
       "       [0.08454261],\n",
       "       [0.64508333],\n",
       "       [0.04766809],\n",
       "       [0.32155329],\n",
       "       [0.02265997],\n",
       "       [0.91133919],\n",
       "       [0.95333838],\n",
       "       [0.66208122],\n",
       "       [0.64023394],\n",
       "       [0.88600162],\n",
       "       [0.94433032],\n",
       "       [0.077532  ],\n",
       "       [0.70930149],\n",
       "       [0.25191281],\n",
       "       [0.4397602 ],\n",
       "       [0.02399851],\n",
       "       [0.8698671 ],\n",
       "       [0.94661967],\n",
       "       [0.48640502],\n",
       "       [0.75206608],\n",
       "       [0.49451774],\n",
       "       [0.79615792],\n",
       "       [0.58448937],\n",
       "       [0.07742764],\n",
       "       [0.25699234],\n",
       "       [0.68559174],\n",
       "       [0.39692304],\n",
       "       [0.9522349 ],\n",
       "       [0.41838804],\n",
       "       [0.30295538],\n",
       "       [0.63077579],\n",
       "       [0.09414675],\n",
       "       [0.05490159],\n",
       "       [0.69372691],\n",
       "       [0.61774368],\n",
       "       [0.25118779],\n",
       "       [0.926871  ],\n",
       "       [0.43138999],\n",
       "       [0.74792296],\n",
       "       [0.74535339],\n",
       "       [0.27978962],\n",
       "       [0.34357525],\n",
       "       [0.96334279],\n",
       "       [0.5834868 ],\n",
       "       [0.85093108],\n",
       "       [0.75442063],\n",
       "       [0.17768532],\n",
       "       [0.59704119],\n",
       "       [0.204303  ],\n",
       "       [0.76385584],\n",
       "       [0.19334448],\n",
       "       [0.41161772],\n",
       "       [0.23752908],\n",
       "       [0.37993943],\n",
       "       [0.19257394],\n",
       "       [0.49890885],\n",
       "       [0.92290631],\n",
       "       [0.13440386],\n",
       "       [0.49824386],\n",
       "       [0.17672346],\n",
       "       [0.20214309],\n",
       "       [0.48877802],\n",
       "       [0.94582429],\n",
       "       [0.99649536],\n",
       "       [0.01263313],\n",
       "       [0.46590921],\n",
       "       [0.65648912],\n",
       "       [0.95724117],\n",
       "       [0.73515314],\n",
       "       [0.2313297 ]])"
      ]
     },
     "execution_count": 2,
     "metadata": {},
     "output_type": "execute_result"
    }
   ],
   "source": [
    "x=np.random.rand(100,1)\n",
    "# print(x)\n",
    "x"
   ]
  },
  {
   "cell_type": "code",
   "execution_count": 3,
   "metadata": {},
   "outputs": [],
   "source": [
    "y=4+3*x+np.random.randn(100,1)"
   ]
  },
  {
   "cell_type": "code",
   "execution_count": 4,
   "metadata": {},
   "outputs": [
    {
     "data": {
      "text/plain": [
       "[<matplotlib.lines.Line2D at 0x1bc9b907548>]"
      ]
     },
     "execution_count": 4,
     "metadata": {},
     "output_type": "execute_result"
    },
    {
     "data": {
      "image/png": "[encoded data removed]",
      "text/plain": [
       "<Figure size 432x288 with 1 Axes>"
      ]
     },
     "metadata": {
      "needs_background": "light"
     },
     "output_type": "display_data"
    }
   ],
   "source": [
    "plt.plot(x,y,'*')"
   ]
  },
  {
   "cell_type": "code",
   "execution_count": 5,
   "metadata": {},
   "outputs": [
    {
     "data": {
      "text/plain": [
       "array([[1.        , 0.93837446],\n",
       "       [1.        , 0.48600466],\n",
       "       [1.        , 0.78673081],\n",
       "       [1.        , 0.83843332],\n",
       "       [1.        , 0.65322049],\n",
       "       [1.        , 0.40963356],\n",
       "       [1.        , 0.03650425],\n",
       "       [1.        , 0.5409554 ],\n",
       "       [1.        , 0.47949627],\n",
       "       [1.        , 0.3367346 ],\n",
       "       [1.        , 0.77239295],\n",
       "       [1.        , 0.85482199],\n",
       "       [1.        , 0.61428169],\n",
       "       [1.        , 0.85293221],\n",
       "       [1.        , 0.80014305],\n",
       "       [1.        , 0.13617912],\n",
       "       [1.        , 0.22438872],\n",
       "       [1.        , 0.18578153],\n",
       "       [1.        , 0.05912589],\n",
       "       [1.        , 0.88082036],\n",
       "       [1.        , 0.85353579],\n",
       "       [1.        , 0.7348001 ],\n",
       "       [1.        , 0.92603308],\n",
       "       [1.        , 0.3609565 ],\n",
       "       [1.        , 0.07321602],\n",
       "       [1.        , 0.65518858],\n",
       "       [1.        , 0.61288049],\n",
       "       [1.        , 0.50472978],\n",
       "       [1.        , 0.47721139],\n",
       "       [1.        , 0.8314575 ],\n",
       "       [1.        , 0.08454261],\n",
       "       [1.        , 0.64508333],\n",
       "       [1.        , 0.04766809],\n",
       "       [1.        , 0.32155329],\n",
       "       [1.        , 0.02265997],\n",
       "       [1.        , 0.91133919],\n",
       "       [1.        , 0.95333838],\n",
       "       [1.        , 0.66208122],\n",
       "       [1.        , 0.64023394],\n",
       "       [1.        , 0.88600162],\n",
       "       [1.        , 0.94433032],\n",
       "       [1.        , 0.077532  ],\n",
       "       [1.        , 0.70930149],\n",
       "       [1.        , 0.25191281],\n",
       "       [1.        , 0.4397602 ],\n",
       "       [1.        , 0.02399851],\n",
       "       [1.        , 0.8698671 ],\n",
       "       [1.        , 0.94661967],\n",
       "       [1.        , 0.48640502],\n",
       "       [1.        , 0.75206608],\n",
       "       [1.        , 0.49451774],\n",
       "       [1.        , 0.79615792],\n",
       "       [1.        , 0.58448937],\n",
       "       [1.        , 0.07742764],\n",
       "       [1.        , 0.25699234],\n",
       "       [1.        , 0.68559174],\n",
       "       [1.        , 0.39692304],\n",
       "       [1.        , 0.9522349 ],\n",
       "       [1.        , 0.41838804],\n",
       "       [1.        , 0.30295538],\n",
       "       [1.        , 0.63077579],\n",
       "       [1.        , 0.09414675],\n",
       "       [1.        , 0.05490159],\n",
       "       [1.        , 0.69372691],\n",
       "       [1.        , 0.61774368],\n",
       "       [1.        , 0.25118779],\n",
       "       [1.        , 0.926871  ],\n",
       "       [1.        , 0.43138999],\n",
       "       [1.        , 0.74792296],\n",
       "       [1.        , 0.74535339],\n",
       "       [1.        , 0.27978962],\n",
       "       [1.        , 0.34357525],\n",
       "       [1.        , 0.96334279],\n",
       "       [1.        , 0.5834868 ],\n",
       "       [1.        , 0.85093108],\n",
       "       [1.        , 0.75442063],\n",
       "       [1.        , 0.17768532],\n",
       "       [1.        , 0.59704119],\n",
       "       [1.        , 0.204303  ],\n",
       "       [1.        , 0.76385584],\n",
       "       [1.        , 0.19334448],\n",
       "       [1.        , 0.41161772],\n",
       "       [1.        , 0.23752908],\n",
       "       [1.        , 0.37993943],\n",
       "       [1.        , 0.19257394],\n",
       "       [1.        , 0.49890885],\n",
       "       [1.        , 0.92290631],\n",
       "       [1.        , 0.13440386],\n",
       "       [1.        , 0.49824386],\n",
       "       [1.        , 0.17672346],\n",
       "       [1.        , 0.20214309],\n",
       "       [1.        , 0.48877802],\n",
       "       [1.        , 0.94582429],\n",
       "       [1.        , 0.99649536],\n",
       "       [1.        , 0.01263313],\n",
       "       [1.        , 0.46590921],\n",
       "       [1.        , 0.65648912],\n",
       "       [1.        , 0.95724117],\n",
       "       [1.        , 0.73515314],\n",
       "       [1.        , 0.2313297 ]])"
      ]
     },
     "execution_count": 5,
     "metadata": {},
     "output_type": "execute_result"
    }
   ],
   "source": [
    "x_b=np.c_[np.ones((100,1)),x] # add x0=1 to each instance\n",
    "x_b"
   ]
  },
  {
   "cell_type": "code",
   "execution_count": 6,
   "metadata": {},
   "outputs": [],
   "source": [
    "theta_best=np.linalg.inv(x_b.T.dot(x_b)).dot(x_b.T).dot(y)"
   ]
  },
  {
   "cell_type": "code",
   "execution_count": 7,
   "metadata": {},
   "outputs": [
    {
     "data": {
      "text/plain": [
       "array([[3.84736762],\n",
       "       [3.06592804]])"
      ]
     },
     "execution_count": 7,
     "metadata": {},
     "output_type": "execute_result"
    }
   ],
   "source": [
    "theta_best"
   ]
  },
  {
   "cell_type": "code",
   "execution_count": 8,
   "metadata": {},
   "outputs": [
    {
     "data": {
      "text/plain": [
       "array([[6.7243562 ],\n",
       "       [5.33742295],\n",
       "       [6.25942767],\n",
       "       [6.41794384],\n",
       "       [5.85009462],\n",
       "       [5.10327463],\n",
       "       [3.95928702],\n",
       "       [5.50589796],\n",
       "       [5.31746867],\n",
       "       [4.87977166],\n",
       "       [6.21546882],\n",
       "       [6.46819032],\n",
       "       [5.73071107],\n",
       "       [6.46239638],\n",
       "       [6.30054863],\n",
       "       [4.26488299],\n",
       "       [4.53532727],\n",
       "       [4.41696043],\n",
       "       [4.02864334],\n",
       "       [6.54789945],\n",
       "       [6.46424693],\n",
       "       [6.10021185],\n",
       "       [6.68651839],\n",
       "       [4.95403428],\n",
       "       [4.07184267],\n",
       "       [5.85612866],\n",
       "       [5.72641508],\n",
       "       [5.3948328 ],\n",
       "       [5.31046339],\n",
       "       [6.39655649],\n",
       "       [4.10656916],\n",
       "       [5.82514669],\n",
       "       [3.99351454],\n",
       "       [4.83322686],\n",
       "       [3.91684144],\n",
       "       [6.64146799],\n",
       "       [6.77023448],\n",
       "       [5.87726098],\n",
       "       [5.81027881],\n",
       "       [6.56378482],\n",
       "       [6.74261643],\n",
       "       [4.08507516],\n",
       "       [6.02203496],\n",
       "       [4.61971418],\n",
       "       [5.19564073],\n",
       "       [3.92094532],\n",
       "       [6.51431754],\n",
       "       [6.74963539],\n",
       "       [5.33865041],\n",
       "       [6.15314809],\n",
       "       [5.36352342],\n",
       "       [6.28833051],\n",
       "       [5.63936995],\n",
       "       [4.08475521],\n",
       "       [4.63528762],\n",
       "       [5.94934254],\n",
       "       [5.06430508],\n",
       "       [6.7668513 ],\n",
       "       [5.13011525],\n",
       "       [4.776207  ],\n",
       "       [5.78128079],\n",
       "       [4.13601478],\n",
       "       [4.01569193],\n",
       "       [5.97428442],\n",
       "       [5.74132527],\n",
       "       [4.61749131],\n",
       "       [6.6890874 ],\n",
       "       [5.16997829],\n",
       "       [6.1404456 ],\n",
       "       [6.13256747],\n",
       "       [4.70518246],\n",
       "       [4.90074462],\n",
       "       [6.80090729],\n",
       "       [5.63629615],\n",
       "       [6.45626106],\n",
       "       [6.16036699],\n",
       "       [4.39213803],\n",
       "       [5.67785294],\n",
       "       [4.47374592],\n",
       "       [6.18929465],\n",
       "       [4.44014788],\n",
       "       [5.10935791],\n",
       "       [4.57561469],\n",
       "       [5.01223458],\n",
       "       [4.43778547],\n",
       "       [5.37698626],\n",
       "       [6.67693195],\n",
       "       [4.25944018],\n",
       "       [5.37494745],\n",
       "       [4.38918902],\n",
       "       [4.46712378],\n",
       "       [5.34592584],\n",
       "       [6.74719684],\n",
       "       [6.90255068],\n",
       "       [3.88609989],\n",
       "       [5.27581172],\n",
       "       [5.86011603],\n",
       "       [6.78220017],\n",
       "       [6.10129424],\n",
       "       [4.55660783]])"
      ]
     },
     "execution_count": 8,
     "metadata": {},
     "output_type": "execute_result"
    }
   ],
   "source": [
    "y_pred=x_b.dot(theta_best)\n",
    "y_pred"
   ]
  },
  {
   "cell_type": "code",
   "execution_count": 9,
   "metadata": {},
   "outputs": [
    {
     "data": {
      "text/plain": [
       "array([[7.27839666],\n",
       "       [4.44556281],\n",
       "       [5.09813648],\n",
       "       [5.8311065 ],\n",
       "       [4.57798646],\n",
       "       [3.94491299],\n",
       "       [4.91941145],\n",
       "       [6.73844587],\n",
       "       [6.29347546],\n",
       "       [3.14817337],\n",
       "       [6.38382859],\n",
       "       [5.0428442 ],\n",
       "       [4.5174651 ],\n",
       "       [7.38810793],\n",
       "       [6.35346776],\n",
       "       [5.08166459],\n",
       "       [2.28668874],\n",
       "       [4.52813583],\n",
       "       [5.64791059],\n",
       "       [7.49220786],\n",
       "       [7.11069327],\n",
       "       [5.75760257],\n",
       "       [5.04344645],\n",
       "       [3.33591119],\n",
       "       [2.84065711],\n",
       "       [7.16445652],\n",
       "       [6.37403053],\n",
       "       [5.24396438],\n",
       "       [3.219893  ],\n",
       "       [6.79580185],\n",
       "       [4.90077545],\n",
       "       [5.7485832 ],\n",
       "       [3.39490538],\n",
       "       [4.76725198],\n",
       "       [4.89673047],\n",
       "       [8.7381539 ],\n",
       "       [6.52368928],\n",
       "       [5.62736897],\n",
       "       [5.93441939],\n",
       "       [6.39651161],\n",
       "       [4.15770601],\n",
       "       [5.02952814],\n",
       "       [6.41317519],\n",
       "       [4.95694333],\n",
       "       [5.36093639],\n",
       "       [3.63787869],\n",
       "       [7.76194636],\n",
       "       [7.12057975],\n",
       "       [5.53209052],\n",
       "       [5.53881593],\n",
       "       [4.75015083],\n",
       "       [6.10798033],\n",
       "       [6.68637853],\n",
       "       [4.24275195],\n",
       "       [4.37874741],\n",
       "       [6.98784746],\n",
       "       [4.41592929],\n",
       "       [6.57795586],\n",
       "       [5.66388516],\n",
       "       [5.50224451],\n",
       "       [4.95995619],\n",
       "       [3.67632474],\n",
       "       [3.26372636],\n",
       "       [6.08765627],\n",
       "       [4.93143426],\n",
       "       [5.58410422],\n",
       "       [7.27577208],\n",
       "       [5.06178016],\n",
       "       [6.33710969],\n",
       "       [6.51807739],\n",
       "       [4.0217788 ],\n",
       "       [6.10029012],\n",
       "       [7.03308191],\n",
       "       [5.93090694],\n",
       "       [6.45399387],\n",
       "       [5.8702775 ],\n",
       "       [5.52983757],\n",
       "       [6.03511114],\n",
       "       [3.68792169],\n",
       "       [6.49120638],\n",
       "       [4.72292598],\n",
       "       [5.54078984],\n",
       "       [4.36167671],\n",
       "       [3.46892824],\n",
       "       [3.89151935],\n",
       "       [5.90963517],\n",
       "       [7.21416386],\n",
       "       [4.02239257],\n",
       "       [5.68031913],\n",
       "       [4.0247891 ],\n",
       "       [5.64136823],\n",
       "       [5.52736387],\n",
       "       [6.3736137 ],\n",
       "       [7.46410084],\n",
       "       [3.02585295],\n",
       "       [6.72699001],\n",
       "       [5.82426149],\n",
       "       [6.16757401],\n",
       "       [6.60326526],\n",
       "       [5.35581116]])"
      ]
     },
     "execution_count": 9,
     "metadata": {},
     "output_type": "execute_result"
    }
   ],
   "source": [
    "y"
   ]
  },
  {
   "cell_type": "code",
   "execution_count": 10,
   "metadata": {},
   "outputs": [
    {
     "data": {
      "image/png": "[encoded data removed]",
      "text/plain": [
       "<Figure size 432x288 with 1 Axes>"
      ]
     },
     "metadata": {
      "needs_background": "light"
     },
     "output_type": "display_data"
    }
   ],
   "source": [
    "plt.plot(x,y,'.')\n",
    "plt.plot(x,y_pred)\n",
    "plt.show()"
   ]
  },
  {
   "cell_type": "code",
   "execution_count": 11,
   "metadata": {},
   "outputs": [
    {
     "data": {
      "text/plain": [
       "(array([3.84736762]), array([[3.06592804]]))"
      ]
     },
     "execution_count": 11,
     "metadata": {},
     "output_type": "execute_result"
    }
   ],
   "source": [
    "from sklearn.linear_model import LinearRegression\n",
    "lin_reg=LinearRegression()\n",
    "lin_reg.fit(x,y)\n",
    "lin_reg.intercept_,lin_reg.coef_"
   ]
  },
  {
   "cell_type": "code",
   "execution_count": 12,
   "metadata": {},
   "outputs": [],
   "source": [
    "eta=0.1 # Learning rate\n",
    "n_iterations=1000\n",
    "m=100\n",
    "theta=np.random.randn(2,1)\n",
    "\n"
   ]
  },
  {
   "cell_type": "code",
   "execution_count": 13,
   "metadata": {},
   "outputs": [],
   "source": [
    "for iteraton in range(n_iterations):\n",
    "    gradiant=2/m * x_b.T.dot(x_b.dot(theta)-y)\n",
    "    theta=theta-eta*gradiant\n",
    "    \n",
    "    "
   ]
  },
  {
   "cell_type": "code",
   "execution_count": null,
   "metadata": {},
   "outputs": [],
   "source": []
  },
  {
   "cell_type": "code",
   "execution_count": 14,
   "metadata": {},
   "outputs": [
    {
     "data": {
      "text/plain": [
       "array([[3.84736852],\n",
       "       [3.06592644]])"
      ]
     },
     "execution_count": 14,
     "metadata": {},
     "output_type": "execute_result"
    }
   ],
   "source": [
    "theta"
   ]
  },
  {
   "cell_type": "markdown",
   "metadata": {},
   "source": [
    "hey Thats exactly what the normal equation found ! greadint worked perfectly but what if the learning rate is different for very less values it will take more time and for very high values it will  diverge and go out of ou bond thats  the reason i have chosen moderate value of 0.1\n"
   ]
  },
  {
   "cell_type": "markdown",
   "metadata": {},
   "source": [
    "## Polynomial Regression"
   ]
  },
  {
   "cell_type": "code",
   "execution_count": 15,
   "metadata": {},
   "outputs": [
    {
     "ename": "SyntaxError",
     "evalue": "invalid syntax (<ipython-input-15-ab1f95951152>, line 1)",
     "output_type": "error",
     "traceback": [
      "\u001b[1;36m  File \u001b[1;32m\"<ipython-input-15-ab1f95951152>\"\u001b[1;36m, line \u001b[1;32m1\u001b[0m\n\u001b[1;33m    What if your data is actually more complex than a simple stright line?Supersingly you\u001b[0m\n\u001b[1;37m                    ^\u001b[0m\n\u001b[1;31mSyntaxError\u001b[0m\u001b[1;31m:\u001b[0m invalid syntax\n"
     ]
    }
   ],
   "source": [
    "What if your data is actually more complex than a simple stright line?Supersingly you "
   ]
  },
  {
   "cell_type": "code",
   "execution_count": null,
   "metadata": {},
   "outputs": [],
   "source": [
    "m=100\n",
    "x=6*np.random.rand(m,1)-3\n",
    "y=0.5* x**2 +x+2+np.random.randn(m,1)\n",
    "plt.plot(x,y,'.')"
   ]
  },
  {
   "cell_type": "markdown",
   "metadata": {},
   "source": [
    "Clearly a st.line will never fit this data properly so lets use sckit-learn's polynomialfeatures class to transform our training data by adding the squre (2nd degree polynomial ) "
   ]
  },
  {
   "cell_type": "code",
   "execution_count": 16,
   "metadata": {},
   "outputs": [],
   "source": [
    "from sklearn.preprocessing import PolynomialFeatures\n",
    "poly_features=PolynomialFeatures(degree=4,include_bias=False)"
   ]
  },
  {
   "cell_type": "code",
   "execution_count": 17,
   "metadata": {},
   "outputs": [
    {
     "data": {
      "text/plain": [
       "(array([4.01722247]),\n",
       " array([[ 2.46138617, -3.97008121, 12.23565128, -8.04834287]]))"
      ]
     },
     "execution_count": 17,
     "metadata": {},
     "output_type": "execute_result"
    }
   ],
   "source": [
    "# print(x)\n",
    "x_poly=poly_features.fit_transform(x)\n",
    "# print(x_poly)\n",
    "lin_reg=LinearRegression()\n",
    "lin_reg.fit(x_poly,y)\n",
    "lin_reg.intercept_,lin_reg.coef_"
   ]
  },
  {
   "cell_type": "code",
   "execution_count": 18,
   "metadata": {},
   "outputs": [
    {
     "data": {
      "text/plain": [
       "<matplotlib.legend.Legend at 0x1bc98f3d0c8>"
      ]
     },
     "execution_count": 18,
     "metadata": {},
     "output_type": "execute_result"
    },
    {
     "data": {
      "image/png": "[encoded data removed]",
      "text/plain": [
       "<Figure size 432x288 with 1 Axes>"
      ]
     },
     "metadata": {
      "needs_background": "light"
     },
     "output_type": "display_data"
    }
   ],
   "source": [
    "plt.scatter(x,y,color='b')\n",
    "y_pre_poly=lin_reg.predict(poly_features.fit_transform(x))\n",
    "# print(y_pre_poly)\n",
    "plt.plot(x,y_pre_poly,'.',color='r',label=\"Predictions\")\n",
    "plt.legend()"
   ]
  },
  {
   "cell_type": "code",
   "execution_count": 19,
   "metadata": {},
   "outputs": [
    {
     "data": {
      "text/html": [
       "<div>\n",
       "<style scoped>\n",
       "    .dataframe tbody tr th:only-of-type {\n",
       "        vertical-align: middle;\n",
       "    }\n",
       "\n",
       "    .dataframe tbody tr th {\n",
       "        vertical-align: top;\n",
       "    }\n",
       "\n",
       "    .dataframe thead th {\n",
       "        text-align: right;\n",
       "    }\n",
       "</style>\n",
       "<table border=\"1\" class=\"dataframe\">\n",
       "  <thead>\n",
       "    <tr style=\"text-align: right;\">\n",
       "      <th></th>\n",
       "      <th>sno</th>\n",
       "      <th>Temperature</th>\n",
       "      <th>Pressure</th>\n",
       "    </tr>\n",
       "  </thead>\n",
       "  <tbody>\n",
       "    <tr>\n",
       "      <td>0</td>\n",
       "      <td>1</td>\n",
       "      <td>0</td>\n",
       "      <td>0.0002</td>\n",
       "    </tr>\n",
       "    <tr>\n",
       "      <td>1</td>\n",
       "      <td>2</td>\n",
       "      <td>20</td>\n",
       "      <td>0.0012</td>\n",
       "    </tr>\n",
       "    <tr>\n",
       "      <td>2</td>\n",
       "      <td>3</td>\n",
       "      <td>40</td>\n",
       "      <td>0.0060</td>\n",
       "    </tr>\n",
       "    <tr>\n",
       "      <td>3</td>\n",
       "      <td>4</td>\n",
       "      <td>60</td>\n",
       "      <td>0.0300</td>\n",
       "    </tr>\n",
       "    <tr>\n",
       "      <td>4</td>\n",
       "      <td>5</td>\n",
       "      <td>80</td>\n",
       "      <td>0.0900</td>\n",
       "    </tr>\n",
       "    <tr>\n",
       "      <td>5</td>\n",
       "      <td>6</td>\n",
       "      <td>100</td>\n",
       "      <td>0.2700</td>\n",
       "    </tr>\n",
       "  </tbody>\n",
       "</table>\n",
       "</div>"
      ],
      "text/plain": [
       "   sno  Temperature  Pressure\n",
       "0    1            0    0.0002\n",
       "1    2           20    0.0012\n",
       "2    3           40    0.0060\n",
       "3    4           60    0.0300\n",
       "4    5           80    0.0900\n",
       "5    6          100    0.2700"
      ]
     },
     "execution_count": 19,
     "metadata": {},
     "output_type": "execute_result"
    }
   ],
   "source": [
    "# by using Data sets\n",
    "import pandas as pd\n",
    "data=pd.read_csv('data.csv')\n",
    "data"
   ]
  },
  {
   "cell_type": "code",
   "execution_count": null,
   "metadata": {},
   "outputs": [],
   "source": []
  },
  {
   "cell_type": "code",
   "execution_count": 20,
   "metadata": {},
   "outputs": [
    {
     "data": {
      "text/plain": [
       "LinearRegression(copy_X=True, fit_intercept=True, n_jobs=None, normalize=False)"
      ]
     },
     "execution_count": 20,
     "metadata": {},
     "output_type": "execute_result"
    }
   ],
   "source": [
    "#Divide the dataset into two components that is x and y.\n",
    "#X will contain the column between 1 and 2 .y will contain the 2 column\n",
    "x=data.iloc[:,1:2].values\n",
    "y=data.iloc[:,2].values\n",
    "lin=LinearRegression()\n",
    "lin.fit(x,y)\n"
   ]
  },
  {
   "cell_type": "code",
   "execution_count": 21,
   "metadata": {},
   "outputs": [
    {
     "data": {
      "image/png": "[encoded data removed]",
      "text/plain": [
       "<Figure size 432x288 with 1 Axes>"
      ]
     },
     "metadata": {
      "needs_background": "light"
     },
     "output_type": "display_data"
    }
   ],
   "source": [
    "#visualization of \n",
    "plt.scatter(x,y,color='r')\n",
    "plt.plot(x,lin.predict(x),color='b')\n",
    "plt.title(\"Linear Regression\")\n",
    "plt.xlabel(\"Temparature\")\n",
    "plt.ylabel(\"Pressure\")\n",
    "plt.show()"
   ]
  },
  {
   "cell_type": "code",
   "execution_count": 22,
   "metadata": {},
   "outputs": [
    {
     "data": {
      "text/plain": [
       "LinearRegression(copy_X=True, fit_intercept=True, n_jobs=None, normalize=False)"
      ]
     },
     "execution_count": 22,
     "metadata": {},
     "output_type": "execute_result"
    }
   ],
   "source": [
    "#Fitting polynomial  Regression to the dataset\n",
    "poly=PolynomialFeatures(degree=4)\n",
    "# print(poly)\n",
    "x_poly=poly.fit_transform(x)\n",
    "poly.fit(x_poly,y)\n",
    "lin2=LinearRegression()\n",
    "lin2.fit(x_poly,y)\n"
   ]
  },
  {
   "cell_type": "code",
   "execution_count": 23,
   "metadata": {},
   "outputs": [
    {
     "data": {
      "text/plain": [
       "Text(0, 0.5, 'Pressure')"
      ]
     },
     "execution_count": 23,
     "metadata": {},
     "output_type": "execute_result"
    },
    {
     "data": {
      "image/png": "[encoded data removed]",
      "text/plain": [
       "<Figure size 432x288 with 1 Axes>"
      ]
     },
     "metadata": {
      "needs_background": "light"
     },
     "output_type": "display_data"
    }
   ],
   "source": [
    "plt.scatter(x,y,color='b')\n",
    "y_pre_poly=lin2.predict(poly.fit_transform(x))\n",
    "# print(y_pre_poly)\n",
    "plt.plot(x,y_pre_poly,'-',color='r',label=\"Predictions\")\n",
    "plt.legend()\n",
    "plt.title(\"Polynomial Regression\")\n",
    "plt.xlabel(\"Temparature\")\n",
    "plt.ylabel(\"Pressure\")"
   ]
  },
  {
   "cell_type": "code",
   "execution_count": 29,
   "metadata": {},
   "outputs": [
    {
     "data": {
      "text/plain": [
       "array([0.18333333])"
      ]
     },
     "execution_count": 29,
     "metadata": {},
     "output_type": "execute_result"
    }
   ],
   "source": [
    "#predicting a new result with linear regression\n",
    "lin.predict([[100.0]])"
   ]
  },
  {
   "cell_type": "code",
   "execution_count": 28,
   "metadata": {},
   "outputs": [
    {
     "data": {
      "text/plain": [
       "array([0.26973889])"
      ]
     },
     "execution_count": 28,
     "metadata": {},
     "output_type": "execute_result"
    }
   ],
   "source": [
    "#Predicting a new result with polynomial regression\n",
    "lin2.predict(poly.fit_transform([[100]]))"
   ]
  },
  {
   "cell_type": "code",
   "execution_count": null,
   "metadata": {},
   "outputs": [],
   "source": []
  },
  {
   "cell_type": "code",
   "execution_count": null,
   "metadata": {},
   "outputs": [],
   "source": [
    "l=[1,2,3,4]\n",
    "np.array(l)"
   ]
  },
  {
   "cell_type": "code",
   "execution_count": 30,
   "metadata": {},
   "outputs": [
    {
     "name": "stdout",
     "output_type": "stream",
     "text": [
      "ee\n"
     ]
    }
   ],
   "source": []
  },
  {
   "cell_type": "code",
   "execution_count": null,
   "metadata": {},
   "outputs": [],
   "source": []
  }
 ],
 "metadata": {
  "kernelspec": {
   "display_name": "Python 3",
   "language": "python",
   "name": "python3"
  },
  "language_info": {
   "codemirror_mode": {
    "name": "ipython",
    "version": 3
   },
   "file_extension": ".py",
   "mimetype": "text/x-python",
   "name": "python",
   "nbconvert_exporter": "python",
   "pygments_lexer": "ipython3",
   "version": "3.7.4"
  }
 },
 "nbformat": 4,
 "nbformat_minor": 2
}
