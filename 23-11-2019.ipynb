{
 "cells": [
  {
   "cell_type": "code",
   "execution_count": 11,
   "metadata": {},
   "outputs": [
    {
     "name": "stdout",
     "output_type": "stream",
     "text": [
      "5\n",
      "2 3 6 6 5\n",
      "[2, 3, 6, 6, 5]\n",
      "[2, 3, 5, 6]\n",
      "5\n"
     ]
    }
   ],
   "source": [
    "n=int(input())\n",
    "l=list(map(int,input().split()))[:n]\n",
    "# print(l)\n",
    "l=set(l)\n",
    "l=list(l)\n",
    "# print(l)\n",
    "l.sort()\n",
    "print(l[-2])"
   ]
  },
  {
   "cell_type": "code",
   "execution_count": 4,
   "metadata": {},
   "outputs": [
    {
     "name": "stdout",
     "output_type": "stream",
     "text": [
      "['__add__', '__class__', '__contains__', '__delattr__', '__delitem__', '__dir__', '__doc__', '__eq__', '__format__', '__ge__', '__getattribute__', '__getitem__', '__gt__', '__hash__', '__iadd__', '__imul__', '__init__', '__init_subclass__', '__iter__', '__le__', '__len__', '__lt__', '__mul__', '__ne__', '__new__', '__reduce__', '__reduce_ex__', '__repr__', '__reversed__', '__rmul__', '__setattr__', '__setitem__', '__sizeof__', '__str__', '__subclasshook__', 'append', 'clear', 'copy', 'count', 'extend', 'index', 'insert', 'pop', 'remove', 'reverse', 'sort']\n"
     ]
    }
   ],
   "source": [
    "print(dir(list))"
   ]
  },
  {
   "cell_type": "code",
   "execution_count": 17,
   "metadata": {},
   "outputs": [
    {
     "data": {
      "text/plain": [
       "[2, 5, 6, 7]"
      ]
     },
     "execution_count": 17,
     "metadata": {},
     "output_type": "execute_result"
    }
   ],
   "source": [
    "l1=[2,5,6,7]\n",
    "l2=[4,6,7,8]\n",
    "l1+l2\n",
    "l1"
   ]
  },
  {
   "cell_type": "code",
   "execution_count": 16,
   "metadata": {},
   "outputs": [
    {
     "data": {
      "text/plain": [
       "[2, 5, 6, 7, 4, 6, 7, 8]"
      ]
     },
     "execution_count": 16,
     "metadata": {},
     "output_type": "execute_result"
    }
   ],
   "source": [
    "l1.extend(l2)\n",
    "l1"
   ]
  },
  {
   "cell_type": "code",
   "execution_count": 19,
   "metadata": {},
   "outputs": [
    {
     "name": "stdout",
     "output_type": "stream",
     "text": [
      "['__add__', '__class__', '__contains__', '__delattr__', '__dir__', '__doc__', '__eq__', '__format__', '__ge__', '__getattribute__', '__getitem__', '__getnewargs__', '__gt__', '__hash__', '__init__', '__init_subclass__', '__iter__', '__le__', '__len__', '__lt__', '__mul__', '__ne__', '__new__', '__reduce__', '__reduce_ex__', '__repr__', '__rmul__', '__setattr__', '__sizeof__', '__str__', '__subclasshook__', 'count', 'index']\n"
     ]
    }
   ],
   "source": [
    "print(dir(tuple))"
   ]
  },
  {
   "cell_type": "code",
   "execution_count": 25,
   "metadata": {},
   "outputs": [],
   "source": [
    "l=[9,3,1,7,2,8,4,7]\n",
    "mid=len(l)//2\n"
   ]
  },
  {
   "cell_type": "code",
   "execution_count": 26,
   "metadata": {},
   "outputs": [],
   "source": [
    "l=l[:mid].sort()+l[mid:].sort(reverse=True)\n",
    "l"
   ]
  },
  {
   "cell_type": "code",
   "execution_count": 1,
   "metadata": {},
   "outputs": [],
   "source": [
    "import calendar\n",
    "\n"
   ]
  },
  {
   "cell_type": "code",
   "execution_count": 2,
   "metadata": {},
   "outputs": [
    {
     "data": {
      "text/plain": [
       "5"
      ]
     },
     "execution_count": 2,
     "metadata": {},
     "output_type": "execute_result"
    }
   ],
   "source": [
    "calendar.leapdays(2000,2020)"
   ]
  },
  {
   "cell_type": "code",
   "execution_count": 3,
   "metadata": {},
   "outputs": [
    {
     "data": {
      "text/plain": [
       "False"
      ]
     },
     "execution_count": 3,
     "metadata": {},
     "output_type": "execute_result"
    }
   ],
   "source": [
    "calendar.isleap(2011)"
   ]
  },
  {
   "cell_type": "code",
   "execution_count": 6,
   "metadata": {},
   "outputs": [
    {
     "name": "stdout",
     "output_type": "stream",
     "text": [
      "2000 2004 2008 2012 2016 2020 "
     ]
    }
   ],
   "source": [
    "for i in range(2000,2021):\n",
    "    if(calendar.isleap(i)):\n",
    "        print(i,end=\" \")"
   ]
  },
  {
   "cell_type": "code",
   "execution_count": 7,
   "metadata": {},
   "outputs": [],
   "source": [
    "from datetime import date"
   ]
  },
  {
   "cell_type": "code",
   "execution_count": 8,
   "metadata": {},
   "outputs": [
    {
     "data": {
      "text/plain": [
       "'21 Nov 19'"
      ]
     },
     "execution_count": 8,
     "metadata": {},
     "output_type": "execute_result"
    }
   ],
   "source": [
    "date.today().strftime(\"%d %b %y\")"
   ]
  },
  {
   "cell_type": "code",
   "execution_count": 9,
   "metadata": {},
   "outputs": [],
   "source": [
    "import calendar"
   ]
  },
  {
   "cell_type": "code",
   "execution_count": 10,
   "metadata": {},
   "outputs": [
    {
     "name": "stdout",
     "output_type": "stream",
     "text": [
      "                                  2019\n",
      "\n",
      "      January                   February                   March\n",
      "Mo Tu We Th Fr Sa Su      Mo Tu We Th Fr Sa Su      Mo Tu We Th Fr Sa Su\n",
      "    1  2  3  4  5  6                   1  2  3                   1  2  3\n",
      " 7  8  9 10 11 12 13       4  5  6  7  8  9 10       4  5  6  7  8  9 10\n",
      "14 15 16 17 18 19 20      11 12 13 14 15 16 17      11 12 13 14 15 16 17\n",
      "21 22 23 24 25 26 27      18 19 20 21 22 23 24      18 19 20 21 22 23 24\n",
      "28 29 30 31               25 26 27 28               25 26 27 28 29 30 31\n",
      "\n",
      "       April                      May                       June\n",
      "Mo Tu We Th Fr Sa Su      Mo Tu We Th Fr Sa Su      Mo Tu We Th Fr Sa Su\n",
      " 1  2  3  4  5  6  7             1  2  3  4  5                      1  2\n",
      " 8  9 10 11 12 13 14       6  7  8  9 10 11 12       3  4  5  6  7  8  9\n",
      "15 16 17 18 19 20 21      13 14 15 16 17 18 19      10 11 12 13 14 15 16\n",
      "22 23 24 25 26 27 28      20 21 22 23 24 25 26      17 18 19 20 21 22 23\n",
      "29 30                     27 28 29 30 31            24 25 26 27 28 29 30\n",
      "\n",
      "        July                     August                  September\n",
      "Mo Tu We Th Fr Sa Su      Mo Tu We Th Fr Sa Su      Mo Tu We Th Fr Sa Su\n",
      " 1  2  3  4  5  6  7                1  2  3  4                         1\n",
      " 8  9 10 11 12 13 14       5  6  7  8  9 10 11       2  3  4  5  6  7  8\n",
      "15 16 17 18 19 20 21      12 13 14 15 16 17 18       9 10 11 12 13 14 15\n",
      "22 23 24 25 26 27 28      19 20 21 22 23 24 25      16 17 18 19 20 21 22\n",
      "29 30 31                  26 27 28 29 30 31         23 24 25 26 27 28 29\n",
      "                                                    30\n",
      "\n",
      "      October                   November                  December\n",
      "Mo Tu We Th Fr Sa Su      Mo Tu We Th Fr Sa Su      Mo Tu We Th Fr Sa Su\n",
      "    1  2  3  4  5  6                   1  2  3                         1\n",
      " 7  8  9 10 11 12 13       4  5  6  7  8  9 10       2  3  4  5  6  7  8\n",
      "14 15 16 17 18 19 20      11 12 13 14 15 16 17       9 10 11 12 13 14 15\n",
      "21 22 23 24 25 26 27      18 19 20 21 22 23 24      16 17 18 19 20 21 22\n",
      "28 29 30 31               25 26 27 28 29 30         23 24 25 26 27 28 29\n",
      "                                                    30 31\n"
     ]
    }
   ],
   "source": [
    "calendar.prcal(2019)"
   ]
  },
  {
   "cell_type": "code",
   "execution_count": 11,
   "metadata": {},
   "outputs": [
    {
     "name": "stdout",
     "output_type": "stream",
     "text": [
      "['Calendar', 'EPOCH', 'FRIDAY', 'February', 'HTMLCalendar', 'IllegalMonthError', 'IllegalWeekdayError', 'January', 'LocaleHTMLCalendar', 'LocaleTextCalendar', 'MONDAY', 'SATURDAY', 'SUNDAY', 'THURSDAY', 'TUESDAY', 'TextCalendar', 'WEDNESDAY', '_EPOCH_ORD', '__all__', '__builtins__', '__cached__', '__doc__', '__file__', '__loader__', '__name__', '__package__', '__spec__', '_colwidth', '_locale', '_localized_day', '_localized_month', '_spacing', 'c', 'calendar', 'datetime', 'day_abbr', 'day_name', 'different_locale', 'error', 'firstweekday', 'format', 'formatstring', 'isleap', 'leapdays', 'main', 'mdays', 'month', 'month_abbr', 'month_name', 'monthcalendar', 'monthlen', 'monthrange', 'nextmonth', 'prcal', 'prevmonth', 'prmonth', 'prweek', 'repeat', 'setfirstweekday', 'sys', 'timegm', 'week', 'weekday', 'weekheader']\n"
     ]
    }
   ],
   "source": [
    "print(dir(calendar))"
   ]
  },
  {
   "cell_type": "code",
   "execution_count": 12,
   "metadata": {},
   "outputs": [],
   "source": [
    "from tkinter import *"
   ]
  },
  {
   "cell_type": "code",
   "execution_count": 19,
   "metadata": {},
   "outputs": [],
   "source": [
    "tk=Tk()\n",
    "canvas=Canvas(tk,width=400,height=400)\n",
    "canvas.pack()\n",
    "canvas.create_arc(10,10,200,100,extent=180,style=ARC)\n",
    "mainloop()"
   ]
  },
  {
   "cell_type": "code",
   "execution_count": 1,
   "metadata": {},
   "outputs": [],
   "source": [
    "import turtle\n",
    "t=turtle.Pen()\n",
    "t.color(1,0,0)\n",
    "t.begin_fill()\n",
    "t.forward(100)\n",
    "t.left(90)\n",
    "t.forward(20)\n",
    "t.right(90)\n",
    "t.forward(20)\n",
    "t.left(100)\n",
    "t.forward(20)\n",
    "t.left(100)"
   ]
  },
  {
   "cell_type": "markdown",
   "metadata": {},
   "source": [
    "#### Many popular python toolboxes/Libraris:\n",
    "- Numpy\n",
    "- Scipy\n",
    "- Scikit-Learn\n",
    "#### Visualization Libraries;\n",
    "- matplot\n",
    "- seaborn\n",
    "- Plotly\n"
   ]
  },
  {
   "cell_type": "code",
   "execution_count": 6,
   "metadata": {},
   "outputs": [
    {
     "name": "stdout",
     "output_type": "stream",
     "text": [
      "['ALLOW_THREADS', 'AxisError', 'BUFSIZE', 'CLIP', 'ComplexWarning', 'DataSource', 'ERR_CALL', 'ERR_DEFAULT', 'ERR_IGNORE', 'ERR_LOG', 'ERR_PRINT', 'ERR_RAISE', 'ERR_WARN', 'FLOATING_POINT_SUPPORT', 'FPE_DIVIDEBYZERO', 'FPE_INVALID', 'FPE_OVERFLOW', 'FPE_UNDERFLOW', 'False_', 'Inf', 'Infinity', 'MAXDIMS', 'MAY_SHARE_BOUNDS', 'MAY_SHARE_EXACT', 'MachAr', 'ModuleDeprecationWarning', 'NAN', 'NINF', 'NZERO', 'NaN', 'PINF', 'PZERO', 'RAISE', 'RankWarning', 'SHIFT_DIVIDEBYZERO', 'SHIFT_INVALID', 'SHIFT_OVERFLOW', 'SHIFT_UNDERFLOW', 'ScalarType', 'Tester', 'TooHardError', 'True_', 'UFUNC_BUFSIZE_DEFAULT', 'UFUNC_PYVALS_NAME', 'VisibleDeprecationWarning', 'WRAP', '_NoValue', '_UFUNC_API', '__NUMPY_SETUP__', '__all__', '__builtins__', '__cached__', '__config__', '__doc__', '__file__', '__git_revision__', '__loader__', '__mkl_version__', '__name__', '__package__', '__path__', '__spec__', '__version__', '_add_newdoc_ufunc', '_arg', '_distributor_init', '_globals', '_mat', '_mklinit', '_pytesttester', 'abs', 'absolute', 'absolute_import', 'add', 'add_docstring', 'add_newdoc', 'add_newdoc_ufunc', 'alen', 'all', 'allclose', 'alltrue', 'amax', 'amin', 'angle', 'any', 'append', 'apply_along_axis', 'apply_over_axes', 'arange', 'arccos', 'arccosh', 'arcsin', 'arcsinh', 'arctan', 'arctan2', 'arctanh', 'argmax', 'argmin', 'argpartition', 'argsort', 'argwhere', 'around', 'array', 'array2string', 'array_equal', 'array_equiv', 'array_repr', 'array_split', 'array_str', 'asanyarray', 'asarray', 'asarray_chkfinite', 'ascontiguousarray', 'asfarray', 'asfortranarray', 'asmatrix', 'asscalar', 'atleast_1d', 'atleast_2d', 'atleast_3d', 'average', 'bartlett', 'base_repr', 'binary_repr', 'bincount', 'bitwise_and', 'bitwise_not', 'bitwise_or', 'bitwise_xor', 'blackman', 'block', 'bmat', 'bool', 'bool8', 'bool_', 'broadcast', 'broadcast_arrays', 'broadcast_to', 'busday_count', 'busday_offset', 'busdaycalendar', 'byte', 'byte_bounds', 'bytes0', 'bytes_', 'c_', 'can_cast', 'cast', 'cbrt', 'cdouble', 'ceil', 'cfloat', 'char', 'character', 'chararray', 'choose', 'clip', 'clongdouble', 'clongfloat', 'column_stack', 'common_type', 'compare_chararrays', 'compat', 'complex', 'complex128', 'complex64', 'complex_', 'complexfloating', 'compress', 'concatenate', 'conj', 'conjugate', 'convolve', 'copy', 'copysign', 'copyto', 'core', 'corrcoef', 'correlate', 'cos', 'cosh', 'count_nonzero', 'cov', 'cross', 'csingle', 'ctypeslib', 'cumprod', 'cumproduct', 'cumsum', 'datetime64', 'datetime_as_string', 'datetime_data', 'deg2rad', 'degrees', 'delete', 'deprecate', 'deprecate_with_doc', 'diag', 'diag_indices', 'diag_indices_from', 'diagflat', 'diagonal', 'diff', 'digitize', 'disp', 'divide', 'division', 'divmod', 'dot', 'double', 'dsplit', 'dstack', 'dtype', 'e', 'ediff1d', 'einsum', 'einsum_path', 'emath', 'empty', 'empty_like', 'equal', 'errstate', 'euler_gamma', 'exp', 'exp2', 'expand_dims', 'expm1', 'extract', 'eye', 'fabs', 'fastCopyAndTranspose', 'fft', 'fill_diagonal', 'find_common_type', 'finfo', 'fix', 'flatiter', 'flatnonzero', 'flexible', 'flip', 'fliplr', 'flipud', 'float', 'float16', 'float32', 'float64', 'float_', 'float_power', 'floating', 'floor', 'floor_divide', 'fmax', 'fmin', 'fmod', 'format_float_positional', 'format_float_scientific', 'format_parser', 'frexp', 'frombuffer', 'fromfile', 'fromfunction', 'fromiter', 'frompyfunc', 'fromregex', 'fromstring', 'full', 'full_like', 'fv', 'gcd', 'generic', 'genfromtxt', 'geomspace', 'get_array_wrap', 'get_include', 'get_printoptions', 'getbufsize', 'geterr', 'geterrcall', 'geterrobj', 'gradient', 'greater', 'greater_equal', 'half', 'hamming', 'hanning', 'heaviside', 'histogram', 'histogram2d', 'histogram_bin_edges', 'histogramdd', 'hsplit', 'hstack', 'hypot', 'i0', 'identity', 'iinfo', 'imag', 'in1d', 'index_exp', 'indices', 'inexact', 'inf', 'info', 'infty', 'inner', 'insert', 'int', 'int0', 'int16', 'int32', 'int64', 'int8', 'int_', 'int_asbuffer', 'intc', 'integer', 'interp', 'intersect1d', 'intp', 'invert', 'ipmt', 'irr', 'is_busday', 'isclose', 'iscomplex', 'iscomplexobj', 'isfinite', 'isfortran', 'isin', 'isinf', 'isnan', 'isnat', 'isneginf', 'isposinf', 'isreal', 'isrealobj', 'isscalar', 'issctype', 'issubclass_', 'issubdtype', 'issubsctype', 'iterable', 'ix_', 'kaiser', 'kron', 'lcm', 'ldexp', 'left_shift', 'less', 'less_equal', 'lexsort', 'lib', 'linalg', 'linspace', 'little_endian', 'load', 'loads', 'loadtxt', 'log', 'log10', 'log1p', 'log2', 'logaddexp', 'logaddexp2', 'logical_and', 'logical_not', 'logical_or', 'logical_xor', 'logspace', 'long', 'longcomplex', 'longdouble', 'longfloat', 'longlong', 'lookfor', 'ma', 'mafromtxt', 'mask_indices', 'mat', 'math', 'matmul', 'matrix', 'matrixlib', 'max', 'maximum', 'maximum_sctype', 'may_share_memory', 'mean', 'median', 'memmap', 'meshgrid', 'mgrid', 'min', 'min_scalar_type', 'minimum', 'mintypecode', 'mirr', 'mod', 'modf', 'moveaxis', 'msort', 'multiply', 'nan', 'nan_to_num', 'nanargmax', 'nanargmin', 'nancumprod', 'nancumsum', 'nanmax', 'nanmean', 'nanmedian', 'nanmin', 'nanpercentile', 'nanprod', 'nanquantile', 'nanstd', 'nansum', 'nanvar', 'nbytes', 'ndarray', 'ndenumerate', 'ndfromtxt', 'ndim', 'ndindex', 'nditer', 'negative', 'nested_iters', 'newaxis', 'nextafter', 'nonzero', 'not_equal', 'nper', 'npv', 'numarray', 'number', 'obj2sctype', 'object', 'object0', 'object_', 'ogrid', 'oldnumeric', 'ones', 'ones_like', 'outer', 'packbits', 'pad', 'partition', 'percentile', 'pi', 'piecewise', 'place', 'pmt', 'poly', 'poly1d', 'polyadd', 'polyder', 'polydiv', 'polyfit', 'polyint', 'polymul', 'polynomial', 'polysub', 'polyval', 'positive', 'power', 'ppmt', 'print_function', 'printoptions', 'prod', 'product', 'promote_types', 'ptp', 'put', 'put_along_axis', 'putmask', 'pv', 'quantile', 'r_', 'rad2deg', 'radians', 'random', 'rank', 'rate', 'ravel', 'ravel_multi_index', 'real', 'real_if_close', 'rec', 'recarray', 'recfromcsv', 'recfromtxt', 'reciprocal', 'record', 'remainder', 'repeat', 'require', 'reshape', 'resize', 'result_type', 'right_shift', 'rint', 'roll', 'rollaxis', 'roots', 'rot90', 'round', 'round_', 'row_stack', 's_', 'safe_eval', 'save', 'savetxt', 'savez', 'savez_compressed', 'sctype2char', 'sctypeDict', 'sctypeNA', 'sctypes', 'searchsorted', 'select', 'set_numeric_ops', 'set_printoptions', 'set_string_function', 'setbufsize', 'setdiff1d', 'seterr', 'seterrcall', 'seterrobj', 'setxor1d', 'shape', 'shares_memory', 'short', 'show_config', 'sign', 'signbit', 'signedinteger', 'sin', 'sinc', 'single', 'singlecomplex', 'sinh', 'size', 'sometrue', 'sort', 'sort_complex', 'source', 'spacing', 'split', 'sqrt', 'square', 'squeeze', 'stack', 'std', 'str', 'str0', 'str_', 'string_', 'subtract', 'sum', 'swapaxes', 'sys', 'take', 'take_along_axis', 'tan', 'tanh', 'tensordot', 'test', 'testing', 'tile', 'timedelta64', 'trace', 'tracemalloc_domain', 'transpose', 'trapz', 'tri', 'tril', 'tril_indices', 'tril_indices_from', 'trim_zeros', 'triu', 'triu_indices', 'triu_indices_from', 'true_divide', 'trunc', 'typeDict', 'typeNA', 'typecodes', 'typename', 'ubyte', 'ufunc', 'uint', 'uint0', 'uint16', 'uint32', 'uint64', 'uint8', 'uintc', 'uintp', 'ulonglong', 'unicode', 'unicode_', 'union1d', 'unique', 'unpackbits', 'unravel_index', 'unsignedinteger', 'unwrap', 'ushort', 'vander', 'var', 'vdot', 'vectorize', 'version', 'void', 'void0', 'vsplit', 'vstack', 'warnings', 'where', 'who', 'zeros', 'zeros_like']\n"
     ]
    }
   ],
   "source": [
    "import numpy as np\n",
    "print(dir(np))"
   ]
  },
  {
   "cell_type": "code",
   "execution_count": 29,
   "metadata": {},
   "outputs": [
    {
     "data": {
      "text/plain": [
       "'1.16.5'"
      ]
     },
     "execution_count": 29,
     "metadata": {},
     "output_type": "execute_result"
    }
   ],
   "source": [
    "data=np.random.randn(3,3)\n",
    "data\n",
    "np.__version__"
   ]
  },
  {
   "cell_type": "code",
   "execution_count": 23,
   "metadata": {},
   "outputs": [
    {
     "data": {
      "text/plain": [
       "array([[-10.6595512 ,   6.33298381,   3.59636792],\n",
       "       [ -4.28447734, -12.32112159,  -6.99713011]])"
      ]
     },
     "execution_count": 23,
     "metadata": {},
     "output_type": "execute_result"
    }
   ],
   "source": [
    "data*10"
   ]
  },
  {
   "cell_type": "code",
   "execution_count": 14,
   "metadata": {},
   "outputs": [
    {
     "data": {
      "text/plain": [
       "array([[ 3.77099854, -1.15316154, -1.3849369 ],\n",
       "       [-1.72291862,  1.66487852, -0.60171463]])"
      ]
     },
     "execution_count": 14,
     "metadata": {},
     "output_type": "execute_result"
    }
   ],
   "source": [
    "data+data"
   ]
  },
  {
   "cell_type": "code",
   "execution_count": 15,
   "metadata": {},
   "outputs": [
    {
     "data": {
      "text/plain": [
       "array([[1., 2., 3.],\n",
       "       [4., 5., 6.]])"
      ]
     },
     "execution_count": 15,
     "metadata": {},
     "output_type": "execute_result"
    }
   ],
   "source": [
    "arr=np.array([[1.,2.,3.],[4.,5.,6.]])\n",
    "arr"
   ]
  },
  {
   "cell_type": "code",
   "execution_count": 16,
   "metadata": {},
   "outputs": [
    {
     "data": {
      "text/plain": [
       "array([[ 1.,  4.,  9.],\n",
       "       [16., 25., 36.]])"
      ]
     },
     "execution_count": 16,
     "metadata": {},
     "output_type": "execute_result"
    }
   ],
   "source": [
    "arr*arr"
   ]
  },
  {
   "cell_type": "code",
   "execution_count": 17,
   "metadata": {},
   "outputs": [
    {
     "data": {
      "text/plain": [
       "array([[0., 0., 0.],\n",
       "       [0., 0., 0.]])"
      ]
     },
     "execution_count": 17,
     "metadata": {},
     "output_type": "execute_result"
    }
   ],
   "source": [
    "arr-arr"
   ]
  },
  {
   "cell_type": "code",
   "execution_count": 18,
   "metadata": {},
   "outputs": [
    {
     "data": {
      "text/plain": [
       "array([[1.        , 0.5       , 0.33333333],\n",
       "       [0.25      , 0.2       , 0.16666667]])"
      ]
     },
     "execution_count": 18,
     "metadata": {},
     "output_type": "execute_result"
    }
   ],
   "source": [
    "1/arr"
   ]
  },
  {
   "cell_type": "code",
   "execution_count": 19,
   "metadata": {},
   "outputs": [
    {
     "data": {
      "text/plain": [
       "array([[1.        , 1.41421356, 1.73205081],\n",
       "       [2.        , 2.23606798, 2.44948974]])"
      ]
     },
     "execution_count": 19,
     "metadata": {},
     "output_type": "execute_result"
    }
   ],
   "source": [
    "arr**0.5"
   ]
  },
  {
   "cell_type": "code",
   "execution_count": 21,
   "metadata": {},
   "outputs": [
    {
     "data": {
      "text/plain": [
       "array([[False,  True, False],\n",
       "       [ True, False,  True]])"
      ]
     },
     "execution_count": 21,
     "metadata": {},
     "output_type": "execute_result"
    }
   ],
   "source": [
    "arr2=np.array([[0.,4.,1.],[7.,2.,12.]])\n",
    "arr2>arr"
   ]
  },
  {
   "cell_type": "code",
   "execution_count": 39,
   "metadata": {},
   "outputs": [
    {
     "data": {
      "text/plain": [
       "array([0, 1, 2, 3, 4, 5, 6, 7, 8, 9])"
      ]
     },
     "execution_count": 39,
     "metadata": {},
     "output_type": "execute_result"
    }
   ],
   "source": [
    "arr=np.arange(10)\n",
    "arr"
   ]
  },
  {
   "cell_type": "code",
   "execution_count": 35,
   "metadata": {},
   "outputs": [],
   "source": [
    "np.arange?"
   ]
  },
  {
   "cell_type": "code",
   "execution_count": 40,
   "metadata": {},
   "outputs": [
    {
     "data": {
      "text/plain": [
       "5"
      ]
     },
     "execution_count": 40,
     "metadata": {},
     "output_type": "execute_result"
    }
   ],
   "source": [
    "arr[5]"
   ]
  },
  {
   "cell_type": "code",
   "execution_count": 41,
   "metadata": {},
   "outputs": [
    {
     "data": {
      "text/plain": [
       "array([5, 6, 7])"
      ]
     },
     "execution_count": 41,
     "metadata": {},
     "output_type": "execute_result"
    }
   ],
   "source": [
    "arr[5:8]"
   ]
  },
  {
   "cell_type": "code",
   "execution_count": 42,
   "metadata": {},
   "outputs": [],
   "source": [
    "arr[5:8]=12"
   ]
  },
  {
   "cell_type": "code",
   "execution_count": 44,
   "metadata": {},
   "outputs": [
    {
     "data": {
      "text/plain": [
       "array([ 0,  1,  2,  3,  4, 12, 12, 12,  8,  9])"
      ]
     },
     "execution_count": 44,
     "metadata": {},
     "output_type": "execute_result"
    }
   ],
   "source": [
    "arr"
   ]
  },
  {
   "cell_type": "code",
   "execution_count": 45,
   "metadata": {},
   "outputs": [],
   "source": [
    "arr_slice=arr[5:8]\n"
   ]
  },
  {
   "cell_type": "code",
   "execution_count": 46,
   "metadata": {},
   "outputs": [
    {
     "data": {
      "text/plain": [
       "array([12, 12, 12])"
      ]
     },
     "execution_count": 46,
     "metadata": {},
     "output_type": "execute_result"
    }
   ],
   "source": [
    "arr_slice"
   ]
  },
  {
   "cell_type": "code",
   "execution_count": 47,
   "metadata": {},
   "outputs": [],
   "source": [
    "arr_slice[1]=12345"
   ]
  },
  {
   "cell_type": "code",
   "execution_count": 48,
   "metadata": {},
   "outputs": [
    {
     "data": {
      "text/plain": [
       "array([    0,     1,     2,     3,     4,    12, 12345,    12,     8,\n",
       "           9])"
      ]
     },
     "execution_count": 48,
     "metadata": {},
     "output_type": "execute_result"
    }
   ],
   "source": [
    "arr"
   ]
  },
  {
   "cell_type": "code",
   "execution_count": 49,
   "metadata": {},
   "outputs": [],
   "source": [
    "# bare slice\n",
    "arr_slice[:]=64"
   ]
  },
  {
   "cell_type": "code",
   "execution_count": 50,
   "metadata": {},
   "outputs": [
    {
     "data": {
      "text/plain": [
       "array([ 0,  1,  2,  3,  4, 64, 64, 64,  8,  9])"
      ]
     },
     "execution_count": 50,
     "metadata": {},
     "output_type": "execute_result"
    }
   ],
   "source": [
    "arr"
   ]
  },
  {
   "cell_type": "code",
   "execution_count": 51,
   "metadata": {},
   "outputs": [
    {
     "data": {
      "text/plain": [
       "array([ 0,  1,  2,  3,  4, 64, 64, 64,  8,  9])"
      ]
     },
     "execution_count": 51,
     "metadata": {},
     "output_type": "execute_result"
    }
   ],
   "source": [
    "# Indexing with slices\n",
    "arr"
   ]
  },
  {
   "cell_type": "code",
   "execution_count": 52,
   "metadata": {},
   "outputs": [
    {
     "data": {
      "text/plain": [
       "array([ 1,  2,  3,  4, 64])"
      ]
     },
     "execution_count": 52,
     "metadata": {},
     "output_type": "execute_result"
    }
   ],
   "source": [
    "arr[1:6]"
   ]
  },
  {
   "cell_type": "code",
   "execution_count": 58,
   "metadata": {},
   "outputs": [
    {
     "data": {
      "text/plain": [
       "array([[1, 2, 3],\n",
       "       [4, 5, 6],\n",
       "       [7, 8, 9]])"
      ]
     },
     "execution_count": 58,
     "metadata": {},
     "output_type": "execute_result"
    }
   ],
   "source": [
    "# 2-dimensional array slicing\n",
    "arr2d=np.array([[1,2,3],[4,5,6],[7,8,9]])\n",
    "arr2d"
   ]
  },
  {
   "cell_type": "code",
   "execution_count": 59,
   "metadata": {},
   "outputs": [
    {
     "data": {
      "text/plain": [
       "array([[1, 2, 3],\n",
       "       [4, 5, 6]])"
      ]
     },
     "execution_count": 59,
     "metadata": {},
     "output_type": "execute_result"
    }
   ],
   "source": [
    "arr2d[:2]"
   ]
  },
  {
   "cell_type": "code",
   "execution_count": 60,
   "metadata": {},
   "outputs": [
    {
     "data": {
      "text/plain": [
       "array([[2, 3],\n",
       "       [5, 6]])"
      ]
     },
     "execution_count": 60,
     "metadata": {},
     "output_type": "execute_result"
    }
   ],
   "source": [
    "arr2d[:2,1:]"
   ]
  },
  {
   "cell_type": "code",
   "execution_count": 62,
   "metadata": {},
   "outputs": [
    {
     "data": {
      "text/plain": [
       "array([4, 5])"
      ]
     },
     "execution_count": 62,
     "metadata": {},
     "output_type": "execute_result"
    }
   ],
   "source": [
    "arr2d[1,:2]"
   ]
  },
  {
   "cell_type": "code",
   "execution_count": 63,
   "metadata": {},
   "outputs": [
    {
     "data": {
      "text/plain": [
       "array([3, 6])"
      ]
     },
     "execution_count": 63,
     "metadata": {},
     "output_type": "execute_result"
    }
   ],
   "source": [
    "arr2d[:2,2]"
   ]
  },
  {
   "cell_type": "code",
   "execution_count": 64,
   "metadata": {},
   "outputs": [
    {
     "data": {
      "text/plain": [
       "array([[1],\n",
       "       [4],\n",
       "       [7]])"
      ]
     },
     "execution_count": 64,
     "metadata": {},
     "output_type": "execute_result"
    }
   ],
   "source": [
    "arr2d[:,:1]"
   ]
  },
  {
   "cell_type": "code",
   "execution_count": 65,
   "metadata": {},
   "outputs": [
    {
     "data": {
      "text/plain": [
       "array([[1, 0, 0],\n",
       "       [4, 0, 0],\n",
       "       [7, 8, 9]])"
      ]
     },
     "execution_count": 65,
     "metadata": {},
     "output_type": "execute_result"
    }
   ],
   "source": [
    "arr2d[:2,1:]=0\n",
    "arr2d"
   ]
  },
  {
   "cell_type": "code",
   "execution_count": 104,
   "metadata": {},
   "outputs": [],
   "source": [
    "#Boolean Indexing\n",
    "names=np.array(['vijay','kumar','hari','kumar','deepu','vjay','vijay'])\n",
    "data=np.random.randn(7,4)"
   ]
  },
  {
   "cell_type": "code",
   "execution_count": 105,
   "metadata": {},
   "outputs": [
    {
     "data": {
      "text/plain": [
       "array(['vijay', 'kumar', 'hari', 'kumar', 'deepu', 'vjay', 'vijay'],\n",
       "      dtype='<U5')"
      ]
     },
     "execution_count": 105,
     "metadata": {},
     "output_type": "execute_result"
    }
   ],
   "source": [
    "names"
   ]
  },
  {
   "cell_type": "code",
   "execution_count": 106,
   "metadata": {},
   "outputs": [
    {
     "data": {
      "text/plain": [
       "array([[ 0.51018796,  1.08215425, -0.17210116,  0.01481317],\n",
       "       [-0.6455764 ,  0.26201852, -0.72978616, -0.61610487],\n",
       "       [-1.00436318,  0.06379432,  0.06540656, -2.39200106],\n",
       "       [-0.40264833, -0.2871022 ,  2.52768341,  1.12993963],\n",
       "       [-0.63188696,  0.60791604, -1.83480869,  1.0682008 ],\n",
       "       [-1.42514128,  0.24407507, -0.98368793,  1.45128014],\n",
       "       [-0.389448  ,  0.01501553,  0.62184353, -0.49223173]])"
      ]
     },
     "execution_count": 106,
     "metadata": {},
     "output_type": "execute_result"
    }
   ],
   "source": [
    "data"
   ]
  },
  {
   "cell_type": "code",
   "execution_count": 107,
   "metadata": {},
   "outputs": [
    {
     "data": {
      "text/plain": [
       "array([ True, False, False, False, False, False,  True])"
      ]
     },
     "execution_count": 107,
     "metadata": {},
     "output_type": "execute_result"
    }
   ],
   "source": [
    "names=='vijay'"
   ]
  },
  {
   "cell_type": "code",
   "execution_count": 108,
   "metadata": {},
   "outputs": [
    {
     "data": {
      "text/plain": [
       "array([[ 0.51018796,  1.08215425, -0.17210116,  0.01481317],\n",
       "       [-0.389448  ,  0.01501553,  0.62184353, -0.49223173]])"
      ]
     },
     "execution_count": 108,
     "metadata": {},
     "output_type": "execute_result"
    }
   ],
   "source": [
    "data[names=='vijay']"
   ]
  },
  {
   "cell_type": "code",
   "execution_count": 109,
   "metadata": {},
   "outputs": [
    {
     "data": {
      "text/plain": [
       "array([[ 1.08215425, -0.17210116,  0.01481317],\n",
       "       [ 0.01501553,  0.62184353, -0.49223173]])"
      ]
     },
     "execution_count": 109,
     "metadata": {},
     "output_type": "execute_result"
    }
   ],
   "source": [
    "data[names=='vijay',1:]"
   ]
  },
  {
   "cell_type": "code",
   "execution_count": 110,
   "metadata": {},
   "outputs": [
    {
     "data": {
      "text/plain": [
       "array([ 0.01481317, -0.49223173])"
      ]
     },
     "execution_count": 110,
     "metadata": {},
     "output_type": "execute_result"
    }
   ],
   "source": [
    "data[names=='vijay',3]"
   ]
  },
  {
   "cell_type": "code",
   "execution_count": 111,
   "metadata": {},
   "outputs": [
    {
     "data": {
      "text/plain": [
       "array([False,  True,  True,  True,  True,  True, False])"
      ]
     },
     "execution_count": 111,
     "metadata": {},
     "output_type": "execute_result"
    }
   ],
   "source": [
    "names!='vijay'"
   ]
  },
  {
   "cell_type": "code",
   "execution_count": 112,
   "metadata": {},
   "outputs": [
    {
     "data": {
      "text/plain": [
       "array([[-0.6455764 ,  0.26201852, -0.72978616, -0.61610487],\n",
       "       [-1.00436318,  0.06379432,  0.06540656, -2.39200106],\n",
       "       [-0.40264833, -0.2871022 ,  2.52768341,  1.12993963],\n",
       "       [-0.63188696,  0.60791604, -1.83480869,  1.0682008 ],\n",
       "       [-1.42514128,  0.24407507, -0.98368793,  1.45128014]])"
      ]
     },
     "execution_count": 112,
     "metadata": {},
     "output_type": "execute_result"
    }
   ],
   "source": [
    "data[names!='vijay']"
   ]
  },
  {
   "cell_type": "code",
   "execution_count": 113,
   "metadata": {},
   "outputs": [
    {
     "name": "stdout",
     "output_type": "stream",
     "text": [
      "[ True False False False False False  True]\n"
     ]
    },
    {
     "data": {
      "text/plain": [
       "array([[-0.6455764 ,  0.26201852, -0.72978616, -0.61610487],\n",
       "       [-1.00436318,  0.06379432,  0.06540656, -2.39200106],\n",
       "       [-0.40264833, -0.2871022 ,  2.52768341,  1.12993963],\n",
       "       [-0.63188696,  0.60791604, -1.83480869,  1.0682008 ],\n",
       "       [-1.42514128,  0.24407507, -0.98368793,  1.45128014]])"
      ]
     },
     "execution_count": 113,
     "metadata": {},
     "output_type": "execute_result"
    }
   ],
   "source": [
    "cond=names=='vijay'\n",
    "print(cond)\n",
    "data[~cond]"
   ]
  },
  {
   "cell_type": "code",
   "execution_count": 114,
   "metadata": {},
   "outputs": [
    {
     "data": {
      "text/plain": [
       "array([ True,  True, False,  True, False, False,  True])"
      ]
     },
     "execution_count": 114,
     "metadata": {},
     "output_type": "execute_result"
    }
   ],
   "source": [
    "mask=(names=='vijay') | (names=='kumar')\n",
    "mask"
   ]
  },
  {
   "cell_type": "code",
   "execution_count": 115,
   "metadata": {},
   "outputs": [
    {
     "data": {
      "text/plain": [
       "array([[ 0.51018796,  1.08215425, -0.17210116,  0.01481317],\n",
       "       [-0.6455764 ,  0.26201852, -0.72978616, -0.61610487],\n",
       "       [-0.40264833, -0.2871022 ,  2.52768341,  1.12993963],\n",
       "       [-0.389448  ,  0.01501553,  0.62184353, -0.49223173]])"
      ]
     },
     "execution_count": 115,
     "metadata": {},
     "output_type": "execute_result"
    }
   ],
   "source": [
    "data[mask]"
   ]
  },
  {
   "cell_type": "code",
   "execution_count": 116,
   "metadata": {},
   "outputs": [],
   "source": [
    "data[data<0]=0"
   ]
  },
  {
   "cell_type": "code",
   "execution_count": 117,
   "metadata": {},
   "outputs": [
    {
     "data": {
      "text/plain": [
       "array([[0.51018796, 1.08215425, 0.        , 0.01481317],\n",
       "       [0.        , 0.26201852, 0.        , 0.        ],\n",
       "       [0.        , 0.06379432, 0.06540656, 0.        ],\n",
       "       [0.        , 0.        , 2.52768341, 1.12993963],\n",
       "       [0.        , 0.60791604, 0.        , 1.0682008 ],\n",
       "       [0.        , 0.24407507, 0.        , 1.45128014],\n",
       "       [0.        , 0.01501553, 0.62184353, 0.        ]])"
      ]
     },
     "execution_count": 117,
     "metadata": {},
     "output_type": "execute_result"
    }
   ],
   "source": [
    "data"
   ]
  },
  {
   "cell_type": "code",
   "execution_count": 118,
   "metadata": {},
   "outputs": [],
   "source": [
    "data[names!='kumar']=5"
   ]
  },
  {
   "cell_type": "code",
   "execution_count": 119,
   "metadata": {},
   "outputs": [
    {
     "data": {
      "text/plain": [
       "array([[5.        , 5.        , 5.        , 5.        ],\n",
       "       [0.        , 0.26201852, 0.        , 0.        ],\n",
       "       [5.        , 5.        , 5.        , 5.        ],\n",
       "       [0.        , 0.        , 2.52768341, 1.12993963],\n",
       "       [5.        , 5.        , 5.        , 5.        ],\n",
       "       [5.        , 5.        , 5.        , 5.        ],\n",
       "       [5.        , 5.        , 5.        , 5.        ]])"
      ]
     },
     "execution_count": 119,
     "metadata": {},
     "output_type": "execute_result"
    }
   ],
   "source": [
    "data"
   ]
  },
  {
   "cell_type": "code",
   "execution_count": 123,
   "metadata": {},
   "outputs": [],
   "source": [
    "arr1=np.empty((8,4))"
   ]
  },
  {
   "cell_type": "code",
   "execution_count": 124,
   "metadata": {},
   "outputs": [
    {
     "data": {
      "text/plain": [
       "array([[1.03947538e-311, 1.03947538e-311, 1.03947538e-311,\n",
       "        0.00000000e+000],\n",
       "       [4.94065646e-324, 1.38338381e-322, 1.03947894e-311,\n",
       "        4.94065646e-324],\n",
       "       [0.00000000e+000, 5.43472210e-323, 4.94065646e-324,\n",
       "        1.03947538e-311],\n",
       "       [0.00000000e+000, 0.00000000e+000, 1.38338381e-322,\n",
       "        1.03944466e-311],\n",
       "       [4.94065646e-324, 0.00000000e+000, 3.39519327e-313,\n",
       "        7.90505033e-323],\n",
       "       [1.03947538e-311, 1.03947538e-311, 1.03947538e-311,\n",
       "        5.43472210e-323],\n",
       "       [4.94065646e-324, 1.03947538e-311, 4.94065646e-324,\n",
       "        1.03947538e-311],\n",
       "       [1.03944467e-311, 0.00000000e+000, 3.18299369e-313,\n",
       "        1.03944463e-311]])"
      ]
     },
     "execution_count": 124,
     "metadata": {},
     "output_type": "execute_result"
    }
   ],
   "source": [
    "arr"
   ]
  },
  {
   "cell_type": "code",
   "execution_count": 126,
   "metadata": {},
   "outputs": [
    {
     "data": {
      "text/plain": [
       "array([[0., 0., 0., 0.],\n",
       "       [1., 1., 1., 1.],\n",
       "       [2., 2., 2., 2.],\n",
       "       [3., 3., 3., 3.],\n",
       "       [4., 4., 4., 4.],\n",
       "       [5., 5., 5., 5.],\n",
       "       [6., 6., 6., 6.],\n",
       "       [7., 7., 7., 7.]])"
      ]
     },
     "execution_count": 126,
     "metadata": {},
     "output_type": "execute_result"
    }
   ],
   "source": [
    "for i in range(8):\n",
    "    arr[i]=i\n",
    "arr"
   ]
  },
  {
   "cell_type": "code",
   "execution_count": 127,
   "metadata": {},
   "outputs": [
    {
     "data": {
      "text/plain": [
       "array([[4., 4., 4., 4.],\n",
       "       [3., 3., 3., 3.],\n",
       "       [0., 0., 0., 0.],\n",
       "       [6., 6., 6., 6.]])"
      ]
     },
     "execution_count": 127,
     "metadata": {},
     "output_type": "execute_result"
    }
   ],
   "source": [
    "#subset of the rows\n",
    "arr[[4,3,0,6]]"
   ]
  },
  {
   "cell_type": "code",
   "execution_count": 128,
   "metadata": {},
   "outputs": [
    {
     "data": {
      "text/plain": [
       "array([[5., 5., 5., 5.],\n",
       "       [3., 3., 3., 3.],\n",
       "       [1., 1., 1., 1.]])"
      ]
     },
     "execution_count": 128,
     "metadata": {},
     "output_type": "execute_result"
    }
   ],
   "source": [
    "arr[[-3,-5,-7]]"
   ]
  },
  {
   "cell_type": "code",
   "execution_count": 129,
   "metadata": {},
   "outputs": [
    {
     "data": {
      "text/plain": [
       "array([[ 0,  1,  2,  3],\n",
       "       [ 4,  5,  6,  7],\n",
       "       [ 8,  9, 10, 11],\n",
       "       [12, 13, 14, 15],\n",
       "       [16, 17, 18, 19],\n",
       "       [20, 21, 22, 23],\n",
       "       [24, 25, 26, 27],\n",
       "       [28, 29, 30, 31]])"
      ]
     },
     "execution_count": 129,
     "metadata": {},
     "output_type": "execute_result"
    }
   ],
   "source": [
    "arr=np.arange(32).reshape((8,4))\n",
    "arr"
   ]
  },
  {
   "cell_type": "code",
   "execution_count": 130,
   "metadata": {},
   "outputs": [
    {
     "data": {
      "text/plain": [
       "array([ 4, 23, 29, 10])"
      ]
     },
     "execution_count": 130,
     "metadata": {},
     "output_type": "execute_result"
    }
   ],
   "source": [
    "arr[[1,5,7,2],[0,3,1,2]]"
   ]
  },
  {
   "cell_type": "code",
   "execution_count": 131,
   "metadata": {},
   "outputs": [
    {
     "data": {
      "text/plain": [
       "array([[ 4,  7,  5,  6],\n",
       "       [20, 23, 21, 22],\n",
       "       [28, 31, 29, 30],\n",
       "       [ 8, 11,  9, 10]])"
      ]
     },
     "execution_count": 131,
     "metadata": {},
     "output_type": "execute_result"
    }
   ],
   "source": [
    "arr[[1,5,7,2]][:,[0,3,1,2]]"
   ]
  },
  {
   "cell_type": "code",
   "execution_count": 132,
   "metadata": {},
   "outputs": [
    {
     "data": {
      "text/plain": [
       "array([[2240, 2352, 2464, 2576],\n",
       "       [2352, 2472, 2592, 2712],\n",
       "       [2464, 2592, 2720, 2848],\n",
       "       [2576, 2712, 2848, 2984]])"
      ]
     },
     "execution_count": 132,
     "metadata": {},
     "output_type": "execute_result"
    }
   ],
   "source": [
    "np.dot(arr.T,arr)"
   ]
  },
  {
   "cell_type": "code",
   "execution_count": 133,
   "metadata": {},
   "outputs": [
    {
     "data": {
      "text/plain": [
       "array([[[ 0,  1,  2,  3],\n",
       "        [ 4,  5,  6,  7]],\n",
       "\n",
       "       [[ 8,  9, 10, 11],\n",
       "        [12, 13, 14, 15]]])"
      ]
     },
     "execution_count": 133,
     "metadata": {},
     "output_type": "execute_result"
    }
   ],
   "source": [
    "arr=np.arange(16).reshape((2,2,4))\n",
    "arr"
   ]
  },
  {
   "cell_type": "code",
   "execution_count": 134,
   "metadata": {},
   "outputs": [
    {
     "data": {
      "text/plain": [
       "array([[[ 0,  1,  2,  3],\n",
       "        [ 8,  9, 10, 11]],\n",
       "\n",
       "       [[ 4,  5,  6,  7],\n",
       "        [12, 13, 14, 15]]])"
      ]
     },
     "execution_count": 134,
     "metadata": {},
     "output_type": "execute_result"
    }
   ],
   "source": [
    "arr.transpose((1,0,2))"
   ]
  },
  {
   "cell_type": "code",
   "execution_count": 135,
   "metadata": {},
   "outputs": [
    {
     "data": {
      "text/plain": [
       "array([[[ 0,  1,  2,  3],\n",
       "        [ 4,  5,  6,  7]],\n",
       "\n",
       "       [[ 8,  9, 10, 11],\n",
       "        [12, 13, 14, 15]]])"
      ]
     },
     "execution_count": 135,
     "metadata": {},
     "output_type": "execute_result"
    }
   ],
   "source": [
    "arr"
   ]
  },
  {
   "cell_type": "code",
   "execution_count": 136,
   "metadata": {},
   "outputs": [
    {
     "data": {
      "text/plain": [
       "array([[[ 0,  4],\n",
       "        [ 1,  5],\n",
       "        [ 2,  6],\n",
       "        [ 3,  7]],\n",
       "\n",
       "       [[ 8, 12],\n",
       "        [ 9, 13],\n",
       "        [10, 14],\n",
       "        [11, 15]]])"
      ]
     },
     "execution_count": 136,
     "metadata": {},
     "output_type": "execute_result"
    }
   ],
   "source": [
    "arr.swapaxes(1,2)"
   ]
  },
  {
   "cell_type": "markdown",
   "metadata": {},
   "source": [
    "#### Pandas"
   ]
  },
  {
   "cell_type": "code",
   "execution_count": 137,
   "metadata": {},
   "outputs": [],
   "source": [
    "import pandas as pd"
   ]
  },
  {
   "cell_type": "code",
   "execution_count": 138,
   "metadata": {},
   "outputs": [
    {
     "data": {
      "text/plain": [
       "0    4\n",
       "1    7\n",
       "2    5\n",
       "3    3\n",
       "dtype: int64"
      ]
     },
     "execution_count": 138,
     "metadata": {},
     "output_type": "execute_result"
    }
   ],
   "source": [
    "obj=pd.Series([4,7,5,3])\n",
    "obj"
   ]
  },
  {
   "cell_type": "code",
   "execution_count": 139,
   "metadata": {},
   "outputs": [
    {
     "data": {
      "text/plain": [
       "array([4, 7, 5, 3], dtype=int64)"
      ]
     },
     "execution_count": 139,
     "metadata": {},
     "output_type": "execute_result"
    }
   ],
   "source": [
    "obj.values"
   ]
  },
  {
   "cell_type": "code",
   "execution_count": 140,
   "metadata": {},
   "outputs": [
    {
     "data": {
      "text/plain": [
       "RangeIndex(start=0, stop=4, step=1)"
      ]
     },
     "execution_count": 140,
     "metadata": {},
     "output_type": "execute_result"
    }
   ],
   "source": [
    "obj.index"
   ]
  },
  {
   "cell_type": "code",
   "execution_count": 158,
   "metadata": {},
   "outputs": [
    {
     "data": {
      "text/plain": [
       "a    4\n",
       "b   -1\n",
       "c    6\n",
       "d    7\n",
       "dtype: int64"
      ]
     },
     "execution_count": 158,
     "metadata": {},
     "output_type": "execute_result"
    }
   ],
   "source": [
    "obj2=pd.Series([4,-1,6,7],index=['a','b','c','d'])\n",
    "obj2"
   ]
  },
  {
   "cell_type": "code",
   "execution_count": 159,
   "metadata": {},
   "outputs": [
    {
     "data": {
      "text/plain": [
       "Index(['a', 'b', 'c', 'd'], dtype='object')"
      ]
     },
     "execution_count": 159,
     "metadata": {},
     "output_type": "execute_result"
    }
   ],
   "source": [
    "obj2.index"
   ]
  },
  {
   "cell_type": "code",
   "execution_count": 160,
   "metadata": {},
   "outputs": [],
   "source": [
    "obj2['d']=9"
   ]
  },
  {
   "cell_type": "code",
   "execution_count": 161,
   "metadata": {},
   "outputs": [
    {
     "data": {
      "text/plain": [
       "array([ 4, -1,  6,  9], dtype=int64)"
      ]
     },
     "execution_count": 161,
     "metadata": {},
     "output_type": "execute_result"
    }
   ],
   "source": [
    "obj2.values"
   ]
  },
  {
   "cell_type": "code",
   "execution_count": 162,
   "metadata": {},
   "outputs": [
    {
     "data": {
      "text/plain": [
       "a    4\n",
       "c    6\n",
       "d    9\n",
       "dtype: int64"
      ]
     },
     "execution_count": 162,
     "metadata": {},
     "output_type": "execute_result"
    }
   ],
   "source": [
    "obj2[obj2>0]"
   ]
  },
  {
   "cell_type": "code",
   "execution_count": 163,
   "metadata": {},
   "outputs": [
    {
     "data": {
      "text/plain": [
       "a     8\n",
       "b    -2\n",
       "c    12\n",
       "d    18\n",
       "dtype: int64"
      ]
     },
     "execution_count": 163,
     "metadata": {},
     "output_type": "execute_result"
    }
   ],
   "source": [
    "obj2*2"
   ]
  },
  {
   "cell_type": "code",
   "execution_count": 164,
   "metadata": {},
   "outputs": [
    {
     "data": {
      "text/plain": [
       "a      54.598150\n",
       "b       0.367879\n",
       "c     403.428793\n",
       "d    8103.083928\n",
       "dtype: float64"
      ]
     },
     "execution_count": 164,
     "metadata": {},
     "output_type": "execute_result"
    }
   ],
   "source": [
    "np.exp(obj2)"
   ]
  },
  {
   "cell_type": "code",
   "execution_count": 166,
   "metadata": {},
   "outputs": [
    {
     "data": {
      "text/plain": [
       "True"
      ]
     },
     "execution_count": 166,
     "metadata": {},
     "output_type": "execute_result"
    }
   ],
   "source": [
    "'b' in obj2.index"
   ]
  },
  {
   "cell_type": "code",
   "execution_count": 167,
   "metadata": {},
   "outputs": [],
   "source": [
    "sdata={'vijay':30000,'kumar':20999,'hari':34222}"
   ]
  },
  {
   "cell_type": "code",
   "execution_count": 168,
   "metadata": {},
   "outputs": [
    {
     "data": {
      "text/plain": [
       "vijay    30000\n",
       "kumar    20999\n",
       "hari     34222\n",
       "dtype: int64"
      ]
     },
     "execution_count": 168,
     "metadata": {},
     "output_type": "execute_result"
    }
   ],
   "source": [
    "data=pd.Series(sdata)\n",
    "data"
   ]
  },
  {
   "cell_type": "code",
   "execution_count": 169,
   "metadata": {},
   "outputs": [],
   "source": [
    "states=['Calfornia','Ohio','Oregon']\n",
    "obj4=pd.Series(sdata,index=states)"
   ]
  },
  {
   "cell_type": "code",
   "execution_count": 170,
   "metadata": {},
   "outputs": [
    {
     "data": {
      "text/plain": [
       "Calfornia   NaN\n",
       "Ohio        NaN\n",
       "Oregon      NaN\n",
       "dtype: float64"
      ]
     },
     "execution_count": 170,
     "metadata": {},
     "output_type": "execute_result"
    }
   ],
   "source": [
    "obj4"
   ]
  },
  {
   "cell_type": "code",
   "execution_count": 172,
   "metadata": {},
   "outputs": [
    {
     "data": {
      "text/plain": [
       "Calfornia    True\n",
       "Ohio         True\n",
       "Oregon       True\n",
       "dtype: bool"
      ]
     },
     "execution_count": 172,
     "metadata": {},
     "output_type": "execute_result"
    }
   ],
   "source": [
    "pd.isnull(obj4)"
   ]
  },
  {
   "cell_type": "code",
   "execution_count": 8,
   "metadata": {},
   "outputs": [
    {
     "name": "stdout",
     "output_type": "stream",
     "text": [
      "0b101\n"
     ]
    }
   ],
   "source": [
    "d=5\n",
    "print(bin(d))"
   ]
  },
  {
   "cell_type": "code",
   "execution_count": 173,
   "metadata": {},
   "outputs": [
    {
     "data": {
      "text/plain": [
       "Calfornia    False\n",
       "Ohio         False\n",
       "Oregon       False\n",
       "dtype: bool"
      ]
     },
     "execution_count": 173,
     "metadata": {},
     "output_type": "execute_result"
    }
   ],
   "source": [
    "pd.notnull(obj4)"
   ]
  },
  {
   "cell_type": "code",
   "execution_count": 175,
   "metadata": {},
   "outputs": [
    {
     "data": {
      "text/plain": [
       "Calfornia   NaN\n",
       "Ohio        NaN\n",
       "Oregon      NaN\n",
       "hari        NaN\n",
       "kumar       NaN\n",
       "vijay       NaN\n",
       "dtype: float64"
      ]
     },
     "execution_count": 175,
     "metadata": {},
     "output_type": "execute_result"
    }
   ],
   "source": [
    "data+obj4"
   ]
  },
  {
   "cell_type": "code",
   "execution_count": 1,
   "metadata": {},
   "outputs": [],
   "source": [
    "import re"
   ]
  },
  {
   "cell_type": "code",
   "execution_count": 2,
   "metadata": {},
   "outputs": [
    {
     "name": "stdout",
     "output_type": "stream",
     "text": [
      "['A', 'ASCII', 'DEBUG', 'DOTALL', 'I', 'IGNORECASE', 'L', 'LOCALE', 'M', 'MULTILINE', 'Match', 'Pattern', 'RegexFlag', 'S', 'Scanner', 'T', 'TEMPLATE', 'U', 'UNICODE', 'VERBOSE', 'X', '_MAXCACHE', '__all__', '__builtins__', '__cached__', '__doc__', '__file__', '__loader__', '__name__', '__package__', '__spec__', '__version__', '_cache', '_compile', '_compile_repl', '_expand', '_locale', '_pickle', '_special_chars_map', '_subx', 'compile', 'copyreg', 'enum', 'error', 'escape', 'findall', 'finditer', 'fullmatch', 'functools', 'match', 'purge', 'search', 'split', 'sre_compile', 'sre_parse', 'sub', 'subn', 'template']\n"
     ]
    }
   ],
   "source": [
    "print(dir(re))"
   ]
  },
  {
   "cell_type": "code",
   "execution_count": 6,
   "metadata": {},
   "outputs": [
    {
     "name": "stdout",
     "output_type": "stream",
     "text": [
      "True\n"
     ]
    }
   ],
   "source": [
    "p=\"^[6789]{1}[0-9]{9}$\"\n",
    "d=\"9542219884\"\n",
    "if(re.findall(p,d)):\n",
    "    print(\"True\")\n",
    "else:\n",
    "    print(\"False\")"
   ]
  },
  {
   "cell_type": "code",
   "execution_count": 28,
   "metadata": {},
   "outputs": [
    {
     "name": "stdout",
     "output_type": "stream",
     "text": [
      "3\n",
      "27\n"
     ]
    }
   ],
   "source": [
    "n=int(input())\n",
    "d=''\n",
    "for i in range(1,n+1):\n",
    "    b=bin(i)\n",
    "    d+=b[2:]\n",
    "t=0\n",
    "s=0\n",
    "# print(len(d))\n",
    "11011\n",
    "#   1*2^2+0*2^1+1*2^0--->5\n",
    "for i in range(len(d)-1,-1,-1):\n",
    "    s=s+int(d[i])*2**t\n",
    "    t=t+1\n",
    "print(s)\n",
    "    "
   ]
  },
  {
   "cell_type": "markdown",
   "metadata": {},
   "source": [
    "### for i in range(10,1,-1):\n",
    "    print(i)"
   ]
  },
  {
   "cell_type": "code",
   "execution_count": 27,
   "metadata": {},
   "outputs": [
    {
     "data": {
      "text/plain": [
       "'0b101'"
      ]
     },
     "execution_count": 27,
     "metadata": {},
     "output_type": "execute_result"
    }
   ],
   "source": [
    "bin(5)"
   ]
  },
  {
   "cell_type": "code",
   "execution_count": null,
   "metadata": {},
   "outputs": [],
   "source": [
    "1--->1\n",
    "2-->10\n",
    "3-->11\n",
    "    11011-->27"
   ]
  },
  {
   "cell_type": "code",
   "execution_count": 29,
   "metadata": {},
   "outputs": [
    {
     "name": "stdout",
     "output_type": "stream",
     "text": [
      "Hello\n"
     ]
    }
   ],
   "source": [
    "print(\"Hello\")"
   ]
  },
  {
   "cell_type": "markdown",
   "metadata": {},
   "source": [
    "- Gary Kasparov --->machine\n",
    "- .com bubble(1990's) to bigdata -->Cloud\n",
    "- Data -->\n",
    "- > emporiacal  from guide ,theorical mathamatical formulas ,  Self\n",
    "- ML-->AI(DL,)-->DS"
   ]
  },
  {
   "cell_type": "markdown",
   "metadata": {},
   "source": [
    "## ML\n",
    "    - 6 Jars\n",
    "        - Data\n",
    "        - Taks\n",
    "        - Model\n",
    "        - Loss\n",
    "        - Learning\n",
    "        - Evaluation\n",
    " - Supervised(Predictive)\n",
    "     - Classification\n",
    "         - Algorithm Examples\n",
    "             - Decision making\n",
    "             - Bayesain Network\n",
    "             - Support Vector Machines\n",
    "             - Random forest\n",
    "             - Neural network\n",
    "     - Regression(predition)\n",
    "         - Algorithm Examples:\n",
    "             - Simple linear Regression Model\n",
    "             - Lasso Regrassion\n",
    "             - Logistic Regression\n",
    "             - Multiple Regression\n",
    "             - Boosting\n",
    "     \n",
    " - unsupervised(Descriptive)\n",
    "   - Clustering\n",
    "       - Algorithm Examples\n",
    "           - K-Means\n",
    "           - Mean-Shift\n",
    "           - Gaussian Misture\n",
    "           - EM -Clusteting\n",
    "           - Hierachical Clustring\n",
    "   - Association\n",
    "\n",
    " - Reinforcement Learning(Learn From Exprerince)\n",
    " \n"
   ]
  },
  {
   "cell_type": "code",
   "execution_count": null,
   "metadata": {},
   "outputs": [],
   "source": [
    "- Get the data\n",
    "- Discover and visulize the data to gain insights\n",
    "- pre"
   ]
  },
  {
   "cell_type": "markdown",
   "metadata": {},
   "source": [
    "### Linear Regression\n",
    "    - Regression\n",
    "       - Relationship\n",
    "           - in Science we frequently measure two  or more variable on the same individual(case,object,etc) we do this to explore the nature of the relationship among these variable there are two\n",
    "       \n",
    "           "
   ]
  },
  {
   "cell_type": "code",
   "execution_count": 62,
   "metadata": {
    "scrolled": true
   },
   "outputs": [],
   "source": [
    "import numpy as np\n",
    "x=[1,2,3,4,5]\n",
    "y=[3,4,2,4,5]\n",
    "#     Summationof(x-y mena)(y-y mean)\n",
    "# y= ----------------------\n",
    "#     Summation of(x-x)^2\n"
   ]
  },
  {
   "cell_type": "code",
   "execution_count": 42,
   "metadata": {},
   "outputs": [
    {
     "data": {
      "text/plain": [
       "3.0"
      ]
     },
     "execution_count": 42,
     "metadata": {},
     "output_type": "execute_result"
    }
   ],
   "source": [
    "np.mean(x)"
   ]
  },
  {
   "cell_type": "code",
   "execution_count": 43,
   "metadata": {},
   "outputs": [
    {
     "data": {
      "text/plain": [
       "3.6"
      ]
     },
     "execution_count": 43,
     "metadata": {},
     "output_type": "execute_result"
    }
   ],
   "source": [
    "np.mean(y)"
   ]
  },
  {
   "cell_type": "code",
   "execution_count": 45,
   "metadata": {},
   "outputs": [
    {
     "data": {
      "text/plain": [
       "15"
      ]
     },
     "execution_count": 45,
     "metadata": {},
     "output_type": "execute_result"
    }
   ],
   "source": [
    "sum(x)"
   ]
  },
  {
   "cell_type": "code",
   "execution_count": null,
   "metadata": {},
   "outputs": [],
   "source": [
    "m=4/10-->0.4\n",
    "c=2.4\n"
   ]
  },
  {
   "cell_type": "code",
   "execution_count": 52,
   "metadata": {},
   "outputs": [
    {
     "name": "stdout",
     "output_type": "stream",
     "text": [
      "18.0\n"
     ]
    }
   ],
   "source": [
    "#y predicted value\n",
    "#y=0.4(x)+2.4\n",
    "yp=0\n",
    "for i in range(len(x)):\n",
    "    yp+=0.4*x[i]+2.4\n",
    "print(yp)"
   ]
  },
  {
   "cell_type": "code",
   "execution_count": 47,
   "metadata": {},
   "outputs": [
    {
     "name": "stdout",
     "output_type": "stream",
     "text": [
      "2.6\n",
      "3.2\n",
      "0.7999999999999998\n",
      "2.4\n",
      "3.0\n",
      "12.0\n"
     ]
    }
   ],
   "source": [
    "# c values\n",
    "s=0\n",
    "for i in range(len(x)):\n",
    "    s+=y[i]-(0.4)*x[i]\n",
    "    print(y[i]-(0.4)*x[i])\n",
    "print(s)"
   ]
  },
  {
   "cell_type": "code",
   "execution_count": 50,
   "metadata": {},
   "outputs": [
    {
     "name": "stdout",
     "output_type": "stream",
     "text": [
      "2.8\n",
      "3.2\n",
      "3.6\n",
      "4.0\n",
      "4.4\n",
      "18.0\n"
     ]
    }
   ],
   "source": [
    "# y=0.4*x+2.4\n",
    "ys=0\n",
    "for i in range(len(x)):\n",
    "    ys+=0.4*x[i]+2.4\n",
    "    print(0.4*x[i]+2.4)\n",
    "print(ys)"
   ]
  },
  {
   "cell_type": "code",
   "execution_count": null,
   "metadata": {},
   "outputs": [],
   "source": [
    "#(x-x mean)\n",
    "for i in range()"
   ]
  },
  {
   "cell_type": "code",
   "execution_count": 58,
   "metadata": {},
   "outputs": [],
   "source": [
    "import matplotlib.pyplot as plt"
   ]
  },
  {
   "cell_type": "code",
   "execution_count": 64,
   "metadata": {},
   "outputs": [
    {
     "data": {
      "image/png": "[encoded data removed]",
      "text/plain": [
       "<Figure size 432x288 with 1 Axes>"
      ]
     },
     "metadata": {
      "needs_background": "light"
     },
     "output_type": "display_data"
    }
   ],
   "source": [
    "plt.plot(x,y)\n",
    "plt.grid()"
   ]
  },
  {
   "cell_type": "code",
   "execution_count": 67,
   "metadata": {},
   "outputs": [],
   "source": [
    "    import pandas as pd\n",
    "    import numpy as np\n",
    "    import matplotlib.pyplot as plt"
   ]
  },
  {
   "cell_type": "code",
   "execution_count": 72,
   "metadata": {},
   "outputs": [
    {
     "data": {
      "text/html": [
       "<div>\n",
       "<style scoped>\n",
       "    .dataframe tbody tr th:only-of-type {\n",
       "        vertical-align: middle;\n",
       "    }\n",
       "\n",
       "    .dataframe tbody tr th {\n",
       "        vertical-align: top;\n",
       "    }\n",
       "\n",
       "    .dataframe thead th {\n",
       "        text-align: right;\n",
       "    }\n",
       "</style>\n",
       "<table border=\"1\" class=\"dataframe\">\n",
       "  <thead>\n",
       "    <tr style=\"text-align: right;\">\n",
       "      <th></th>\n",
       "      <th>Gender</th>\n",
       "      <th>Age Range</th>\n",
       "      <th>Head Size(cm^3)</th>\n",
       "      <th>Brain Weight(grams)</th>\n",
       "    </tr>\n",
       "  </thead>\n",
       "  <tbody>\n",
       "    <tr>\n",
       "      <td>0</td>\n",
       "      <td>1</td>\n",
       "      <td>1</td>\n",
       "      <td>4512</td>\n",
       "      <td>1530</td>\n",
       "    </tr>\n",
       "    <tr>\n",
       "      <td>1</td>\n",
       "      <td>1</td>\n",
       "      <td>1</td>\n",
       "      <td>3738</td>\n",
       "      <td>1297</td>\n",
       "    </tr>\n",
       "    <tr>\n",
       "      <td>2</td>\n",
       "      <td>1</td>\n",
       "      <td>1</td>\n",
       "      <td>4261</td>\n",
       "      <td>1335</td>\n",
       "    </tr>\n",
       "    <tr>\n",
       "      <td>3</td>\n",
       "      <td>1</td>\n",
       "      <td>1</td>\n",
       "      <td>3777</td>\n",
       "      <td>1282</td>\n",
       "    </tr>\n",
       "    <tr>\n",
       "      <td>4</td>\n",
       "      <td>1</td>\n",
       "      <td>1</td>\n",
       "      <td>4177</td>\n",
       "      <td>1590</td>\n",
       "    </tr>\n",
       "  </tbody>\n",
       "</table>\n",
       "</div>"
      ],
      "text/plain": [
       "   Gender  Age Range  Head Size(cm^3)  Brain Weight(grams)\n",
       "0       1          1             4512                 1530\n",
       "1       1          1             3738                 1297\n",
       "2       1          1             4261                 1335\n",
       "3       1          1             3777                 1282\n",
       "4       1          1             4177                 1590"
      ]
     },
     "execution_count": 72,
     "metadata": {},
     "output_type": "execute_result"
    }
   ],
   "source": [
    "data=pd.read_csv('headbrain.csv')\n",
    "data.tail()\n",
    "data.head()"
   ]
  },
  {
   "cell_type": "code",
   "execution_count": 76,
   "metadata": {},
   "outputs": [],
   "source": [
    "# Collecting the x,y values\n",
    "x=data['Head Size(cm^3)'].values\n",
    "y=data['Brain Weight(grams)'].values\n"
   ]
  },
  {
   "cell_type": "code",
   "execution_count": 79,
   "metadata": {},
   "outputs": [
    {
     "data": {
      "text/plain": [
       "1282.873417721519"
      ]
     },
     "execution_count": 79,
     "metadata": {},
     "output_type": "execute_result"
    }
   ],
   "source": [
    "# calculating Coeffient \n",
    "# Mean x and y\n",
    "mean_x=np.mean(x)\n",
    "mean_y=np.mean(y)\n",
    "mean_x\n",
    "mean_y"
   ]
  },
  {
   "cell_type": "code",
   "execution_count": 83,
   "metadata": {},
   "outputs": [
    {
     "name": "stdout",
     "output_type": "stream",
     "text": [
      "0.26342933948939945\n",
      "325.57342104944223\n"
     ]
    }
   ],
   "source": [
    "# Total Number of values\n",
    "# Using formula to calculate slope and intercept\n",
    "nume=0\n",
    "denom=0\n",
    "for i in range(len(x)):\n",
    "    nume+=(x[i]-mean_x)*(y[i]-mean_y)\n",
    "    denom+=(x[i]-mean_x)**2\n",
    "b1=nume/denom # slope\n",
    "b0=mean_y-(b1* mean_x) # intercept\n",
    "print(b1)\n",
    "print(b0)"
   ]
  },
  {
   "cell_type": "code",
   "execution_count": 84,
   "metadata": {},
   "outputs": [
    {
     "name": "stdout",
     "output_type": "stream",
     "text": [
      "Coefficiants\n",
      "0.26342933948939945 325.57342104944223\n"
     ]
    }
   ],
   "source": [
    "# printing coeffient\n",
    "print(\"Coefficiants\")\n",
    "print(b1,b0)## here b1 stands for m and b0 stands for c\n",
    "\n"
   ]
  },
  {
   "cell_type": "code",
   "execution_count": 92,
   "metadata": {},
   "outputs": [],
   "source": [
    "%matplotlib notebook"
   ]
  },
  {
   "cell_type": "code",
   "execution_count": 95,
   "metadata": {},
   "outputs": [
    {
     "data": {
      "application/javascript": [
       "/* Put everything inside the global mpl namespace */\n",
       "window.mpl = {};\n",
       "\n",
       "\n",
       "mpl.get_websocket_type = function() {\n",
       "    if (typeof(WebSocket) !== 'undefined') {\n",
       "        return WebSocket;\n",
       "    } else if (typeof(MozWebSocket) !== 'undefined') {\n",
       "        return MozWebSocket;\n",
       "    } else {\n",
       "        alert('Your browser does not have WebSocket support. ' +\n",
       "              'Please try Chrome, Safari or Firefox ≥ 6. ' +\n",
       "              'Firefox 4 and 5 are also supported but you ' +\n",
       "              'have to enable WebSockets in about:config.');\n",
       "    };\n",
       "}\n",
       "\n",
       "mpl.figure = function(figure_id, websocket, ondownload, parent_element) {\n",
       "    this.id = figure_id;\n",
       "\n",
       "    this.ws = websocket;\n",
       "\n",
       "    this.supports_binary = (this.ws.binaryType != undefined);\n",
       "\n",
       "    if (!this.supports_binary) {\n",
       "        var warnings = document.getElementById(\"mpl-warnings\");\n",
       "        if (warnings) {\n",
       "            warnings.style.display = 'block';\n",
       "            warnings.textContent = (\n",
       "                \"This browser does not support binary websocket messages. \" +\n",
       "                    \"Performance may be slow.\");\n",
       "        }\n",
       "    }\n",
       "\n",
       "    this.imageObj = new Image();\n",
       "\n",
       "    this.context = undefined;\n",
       "    this.message = undefined;\n",
       "    this.canvas = undefined;\n",
       "    this.rubberband_canvas = undefined;\n",
       "    this.rubberband_context = undefined;\n",
       "    this.format_dropdown = undefined;\n",
       "\n",
       "    this.image_mode = 'full';\n",
       "\n",
       "    this.root = $('<div/>');\n",
       "    this._root_extra_style(this.root)\n",
       "    this.root.attr('style', 'display: inline-block');\n",
       "\n",
       "    $(parent_element).append(this.root);\n",
       "\n",
       "    this._init_header(this);\n",
       "    this._init_canvas(this);\n",
       "    this._init_toolbar(this);\n",
       "\n",
       "    var fig = this;\n",
       "\n",
       "    this.waiting = false;\n",
       "\n",
       "    this.ws.onopen =  function () {\n",
       "            fig.send_message(\"supports_binary\", {value: fig.supports_binary});\n",
       "            fig.send_message(\"send_image_mode\", {});\n",
       "            if (mpl.ratio != 1) {\n",
       "                fig.send_message(\"set_dpi_ratio\", {'dpi_ratio': mpl.ratio});\n",
       "            }\n",
       "            fig.send_message(\"refresh\", {});\n",
       "        }\n",
       "\n",
       "    this.imageObj.onload = function() {\n",
       "            if (fig.image_mode == 'full') {\n",
       "                // Full images could contain transparency (where diff images\n",
       "                // almost always do), so we need to clear the canvas so that\n",
       "                // there is no ghosting.\n",
       "                fig.context.clearRect(0, 0, fig.canvas.width, fig.canvas.height);\n",
       "            }\n",
       "            fig.context.drawImage(fig.imageObj, 0, 0);\n",
       "        };\n",
       "\n",
       "    this.imageObj.onunload = function() {\n",
       "        fig.ws.close();\n",
       "    }\n",
       "\n",
       "    this.ws.onmessage = this._make_on_message_function(this);\n",
       "\n",
       "    this.ondownload = ondownload;\n",
       "}\n",
       "\n",
       "mpl.figure.prototype._init_header = function() {\n",
       "    var titlebar = $(\n",
       "        '<div class=\"ui-dialog-titlebar ui-widget-header ui-corner-all ' +\n",
       "        'ui-helper-clearfix\"/>');\n",
       "    var titletext = $(\n",
       "        '<div class=\"ui-dialog-title\" style=\"width: 100%; ' +\n",
       "        'text-align: center; padding: 3px;\"/>');\n",
       "    titlebar.append(titletext)\n",
       "    this.root.append(titlebar);\n",
       "    this.header = titletext[0];\n",
       "}\n",
       "\n",
       "\n",
       "\n",
       "mpl.figure.prototype._canvas_extra_style = function(canvas_div) {\n",
       "\n",
       "}\n",
       "\n",
       "\n",
       "mpl.figure.prototype._root_extra_style = function(canvas_div) {\n",
       "\n",
       "}\n",
       "\n",
       "mpl.figure.prototype._init_canvas = function() {\n",
       "    var fig = this;\n",
       "\n",
       "    var canvas_div = $('<div/>');\n",
       "\n",
       "    canvas_div.attr('style', 'position: relative; clear: both; outline: 0');\n",
       "\n",
       "    function canvas_keyboard_event(event) {\n",
       "        return fig.key_event(event, event['data']);\n",
       "    }\n",
       "\n",
       "    canvas_div.keydown('key_press', canvas_keyboard_event);\n",
       "    canvas_div.keyup('key_release', canvas_keyboard_event);\n",
       "    this.canvas_div = canvas_div\n",
       "    this._canvas_extra_style(canvas_div)\n",
       "    this.root.append(canvas_div);\n",
       "\n",
       "    var canvas = $('<canvas/>');\n",
       "    canvas.addClass('mpl-canvas');\n",
       "    canvas.attr('style', \"left: 0; top: 0; z-index: 0; outline: 0\")\n",
       "\n",
       "    this.canvas = canvas[0];\n",
       "    this.context = canvas[0].getContext(\"2d\");\n",
       "\n",
       "    var backingStore = this.context.backingStorePixelRatio ||\n",
       "\tthis.context.webkitBackingStorePixelRatio ||\n",
       "\tthis.context.mozBackingStorePixelRatio ||\n",
       "\tthis.context.msBackingStorePixelRatio ||\n",
       "\tthis.context.oBackingStorePixelRatio ||\n",
       "\tthis.context.backingStorePixelRatio || 1;\n",
       "\n",
       "    mpl.ratio = (window.devicePixelRatio || 1) / backingStore;\n",
       "\n",
       "    var rubberband = $('<canvas/>');\n",
       "    rubberband.attr('style', \"position: absolute; left: 0; top: 0; z-index: 1;\")\n",
       "\n",
       "    var pass_mouse_events = true;\n",
       "\n",
       "    canvas_div.resizable({\n",
       "        start: function(event, ui) {\n",
       "            pass_mouse_events = false;\n",
       "        },\n",
       "        resize: function(event, ui) {\n",
       "            fig.request_resize(ui.size.width, ui.size.height);\n",
       "        },\n",
       "        stop: function(event, ui) {\n",
       "            pass_mouse_events = true;\n",
       "            fig.request_resize(ui.size.width, ui.size.height);\n",
       "        },\n",
       "    });\n",
       "\n",
       "    function mouse_event_fn(event) {\n",
       "        if (pass_mouse_events)\n",
       "            return fig.mouse_event(event, event['data']);\n",
       "    }\n",
       "\n",
       "    rubberband.mousedown('button_press', mouse_event_fn);\n",
       "    rubberband.mouseup('button_release', mouse_event_fn);\n",
       "    // Throttle sequential mouse events to 1 every 20ms.\n",
       "    rubberband.mousemove('motion_notify', mouse_event_fn);\n",
       "\n",
       "    rubberband.mouseenter('figure_enter', mouse_event_fn);\n",
       "    rubberband.mouseleave('figure_leave', mouse_event_fn);\n",
       "\n",
       "    canvas_div.on(\"wheel\", function (event) {\n",
       "        event = event.originalEvent;\n",
       "        event['data'] = 'scroll'\n",
       "        if (event.deltaY < 0) {\n",
       "            event.step = 1;\n",
       "        } else {\n",
       "            event.step = -1;\n",
       "        }\n",
       "        mouse_event_fn(event);\n",
       "    });\n",
       "\n",
       "    canvas_div.append(canvas);\n",
       "    canvas_div.append(rubberband);\n",
       "\n",
       "    this.rubberband = rubberband;\n",
       "    this.rubberband_canvas = rubberband[0];\n",
       "    this.rubberband_context = rubberband[0].getContext(\"2d\");\n",
       "    this.rubberband_context.strokeStyle = \"#000000\";\n",
       "\n",
       "    this._resize_canvas = function(width, height) {\n",
       "        // Keep the size of the canvas, canvas container, and rubber band\n",
       "        // canvas in synch.\n",
       "        canvas_div.css('width', width)\n",
       "        canvas_div.css('height', height)\n",
       "\n",
       "        canvas.attr('width', width * mpl.ratio);\n",
       "        canvas.attr('height', height * mpl.ratio);\n",
       "        canvas.attr('style', 'width: ' + width + 'px; height: ' + height + 'px;');\n",
       "\n",
       "        rubberband.attr('width', width);\n",
       "        rubberband.attr('height', height);\n",
       "    }\n",
       "\n",
       "    // Set the figure to an initial 600x600px, this will subsequently be updated\n",
       "    // upon first draw.\n",
       "    this._resize_canvas(600, 600);\n",
       "\n",
       "    // Disable right mouse context menu.\n",
       "    $(this.rubberband_canvas).bind(\"contextmenu\",function(e){\n",
       "        return false;\n",
       "    });\n",
       "\n",
       "    function set_focus () {\n",
       "        canvas.focus();\n",
       "        canvas_div.focus();\n",
       "    }\n",
       "\n",
       "    window.setTimeout(set_focus, 100);\n",
       "}\n",
       "\n",
       "mpl.figure.prototype._init_toolbar = function() {\n",
       "    var fig = this;\n",
       "\n",
       "    var nav_element = $('<div/>');\n",
       "    nav_element.attr('style', 'width: 100%');\n",
       "    this.root.append(nav_element);\n",
       "\n",
       "    // Define a callback function for later on.\n",
       "    function toolbar_event(event) {\n",
       "        return fig.toolbar_button_onclick(event['data']);\n",
       "    }\n",
       "    function toolbar_mouse_event(event) {\n",
       "        return fig.toolbar_button_onmouseover(event['data']);\n",
       "    }\n",
       "\n",
       "    for(var toolbar_ind in mpl.toolbar_items) {\n",
       "        var name = mpl.toolbar_items[toolbar_ind][0];\n",
       "        var tooltip = mpl.toolbar_items[toolbar_ind][1];\n",
       "        var image = mpl.toolbar_items[toolbar_ind][2];\n",
       "        var method_name = mpl.toolbar_items[toolbar_ind][3];\n",
       "\n",
       "        if (!name) {\n",
       "            // put a spacer in here.\n",
       "            continue;\n",
       "        }\n",
       "        var button = $('<button/>');\n",
       "        button.addClass('ui-button ui-widget ui-state-default ui-corner-all ' +\n",
       "                        'ui-button-icon-only');\n",
       "        button.attr('role', 'button');\n",
       "        button.attr('aria-disabled', 'false');\n",
       "        button.click(method_name, toolbar_event);\n",
       "        button.mouseover(tooltip, toolbar_mouse_event);\n",
       "\n",
       "        var icon_img = $('<span/>');\n",
       "        icon_img.addClass('ui-button-icon-primary ui-icon');\n",
       "        icon_img.addClass(image);\n",
       "        icon_img.addClass('ui-corner-all');\n",
       "\n",
       "        var tooltip_span = $('<span/>');\n",
       "        tooltip_span.addClass('ui-button-text');\n",
       "        tooltip_span.html(tooltip);\n",
       "\n",
       "        button.append(icon_img);\n",
       "        button.append(tooltip_span);\n",
       "\n",
       "        nav_element.append(button);\n",
       "    }\n",
       "\n",
       "    var fmt_picker_span = $('<span/>');\n",
       "\n",
       "    var fmt_picker = $('<select/>');\n",
       "    fmt_picker.addClass('mpl-toolbar-option ui-widget ui-widget-content');\n",
       "    fmt_picker_span.append(fmt_picker);\n",
       "    nav_element.append(fmt_picker_span);\n",
       "    this.format_dropdown = fmt_picker[0];\n",
       "\n",
       "    for (var ind in mpl.extensions) {\n",
       "        var fmt = mpl.extensions[ind];\n",
       "        var option = $(\n",
       "            '<option/>', {selected: fmt === mpl.default_extension}).html(fmt);\n",
       "        fmt_picker.append(option);\n",
       "    }\n",
       "\n",
       "    // Add hover states to the ui-buttons\n",
       "    $( \".ui-button\" ).hover(\n",
       "        function() { $(this).addClass(\"ui-state-hover\");},\n",
       "        function() { $(this).removeClass(\"ui-state-hover\");}\n",
       "    );\n",
       "\n",
       "    var status_bar = $('<span class=\"mpl-message\"/>');\n",
       "    nav_element.append(status_bar);\n",
       "    this.message = status_bar[0];\n",
       "}\n",
       "\n",
       "mpl.figure.prototype.request_resize = function(x_pixels, y_pixels) {\n",
       "    // Request matplotlib to resize the figure. Matplotlib will then trigger a resize in the client,\n",
       "    // which will in turn request a refresh of the image.\n",
       "    this.send_message('resize', {'width': x_pixels, 'height': y_pixels});\n",
       "}\n",
       "\n",
       "mpl.figure.prototype.send_message = function(type, properties) {\n",
       "    properties['type'] = type;\n",
       "    properties['figure_id'] = this.id;\n",
       "    this.ws.send(JSON.stringify(properties));\n",
       "}\n",
       "\n",
       "mpl.figure.prototype.send_draw_message = function() {\n",
       "    if (!this.waiting) {\n",
       "        this.waiting = true;\n",
       "        this.ws.send(JSON.stringify({type: \"draw\", figure_id: this.id}));\n",
       "    }\n",
       "}\n",
       "\n",
       "\n",
       "mpl.figure.prototype.handle_save = function(fig, msg) {\n",
       "    var format_dropdown = fig.format_dropdown;\n",
       "    var format = format_dropdown.options[format_dropdown.selectedIndex].value;\n",
       "    fig.ondownload(fig, format);\n",
       "}\n",
       "\n",
       "\n",
       "mpl.figure.prototype.handle_resize = function(fig, msg) {\n",
       "    var size = msg['size'];\n",
       "    if (size[0] != fig.canvas.width || size[1] != fig.canvas.height) {\n",
       "        fig._resize_canvas(size[0], size[1]);\n",
       "        fig.send_message(\"refresh\", {});\n",
       "    };\n",
       "}\n",
       "\n",
       "mpl.figure.prototype.handle_rubberband = function(fig, msg) {\n",
       "    var x0 = msg['x0'] / mpl.ratio;\n",
       "    var y0 = (fig.canvas.height - msg['y0']) / mpl.ratio;\n",
       "    var x1 = msg['x1'] / mpl.ratio;\n",
       "    var y1 = (fig.canvas.height - msg['y1']) / mpl.ratio;\n",
       "    x0 = Math.floor(x0) + 0.5;\n",
       "    y0 = Math.floor(y0) + 0.5;\n",
       "    x1 = Math.floor(x1) + 0.5;\n",
       "    y1 = Math.floor(y1) + 0.5;\n",
       "    var min_x = Math.min(x0, x1);\n",
       "    var min_y = Math.min(y0, y1);\n",
       "    var width = Math.abs(x1 - x0);\n",
       "    var height = Math.abs(y1 - y0);\n",
       "\n",
       "    fig.rubberband_context.clearRect(\n",
       "        0, 0, fig.canvas.width / mpl.ratio, fig.canvas.height / mpl.ratio);\n",
       "\n",
       "    fig.rubberband_context.strokeRect(min_x, min_y, width, height);\n",
       "}\n",
       "\n",
       "mpl.figure.prototype.handle_figure_label = function(fig, msg) {\n",
       "    // Updates the figure title.\n",
       "    fig.header.textContent = msg['label'];\n",
       "}\n",
       "\n",
       "mpl.figure.prototype.handle_cursor = function(fig, msg) {\n",
       "    var cursor = msg['cursor'];\n",
       "    switch(cursor)\n",
       "    {\n",
       "    case 0:\n",
       "        cursor = 'pointer';\n",
       "        break;\n",
       "    case 1:\n",
       "        cursor = 'default';\n",
       "        break;\n",
       "    case 2:\n",
       "        cursor = 'crosshair';\n",
       "        break;\n",
       "    case 3:\n",
       "        cursor = 'move';\n",
       "        break;\n",
       "    }\n",
       "    fig.rubberband_canvas.style.cursor = cursor;\n",
       "}\n",
       "\n",
       "mpl.figure.prototype.handle_message = function(fig, msg) {\n",
       "    fig.message.textContent = msg['message'];\n",
       "}\n",
       "\n",
       "mpl.figure.prototype.handle_draw = function(fig, msg) {\n",
       "    // Request the server to send over a new figure.\n",
       "    fig.send_draw_message();\n",
       "}\n",
       "\n",
       "mpl.figure.prototype.handle_image_mode = function(fig, msg) {\n",
       "    fig.image_mode = msg['mode'];\n",
       "}\n",
       "\n",
       "mpl.figure.prototype.updated_canvas_event = function() {\n",
       "    // Called whenever the canvas gets updated.\n",
       "    this.send_message(\"ack\", {});\n",
       "}\n",
       "\n",
       "// A function to construct a web socket function for onmessage handling.\n",
       "// Called in the figure constructor.\n",
       "mpl.figure.prototype._make_on_message_function = function(fig) {\n",
       "    return function socket_on_message(evt) {\n",
       "        if (evt.data instanceof Blob) {\n",
       "            /* FIXME: We get \"Resource interpreted as Image but\n",
       "             * transferred with MIME type text/plain:\" errors on\n",
       "             * Chrome.  But how to set the MIME type?  It doesn't seem\n",
       "             * to be part of the websocket stream */\n",
       "            evt.data.type = \"image/png\";\n",
       "\n",
       "            /* Free the memory for the previous frames */\n",
       "            if (fig.imageObj.src) {\n",
       "                (window.URL || window.webkitURL).revokeObjectURL(\n",
       "                    fig.imageObj.src);\n",
       "            }\n",
       "\n",
       "            fig.imageObj.src = (window.URL || window.webkitURL).createObjectURL(\n",
       "                evt.data);\n",
       "            fig.updated_canvas_event();\n",
       "            fig.waiting = false;\n",
       "            return;\n",
       "        }\n",
       "        else if (typeof evt.data === 'string' && evt.data.slice(0, 21) == \"data:image/png;base64\") {\n",
       "            fig.imageObj.src = evt.data;\n",
       "            fig.updated_canvas_event();\n",
       "            fig.waiting = false;\n",
       "            return;\n",
       "        }\n",
       "\n",
       "        var msg = JSON.parse(evt.data);\n",
       "        var msg_type = msg['type'];\n",
       "\n",
       "        // Call the  \"handle_{type}\" callback, which takes\n",
       "        // the figure and JSON message as its only arguments.\n",
       "        try {\n",
       "            var callback = fig[\"handle_\" + msg_type];\n",
       "        } catch (e) {\n",
       "            console.log(\"No handler for the '\" + msg_type + \"' message type: \", msg);\n",
       "            return;\n",
       "        }\n",
       "\n",
       "        if (callback) {\n",
       "            try {\n",
       "                // console.log(\"Handling '\" + msg_type + \"' message: \", msg);\n",
       "                callback(fig, msg);\n",
       "            } catch (e) {\n",
       "                console.log(\"Exception inside the 'handler_\" + msg_type + \"' callback:\", e, e.stack, msg);\n",
       "            }\n",
       "        }\n",
       "    };\n",
       "}\n",
       "\n",
       "// from http://stackoverflow.com/questions/1114465/getting-mouse-location-in-canvas\n",
       "mpl.findpos = function(e) {\n",
       "    //this section is from http://www.quirksmode.org/js/events_properties.html\n",
       "    var targ;\n",
       "    if (!e)\n",
       "        e = window.event;\n",
       "    if (e.target)\n",
       "        targ = e.target;\n",
       "    else if (e.srcElement)\n",
       "        targ = e.srcElement;\n",
       "    if (targ.nodeType == 3) // defeat Safari bug\n",
       "        targ = targ.parentNode;\n",
       "\n",
       "    // jQuery normalizes the pageX and pageY\n",
       "    // pageX,Y are the mouse positions relative to the document\n",
       "    // offset() returns the position of the element relative to the document\n",
       "    var x = e.pageX - $(targ).offset().left;\n",
       "    var y = e.pageY - $(targ).offset().top;\n",
       "\n",
       "    return {\"x\": x, \"y\": y};\n",
       "};\n",
       "\n",
       "/*\n",
       " * return a copy of an object with only non-object keys\n",
       " * we need this to avoid circular references\n",
       " * http://stackoverflow.com/a/24161582/3208463\n",
       " */\n",
       "function simpleKeys (original) {\n",
       "  return Object.keys(original).reduce(function (obj, key) {\n",
       "    if (typeof original[key] !== 'object')\n",
       "        obj[key] = original[key]\n",
       "    return obj;\n",
       "  }, {});\n",
       "}\n",
       "\n",
       "mpl.figure.prototype.mouse_event = function(event, name) {\n",
       "    var canvas_pos = mpl.findpos(event)\n",
       "\n",
       "    if (name === 'button_press')\n",
       "    {\n",
       "        this.canvas.focus();\n",
       "        this.canvas_div.focus();\n",
       "    }\n",
       "\n",
       "    var x = canvas_pos.x * mpl.ratio;\n",
       "    var y = canvas_pos.y * mpl.ratio;\n",
       "\n",
       "    this.send_message(name, {x: x, y: y, button: event.button,\n",
       "                             step: event.step,\n",
       "                             guiEvent: simpleKeys(event)});\n",
       "\n",
       "    /* This prevents the web browser from automatically changing to\n",
       "     * the text insertion cursor when the button is pressed.  We want\n",
       "     * to control all of the cursor setting manually through the\n",
       "     * 'cursor' event from matplotlib */\n",
       "    event.preventDefault();\n",
       "    return false;\n",
       "}\n",
       "\n",
       "mpl.figure.prototype._key_event_extra = function(event, name) {\n",
       "    // Handle any extra behaviour associated with a key event\n",
       "}\n",
       "\n",
       "mpl.figure.prototype.key_event = function(event, name) {\n",
       "\n",
       "    // Prevent repeat events\n",
       "    if (name == 'key_press')\n",
       "    {\n",
       "        if (event.which === this._key)\n",
       "            return;\n",
       "        else\n",
       "            this._key = event.which;\n",
       "    }\n",
       "    if (name == 'key_release')\n",
       "        this._key = null;\n",
       "\n",
       "    var value = '';\n",
       "    if (event.ctrlKey && event.which != 17)\n",
       "        value += \"ctrl+\";\n",
       "    if (event.altKey && event.which != 18)\n",
       "        value += \"alt+\";\n",
       "    if (event.shiftKey && event.which != 16)\n",
       "        value += \"shift+\";\n",
       "\n",
       "    value += 'k';\n",
       "    value += event.which.toString();\n",
       "\n",
       "    this._key_event_extra(event, name);\n",
       "\n",
       "    this.send_message(name, {key: value,\n",
       "                             guiEvent: simpleKeys(event)});\n",
       "    return false;\n",
       "}\n",
       "\n",
       "mpl.figure.prototype.toolbar_button_onclick = function(name) {\n",
       "    if (name == 'download') {\n",
       "        this.handle_save(this, null);\n",
       "    } else {\n",
       "        this.send_message(\"toolbar_button\", {name: name});\n",
       "    }\n",
       "};\n",
       "\n",
       "mpl.figure.prototype.toolbar_button_onmouseover = function(tooltip) {\n",
       "    this.message.textContent = tooltip;\n",
       "};\n",
       "mpl.toolbar_items = [[\"Home\", \"Reset original view\", \"fa fa-home icon-home\", \"home\"], [\"Back\", \"Back to previous view\", \"fa fa-arrow-left icon-arrow-left\", \"back\"], [\"Forward\", \"Forward to next view\", \"fa fa-arrow-right icon-arrow-right\", \"forward\"], [\"\", \"\", \"\", \"\"], [\"Pan\", \"Pan axes with left mouse, zoom with right\", \"fa fa-arrows icon-move\", \"pan\"], [\"Zoom\", \"Zoom to rectangle\", \"fa fa-square-o icon-check-empty\", \"zoom\"], [\"\", \"\", \"\", \"\"], [\"Download\", \"Download plot\", \"fa fa-floppy-o icon-save\", \"download\"]];\n",
       "\n",
       "mpl.extensions = [\"eps\", \"jpeg\", \"pdf\", \"png\", \"ps\", \"raw\", \"svg\", \"tif\"];\n",
       "\n",
       "mpl.default_extension = \"png\";var comm_websocket_adapter = function(comm) {\n",
       "    // Create a \"websocket\"-like object which calls the given IPython comm\n",
       "    // object with the appropriate methods. Currently this is a non binary\n",
       "    // socket, so there is still some room for performance tuning.\n",
       "    var ws = {};\n",
       "\n",
       "    ws.close = function() {\n",
       "        comm.close()\n",
       "    };\n",
       "    ws.send = function(m) {\n",
       "        //console.log('sending', m);\n",
       "        comm.send(m);\n",
       "    };\n",
       "    // Register the callback with on_msg.\n",
       "    comm.on_msg(function(msg) {\n",
       "        //console.log('receiving', msg['content']['data'], msg);\n",
       "        // Pass the mpl event to the overridden (by mpl) onmessage function.\n",
       "        ws.onmessage(msg['content']['data'])\n",
       "    });\n",
       "    return ws;\n",
       "}\n",
       "\n",
       "mpl.mpl_figure_comm = function(comm, msg) {\n",
       "    // This is the function which gets called when the mpl process\n",
       "    // starts-up an IPython Comm through the \"matplotlib\" channel.\n",
       "\n",
       "    var id = msg.content.data.id;\n",
       "    // Get hold of the div created by the display call when the Comm\n",
       "    // socket was opened in Python.\n",
       "    var element = $(\"#\" + id);\n",
       "    var ws_proxy = comm_websocket_adapter(comm)\n",
       "\n",
       "    function ondownload(figure, format) {\n",
       "        window.open(figure.imageObj.src);\n",
       "    }\n",
       "\n",
       "    var fig = new mpl.figure(id, ws_proxy,\n",
       "                           ondownload,\n",
       "                           element.get(0));\n",
       "\n",
       "    // Call onopen now - mpl needs it, as it is assuming we've passed it a real\n",
       "    // web socket which is closed, not our websocket->open comm proxy.\n",
       "    ws_proxy.onopen();\n",
       "\n",
       "    fig.parent_element = element.get(0);\n",
       "    fig.cell_info = mpl.find_output_cell(\"<div id='\" + id + \"'></div>\");\n",
       "    if (!fig.cell_info) {\n",
       "        console.error(\"Failed to find cell for figure\", id, fig);\n",
       "        return;\n",
       "    }\n",
       "\n",
       "    var output_index = fig.cell_info[2]\n",
       "    var cell = fig.cell_info[0];\n",
       "\n",
       "};\n",
       "\n",
       "mpl.figure.prototype.handle_close = function(fig, msg) {\n",
       "    var width = fig.canvas.width/mpl.ratio\n",
       "    fig.root.unbind('remove')\n",
       "\n",
       "    // Update the output cell to use the data from the current canvas.\n",
       "    fig.push_to_output();\n",
       "    var dataURL = fig.canvas.toDataURL();\n",
       "    // Re-enable the keyboard manager in IPython - without this line, in FF,\n",
       "    // the notebook keyboard shortcuts fail.\n",
       "    IPython.keyboard_manager.enable()\n",
       "    $(fig.parent_element).html('<img src=\"' + dataURL + '\" width=\"' + width + '\">');\n",
       "    fig.close_ws(fig, msg);\n",
       "}\n",
       "\n",
       "mpl.figure.prototype.close_ws = function(fig, msg){\n",
       "    fig.send_message('closing', msg);\n",
       "    // fig.ws.close()\n",
       "}\n",
       "\n",
       "mpl.figure.prototype.push_to_output = function(remove_interactive) {\n",
       "    // Turn the data on the canvas into data in the output cell.\n",
       "    var width = this.canvas.width/mpl.ratio\n",
       "    var dataURL = this.canvas.toDataURL();\n",
       "    this.cell_info[1]['text/html'] = '<img src=\"' + dataURL + '\" width=\"' + width + '\">';\n",
       "}\n",
       "\n",
       "mpl.figure.prototype.updated_canvas_event = function() {\n",
       "    // Tell IPython that the notebook contents must change.\n",
       "    IPython.notebook.set_dirty(true);\n",
       "    this.send_message(\"ack\", {});\n",
       "    var fig = this;\n",
       "    // Wait a second, then push the new image to the DOM so\n",
       "    // that it is saved nicely (might be nice to debounce this).\n",
       "    setTimeout(function () { fig.push_to_output() }, 1000);\n",
       "}\n",
       "\n",
       "mpl.figure.prototype._init_toolbar = function() {\n",
       "    var fig = this;\n",
       "\n",
       "    var nav_element = $('<div/>');\n",
       "    nav_element.attr('style', 'width: 100%');\n",
       "    this.root.append(nav_element);\n",
       "\n",
       "    // Define a callback function for later on.\n",
       "    function toolbar_event(event) {\n",
       "        return fig.toolbar_button_onclick(event['data']);\n",
       "    }\n",
       "    function toolbar_mouse_event(event) {\n",
       "        return fig.toolbar_button_onmouseover(event['data']);\n",
       "    }\n",
       "\n",
       "    for(var toolbar_ind in mpl.toolbar_items){\n",
       "        var name = mpl.toolbar_items[toolbar_ind][0];\n",
       "        var tooltip = mpl.toolbar_items[toolbar_ind][1];\n",
       "        var image = mpl.toolbar_items[toolbar_ind][2];\n",
       "        var method_name = mpl.toolbar_items[toolbar_ind][3];\n",
       "\n",
       "        if (!name) { continue; };\n",
       "\n",
       "        var button = $('<button class=\"btn btn-default\" href=\"#\" title=\"' + name + '\"><i class=\"fa ' + image + ' fa-lg\"></i></button>');\n",
       "        button.click(method_name, toolbar_event);\n",
       "        button.mouseover(tooltip, toolbar_mouse_event);\n",
       "        nav_element.append(button);\n",
       "    }\n",
       "\n",
       "    // Add the status bar.\n",
       "    var status_bar = $('<span class=\"mpl-message\" style=\"text-align:right; float: right;\"/>');\n",
       "    nav_element.append(status_bar);\n",
       "    this.message = status_bar[0];\n",
       "\n",
       "    // Add the close button to the window.\n",
       "    var buttongrp = $('<div class=\"btn-group inline pull-right\"></div>');\n",
       "    var button = $('<button class=\"btn btn-mini btn-primary\" href=\"#\" title=\"Stop Interaction\"><i class=\"fa fa-power-off icon-remove icon-large\"></i></button>');\n",
       "    button.click(function (evt) { fig.handle_close(fig, {}); } );\n",
       "    button.mouseover('Stop Interaction', toolbar_mouse_event);\n",
       "    buttongrp.append(button);\n",
       "    var titlebar = this.root.find($('.ui-dialog-titlebar'));\n",
       "    titlebar.prepend(buttongrp);\n",
       "}\n",
       "\n",
       "mpl.figure.prototype._root_extra_style = function(el){\n",
       "    var fig = this\n",
       "    el.on(\"remove\", function(){\n",
       "\tfig.close_ws(fig, {});\n",
       "    });\n",
       "}\n",
       "\n",
       "mpl.figure.prototype._canvas_extra_style = function(el){\n",
       "    // this is important to make the div 'focusable\n",
       "    el.attr('tabindex', 0)\n",
       "    // reach out to IPython and tell the keyboard manager to turn it's self\n",
       "    // off when our div gets focus\n",
       "\n",
       "    // location in version 3\n",
       "    if (IPython.notebook.keyboard_manager) {\n",
       "        IPython.notebook.keyboard_manager.register_events(el);\n",
       "    }\n",
       "    else {\n",
       "        // location in version 2\n",
       "        IPython.keyboard_manager.register_events(el);\n",
       "    }\n",
       "\n",
       "}\n",
       "\n",
       "mpl.figure.prototype._key_event_extra = function(event, name) {\n",
       "    var manager = IPython.notebook.keyboard_manager;\n",
       "    if (!manager)\n",
       "        manager = IPython.keyboard_manager;\n",
       "\n",
       "    // Check for shift+enter\n",
       "    if (event.shiftKey && event.which == 13) {\n",
       "        this.canvas_div.blur();\n",
       "        event.shiftKey = false;\n",
       "        // Send a \"J\" for go to next cell\n",
       "        event.which = 74;\n",
       "        event.keyCode = 74;\n",
       "        manager.command_mode();\n",
       "        manager.handle_keydown(event);\n",
       "    }\n",
       "}\n",
       "\n",
       "mpl.figure.prototype.handle_save = function(fig, msg) {\n",
       "    fig.ondownload(fig, null);\n",
       "}\n",
       "\n",
       "\n",
       "mpl.find_output_cell = function(html_output) {\n",
       "    // Return the cell and output element which can be found *uniquely* in the notebook.\n",
       "    // Note - this is a bit hacky, but it is done because the \"notebook_saving.Notebook\"\n",
       "    // IPython event is triggered only after the cells have been serialised, which for\n",
       "    // our purposes (turning an active figure into a static one), is too late.\n",
       "    var cells = IPython.notebook.get_cells();\n",
       "    var ncells = cells.length;\n",
       "    for (var i=0; i<ncells; i++) {\n",
       "        var cell = cells[i];\n",
       "        if (cell.cell_type === 'code'){\n",
       "            for (var j=0; j<cell.output_area.outputs.length; j++) {\n",
       "                var data = cell.output_area.outputs[j];\n",
       "                if (data.data) {\n",
       "                    // IPython >= 3 moved mimebundle to data attribute of output\n",
       "                    data = data.data;\n",
       "                }\n",
       "                if (data['text/html'] == html_output) {\n",
       "                    return [cell, data, j];\n",
       "                }\n",
       "            }\n",
       "        }\n",
       "    }\n",
       "}\n",
       "\n",
       "// Register the function which deals with the matplotlib target/channel.\n",
       "// The kernel may be null if the page has been refreshed.\n",
       "if (IPython.notebook.kernel != null) {\n",
       "    IPython.notebook.kernel.comm_manager.register_target('matplotlib', mpl.mpl_figure_comm);\n",
       "}\n"
      ],
      "text/plain": [
       "<IPython.core.display.Javascript object>"
      ]
     },
     "metadata": {},
     "output_type": "display_data"
    },
    {
     "data": {
      "text/html": [
       "<img src=\"data:image/png;base64,iVBORw0KGgoAAAANSUhEUgAAAoAAAAHgCAYAAAA10dzkAAAAAXNSR0IArs4c6QAAAARnQU1BAACxjwv8YQUAAIoKSURBVHhe7d0HfFNlGwXwpy1toZS9ZwFB9kYpOBgi4EBUlCmCg6EiGwFFGSp7OMH54cDNdrGXyl6y996ltFBauu+X8+ZeDCFp0zZpM87fX0zuaJKbhNyTd/ppJkJEREREPsNfvyYiIiIiH8EASERERORjGACJiIiIfAwDIBEREZGPYQAkIiIi8jEMgEREREQ+hgGQiIiIyMcwABIRERH5GAZAIiIiIh/DAEhERETkYxgAiYiIiHwMAyARERGRj2EAJCIiIvIxDIBEREREPoYBkIiIiMjHMAASERER+RgGQCIiIiIfwwBIRERE5GMYAImIiIh8DAMgERERkY9hACQiIiLyMQyARERERD6GAZCIiIjIxzAAEhEREfkYBkAiIiIiH8MASERERORjGACJiIiIfAwDIBEREZGPYQAkIiIi8jEMgEREREQ+hgGQiIiIyMcwABIRERH5GAZAIiIiIh/DAEhERETkYxgAiYiIiHwMAyARERGRj2EAJCIiIvIxDIBEREREPoYBkIiIiMjHMAASERER+RgGQCIiIiIfwwBIRERE5GMYAImIiIh8DAMgERERkY9hACQiIiLyMQyARERERD6GAZCIiIjIxzAAEhEREfkYBkAiIiIiH8MASERERORjGACJiIiIfAwDIBEREZGPYQAkIiIi8jEMgEREREQ+hgGQiIiIyMcwABIRERH5GD/NRL9NGZSamirnzp2TfPnyiZ+fn76WiIiI3BmiT0xMjJQuXVr8/X2zLIwBMAvOnDkj5cqV05eIiIjIk5w+fVrKli2rL/kWBsAsuHr1qhQsWFB9gPLnz6+vJSIiInd27do1VYATHR0tBQoU0Nf6FgbALMAHCB8cBEEGQCIiIs/A8zc7gRARERH5HAZAIiIiIh/DAEhERETkY9gGMAscaUOAlzc5OVlSUlL0NUTOFRAQILly5eJQREREDmIbQAbALEnvA5SYmCjnz5+XuLg4fQ2Ra4SEhEipUqUkKChIX0NERPYwADIAZklaHyAMEn348GFVOlOsWDF1YmYJDTkb/vnih0ZERIQqZa5SpYrPDmpKROQoBkAGwCxJ6wMUHx8vx48fl7CwMFU6Q+RKKGU+efKkVKxYUXLnzq2vJSIiWxgA2QnE5VgaQ9mBnzMiIsoInjWIiIiIfAwDIPmMEydOqHaYO3fu1Ne4Rs+ePeXxxx/Xl0SaN28uAwcO1JeIiIhyHgMg3QLhBSEJFwwtUr58eXnppZckKipK38NzYd5H9MquVauWviZ7zJ8/X95++219iYiIKOcxANJt2rZtq4ISSsy++OIL+fXXX+Xll1/Wt7oOerO6EnpklyxZUgXb7FS4cGHJly+fvkRE5JswHO6aNSI//GC+5vC4OYsBkG4THBysglLZsmWldevW0qlTJ1m2bJm+1Qw9p3r37i3FixdXPahatmwp//77r77V7J133lHbEX5efPFFGTFihNSrV0/f+l9V6YQJE6R06dJy5513qvUIgq+99pqUKVNG8ubNK40bNzZ9WZi+LXTo7dquXTspVKiQ2l6zZk35448/1DaUVHbr1k0NvZMnTx41LMrs2bPVNltVwGvXrpW7775bHTPG0cNzxMDdBlTf9u/fXz0fBDm8LmPGjNG3Osa6CrhChQoyfvx4ef7559Vrg1LWzz77TN9qdvbsWfW64xiLFCki7du3V8+fiMgTzZ+P7z6RFi1EunY1X2MZ6ylnMABmI4y4E5+ckO2XrIz0c+zYMVmyZIkEBgbqa8zH8cgjj8iFCxdU8Nq2bZs0aNBAHnjgAbly5Yra57vvvpN3331XJk2apLYj5MyaNUtts7Ry5UrZv3+/LF++XH777Te17rnnnpN//vlHfvzxR9m1a5c8/fTTqlQS4yrCK6+8IgkJCbJu3TrZvXu3eozQ0FC17c0335R9+/bJn3/+qe4Xj1m0aFG1zRpC1sMPPyx33XWXCq/Y98svv1TB1dLXX3+tguamTZtk8uTJMm7cOPV8s2LatGnSqFEj2bFjhypdRTX7gQMH1DYM6dLC9O2IY8Ix/v333+o2XgNXl5ISETkbQt5TT4mcOaOv0Jm+gtV6hsCcwXEAs8CRcQAtx2VDGHtu1Qh1OzvNbjlRcucK1pfShlK5OXPmqOeMgYVxHDB9+nQZNGiQur1q1Sp54okn5NKlS6rkzFC5cmVVUoaSwfDwcBVwPvroI32ryL333ivXr1+/WQKHx0K4PHXq1M0ZLI4ePapK7c6YvilQKmho1aqVKqlDyVmdOnWkQ4cOMnr0aH3rfx577DEV+P73v//pa/6DEjS8HwhdKIl84403ZN68eSooGoN0z5w5U4YPH67eUwytgtI7vA5//fWX2g54HijxnDhxor7mVjiu6OhoWbhwoVrGfeDx3nvvPbWMEsD77rtPvv32W7WMf4IoWRw7dqz07dtXPXcETcvnheBXsGBBdZ8olbVm6/NGRJTTUM2Lkj7r8GfAV1zZsmL6/kIzHX1lNuA4gCwBJBtQ+oSQhhKvV199Vdq0aaOuDSjRQ5BD1SRKpowLAggCHBw8eFAFJUvWy1C7du1bpi/bvn27CkSoDra8b1TVGveNKlmU0t1zzz0qBKKU0ICSNJQcInAhjK5fv17fcjsErCZNmtwMWYD7xLEhgBoQOC2hqhjhNyss7xOPjwBo3Cde3yNHjqjqYeP4Uf2MkGe8BkREngC/ne2FP0AR1OnT5v0om6EEkDLH9MsBpafq2tqNGze0ffv2qWtDamqqdiMpPtsveFxH9ejRQ2vfvr2+ZNa8eXNt1KhR+pKmTZw4UStTpox2+PDh2y4RERFqn4IFC2rffPONum0YOHCgVrduXX3J9mOZwpsWEBCgHThw4Lb7Pn/+vL6Xpp06dUqbNWuW9sQTT2iBgYHaBx98oG/RNFOQ0mbPnq1169ZNy507tzZkyBC13hRQ1fu1Y8cOtfz4449rzz33nLptwDbsg/uHZs2aaQMGDFC3DXjOeO72WB+X9X2EhYVpM2bM0JfM8LqYwqy63bdvX80Ulm87flyio6PVPtZsfd6IyLclJ2va6tWa9v335mssZzc8tjnmpX3BftkprfO3r2AJYDZCSQ+qYrP7YlnClRkoZZs6daqcO3dOLaO9H9r/oTctqn0tL0Z7u6pVq8rmzZvVbcPWrVv1W/bVr19fVbmiNMz6vlFKZsCQLqguxRArpoAnn3/+ub5FVAcQoyob1a7WHSwMNWrUUCWEpn8H+hpRyyh5QweUnILX1xT2VAca69cAVRZEROlxl04XpUrpN9Lh6H7kPAyAlC60YUNPW7S/A7THQ9UpevAuXbpUta1DcBo1atTNkIcqY3SoQAcKhBlU2aKqNr0wiqpf9OJ99tlnVbhDtfKWLVtURw+jpy961OJxsQ1VxmiTWL16dbXtrbfekkWLFqkq1L1796qOJcY2a+h8cfr0afVc0QEDf4ewO3jw4BydWg3HjyCNnr9oe4jjRBX4gAEDbqmaJiKyBSHPXTpd3HefuY2fva9+rDf9nlf7UfZiACSHIBShlA2BCSEOYez+++9XQ5kgtHXu3FkFwRIlSqj9EWJGjhwpQ4cOVSVaCDEolXOkgwKGbUEARMkeShLRsQPtEVHqByghRE9gBDv0jMU+6LwBaE+Ix0UbOzw/jP2HNoG2oJQPx4GSyrp166oSxRdeeEEF2ZwUEhKiev+i5/STTz6pjhOv840bN3y2sTIROQadLky/FVXFqjVjHUalwn7ZAR073n/ffNs6BBrL6B+XnR1AyIy9gLMgo72Afd2DDz6oqnGN3q/kPPy8ERFgyFRU96Zn9WrU7ugL2QCljgimlqWS+E2P8Gf6nZvt2AuYJYDkIhjLDkPHoBoW1auoWl2xYoX06NFD34OIiJzt/Hn9Rjoc3c9ZEPIwlj2C5/ffm69Nv1lzJPyRGQMguYRRTYzx7ho2bKimk8OYe2g/SEREruHOnS5QzYtSxy5dzNes9s1ZbhkA0f4JU31hIGAECWNAXUsYww1tw1CEi16bGHgYAwobMFMEGvejMT1mccC+1g3osT8eB9uxH8aX40wLzoFp2FDih5lBYmNjVWcNtGcjIiLXYacLcpRbBkAEBjTKt5xFwhIGw8WsEtWqVVNzxGIaL0wBZtn2CT1FFyxYoDoAYCotDO776KOPqg4EgGtMZ4bHwnbshxIqdDwgIiLyRN7W6SIp9b+52cm53L4TCEoAEeQw5IgBPU4xN629zgRo1Imx4LAdE+oDxrBDL1JUS2JmC8wVi0CIXq3GlGMIgeipijHoHGkUyk4g5C74eSNyfyh/wIwXaH+HKliUwrkqiLlbp4vM2Hppj/xv/1wZVv9FqZi/rL7WOdgJxAPbAKampsrvv/+uhh5BkMNguY0bN76lmhhTaSUlJd0yZypCXq1atW5ODbZhwwa1bDnfLO4PVcf4e1uwDR8aywsREbk3BC/0jv3hB/N1dg2BYgmBLDsHZvbkThcJKYny5b5fZNrOLyUq4ar8emKVvoWcyeMCIErnUJ2LifgxBtyyZcvkiSeeUO3LMFguYJYKjAdXqFAhtWzAGHXYBrg2xqwzYH/8nbGPtQkTJqhfDMbFGJeOiIjcU3YHL1vwWDkxMLMndro4GXNW3tg4XVacMRfWPFqhhbxcy/TGkdN5ZAkgYJaEQYMGqUn/R4wYoapzP/nkE7XNHtR2W85EYXnbYL2PJQwwjOJi44LqYyIick85FbwsobTRnQZmdlepWqr8cXKtjNo4Q87GXpSCwfnl9YZ9pdudj0ku/1z6XuRMHhcA0VsXc9BiHldLmC3B6AWMwYbRmzcqKkotG1B6aJT6YR/rkj7sj6pj65JBQ3BwsGorYHkhIiL34y7BC23+rAOoJTwXlCVgP18VnXBNJm3/XL49uFCStRRpWKyWTGoyTGoXqarvQa7gcQEQVbR33XWXHDx4UF9jdujQIQkLC1O3Me4cOoksX75cLcP58+dlz5490rRpU7WMuWyxjPUGVCcj5OHvyfegRzlKf6Ojo/U1ROSp3CV4uevAzO5ie8ReGb5+iuyKPCBB/oHyfPWnZEi95yV/UKi+B7mKWwZAtPHbuXOnugB6N+K2UcI3bNgw+emnn9TctJj0H8PFYKBhTO4PaJ+HOV0xpMvKlStlx44d8swzz0jt2rVvDkSMDiIoRezevbvajv0wb22vXr18umQPpaR9+vRR89AiDKOkFJ1j0GnGWZo3b66G6bHkqeGrQoUK8h661RFRjkEpnnUnD3cJXu48MHNOSkxJkq8OzJcpO76Qa0nXJSxfaXk3fLA8WO4eu82wyLncMgBu3bpV6tevry4wePBgdfutt95Sy+j0gfZ+kydPVqHuiy++UGP4YWxAw4wZM9TQMR07dpR77rlHTbCPkBigt4LFNXoTY8gMbMd+2H/q1Klqu7uw9cXmSh06dFDjKn799deqVHXx4sUqsGFAZ0+ANpzJyRw3ishXoB2frU4ehw/rO6TD1cGLAzPf7nTMeRm1aYYsPWUufn04rJm83XiQlA0tqZYpm2AcQMqcq1evoiWJurZ248YNbd++feo6s+bN07SyZVFR8d8Fy1jvClFRUep41qxZo6+xDfv16tVLK168uBYcHKzVrFlTM4Vrte3y5cta586dtTJlymh58uTRatWqpX3//fdqG/To0UM9huXl+PHjt63DfpCamqpNmjRJq1ixomYK61qdOnW0X375RW2D1atXq/2XLFmiNWzYUAsMDNRWrVqlb/2P8Rg//PCD1qRJE/W8a9Soof7eYNwXjs8wd+5ctV9QUJAWFhammX4g6Fs0rVmzZjefr3HJKc74vBF5GnwX+vnd+h2Ji7GuSBHb23HB+nLlNC05Wb8zFzKep/VzMda56jvd3eD7fMnJdVr35UO1zksHan1Wv6ntiNinb81eaZ2/fYXpI0iZ5coAmNYXm6u+MJKSkrTQ0FBt4MCBWnx8vL72VikpKVp4eLgKfcuWLdOOHj2qwt8ff/yhtp85c0abMmWKtmPHDrXtgw8+0AICArSNGzeq7dHR0SqAIUCeP39eXZJN38DzTAeE1/LgwYNqHfaD119/XatWrZoKeLi/2bNnq/BmhFQjtCEY4vkcOXJEhVBrRgAsa0rQCHV4b1588UUtX758N/e3DoBbt27V/P39tXHjxqnnhcdGqMU1REZGqvvDduNYcgoDIPkaBDfrH8iWF3xPGgHQ+rvUld+j9vz8s6YVLXrr80AA9ZXwFx1/TZu07TMV/HCZuO1TtS6nMACaPoP6NWWCqwKgI19srvrlinBUqFAhVdrWtGlTbeTIkdq///6rb9W0pUuXqlCEQOSohx9+WBsyZIi+ZC45GzBggL5kZqv07fr16+p5rF+/Xl9j9sILL2hdunRRt42/W7hwoVq2xwiAEydO1NeYAy8CHEoYwfo5dO3aVXvwwQfVbcOwYcNUiaABpYIzZszQl3IOAyD5GtM/V/V9mN5l7Njbv0+zO3jhsayfQ7FimmZRmeHVdkbsV6V9CH4o/UMpIEoDcxIDoKZ5XC9gX5CTvdfQBhDT5qHtHzp/oHNGgwYN5KuvvlLb0RnHFJrUTCy2YI7ld999V+rUqSNFihSR0NBQ1bva6MCTEaZAo6Y4M4UwdT/G5ZtvvlHzQVtq1KiRfitt6P1twHBC+Lv9+/fra26F9WgfagnLhw8fVsdJRDnH0c4bVark7IwY9sYivHxZpGPH7BmLMKdgHl8M7TJx+6dyNTFGyoWWkncaD5I25e9jRw83wADohnK69xo6xiB0odMNps7D/MijR49W2/LkyaOu7Zk2bZrqgPPaa6/JqlWrVGBEkMS4jBllDPqNzjpGr3BcEAznzp2rthny5s2r38o4e19Eph9It23DOiLKeRnpXZtTM2Lgd6KvDgJ95voFeXPTDDW4M7Qud68p/A2U8vn+m36VchYDoBtyt2EDMFxObGysuo2SvTOmn7LoIWzLX3/9pWZpwbA7devWlUqVKqkSM0sYy9G6BA3rwHI9HhdD0aD0sHLlyrdcMjsN38aNG/VbonoLY97natWq6Wtuhcf/+++/9SUzBGKUfhq9yW0dCxG5nif0rnWXsQizE34kLz/9j7y+cbqcjDkn+QNDZVj9F+W56h0kKMD8PU/ugQHQDeXUF1tkZKS0bNlS5syZI7t27VLjL/7yyy9quB2EOmjWrJncf//9qqoYA21jnz///FOWLFmitiOcYT2CEqpQMaag9YwrGDtv06ZNcuLECbl8+bIq6cMg3iht++233yQiIkKNBZkvXz41NiOm/MOwNKj2xZiNH3/8sVrODPztggUL5MCBA/LKK6+o2V+ef/55feutjHEk3377bRV48ZgYcxLPyYBjWbdunZw9e1YdCxFlD/wGe/99823r70pjGUN0Zldpny3uMhZhdrmWeF2m7/yf/G//XElKTZI6RarJpKbDpEGxmvoe5FbQEJAyx1WdQACNhrO79xp6/o4YMUJr0KCBVqBAAS0kJESrWrWqNmrUKC0uLk7fy9z79bnnntOKFCmiOmlgqBdTcLu5zRQWVW9iDBODv3322WfVOgM6kKAnMXrU4vVDBw1Ab9qSJUuajs/vlmFg3n//ffU8MMRLsWLFtDZt2mhr165V2211HrHF6ASCIWkaN26shnWpXr26Zgp4+h6278sYBgaPXb58edXD2dKGDRtUD2T0TMbf5hR2AiFfZauDhbv0rnW0owr283S7Lh/Q+q55S3X0eGbZEO33E2u0lNQUfav7YScQU5bA/0wvAmXCtWvX1Kwjpg/QbbOHoPMCSscqVqyo2tRlBhoHo/2IZRUCSv7wqza7GjB7C5Q24r1ACWK9evX0td7DGZ83Ik+FVhioRkVJGprGoHYkJ0v+DHheGJT67Flz1LOGkkrU9qBTijs838xITk2Wn478Ib+dWK2Wy+QtIf1qd5cK+cuoZXeV1vnbV7AK2I0h5OVk7zUiIk+A8JQTnTzSg+fh7tXUWXEu9pK8ten9m+GvVdl71HRu7h7+yIwB0M256xcbERGlDz/YMWhBGatMhJI/rPfEH/SoOFx1ZqO8vmGaHI85I6GBeWVIveflhRpPSTA7engMVgFngaurgIkcxc8bkXtz12pqyMhzu54UK5/v/Vk2X9qllmsVriIv1eomhXMXUMueglXALAEkIiJyuazW5iCkrVkj8sMP5mssOwPamqOdYosWIl27mq+xbGuA6n1Xjsjw9VNU+AvwC5CuVdrJyIZ9PS78kRkDIBERUTbLSKDLSEjLCPy9rVlK0GkF6437T05NkR8P/y7vbJ0pVxKuSqmQYvJ24wHSrmJL8fdjjPBUfOdcjDXslB34OSNf46oSseyQkUDnaEjLKLxejsxScjYmQsZs/kAWHV8hmum/FmXCZXz4EKmYP3OD8ZP7YAB0kcDAQHUdFxenrolcyficGZ87Im+WkQDlbjIS6BwNaZkJv+nPUqJJrmqbZeSGaXL02inJmytEBtbtKb1rdpLcuYL1vciTsRNIFqTXiPT8+fMSHR0txYsXl5CQEOHk1+Rs+OeL8Hfp0iUpWLCglMqu+QGJcogRoKzPXMbXqzv3rEVQQ1C1F7ysxwVEySbCbXowRBjaFWYESk4Rnm0JzHtD7hrws5RvtlMt1yhUWV6u3VWK5C6klr0BO4EwAGZJeh8gvLSYBg0hkMiVEP5KlizJHxnk1TIaoNxNRgNdWiHNEsaJRecSa3i97PXutfdcitU6KuGvfSd5S0RJarK/hAc/JANael9bPwZABsAscfQDlGL6V5iUlKQvETkXqn0D3PFsR+RkriwRyw4ZDXRZOV6UlFrPJIVwjIGpUUJqhGljlhI//xSp+cwyqdF5ufgHaBJztqgcm91ddq8u75ZhOqsYABkAs4QfICKi7JPVErGcltFAl16JJ2B6UOsST4S/Dh30BRvmzTOHQKM6PW/JyxL+2hwpWuOk2n582d2yfdYT8uO3uT1yoGpH8PzNTiBEROQhHG3i6q5NYVEFi1I4ey01sB6BDvsBQl16QbZz51vDH0Jj7976gh3Yjv0Q7qYt3CptZ01V4S/xem75Z/yzcu7nLl4d/siMJYBZwF8QRETZx7ra0pq7twEEo9QNLI/BCIWWnVgyUwK4cqVIq1bm22n5Y/kNOVpinvxzfptaLulXUWpdeUbuKFHYrWYpcRWev1kCSEREHgKhBG3YwLoUzVh+7z33Di8Id47ODZzeUC1w+rR5PwOqmdNTpPoJ+T5uqgp/6NzxdOWHZFqrfvJCp8Kq6tnbwx+ZMQASEZHHyEiAcjaUyCFgZXXwaTzHEyfMbf3QXhHXKMWzfu7ovesIR/dTHT26LZUHpn0oybmvSPE8hWX0Xa/Kk5Vac0YPH8Qq4CxgETIRUc5A+LI3xImz4bHefddc+njlir7SxLJXrTNYHxOWHanOtewFbK8KOKT4FWkyfI4Uq2VKmiaV/RrKyBZPSUiu3GrZ1/D8zQCYJfwAERF5N7TZQ6eJyEh9hQVb7fYyy96wLTdumEOno20eERpLlLj1+ZZvtl0a9f9FgkLjJSk2WA589bT8O7+hT1f18vzNKmAiIiKbjA4btsIfGKEss9OxGYzHsW7vh84ueGw8jqNtHnH7s8/Mt3PliZfGQ76Xpq9/q8Lf5X0VZMlLw2RcD98Of2TGEsAs4C8IIiLvhECXXg9cS7YGY3ZEeo+DoFe4sEju3OZAaEDvX4Q/eyWPXyw8Kb/FzJE8JS5Laoqf7PvhQYle21renxHgtCprT8bzNwNglvADRETknRwdtNmQ2cGnHX2cFSvMpXvptXlM1VJl8fGVMvfoEkkx3Q6VQlL36jNSq1glnxjexVE8f7MKmIiI3BhKyJzR8zajHO1Za8js4NOOPs6lS+YSRoRMe0O1RMZHyTtbZ8pPR/5Q4a9JyfryXoth0u/pShzehW7DAEhERG4JbeNQPYoSMkwBh2ssY72rZSTQWc7ekVGOPk56+226sFOGr58q+6OOSu6AYHmpVld5tXZ3yRuYR9+D6FasAs4CFiETEbmG0THC+gzlzJ63aUFJo3VvWnuMuXUzw2gDmNnZTeKTE+Sbgwtk9dlNavmO/OWlX51npGRIMbVMtvH8zRJAIiJyImdU2eJvMCSKrUBkrMtqz9v0LFqUfvgrUiRr4Q8Q6jI7u8mxa6dl5MZpKvz5mf57vOKDMubu/gx/5BAGQCIicgpnVdmmNwUaQqD1FGjOZATQtKDQ6Nw555RC4j4yMruJ0dHjrU3vy4W4CCkcXFBGNXpZOlV5WHL5s6EfOYYBkIiIssyosrU1lh3WZyQEOtoxIqMdNRyVXgCFa9dE1q/XF5wAIc+R6eGuxEfLhG2fyA+Hf5MULUUal6grk5oOlRqFK+t7EDmGAZCIiLLE2VW2zuoYkVmOBktMu+bMamhU86bV03fLpd0yfMMU2XPlsAT7B0nvGp1kQJ0eEhqYV9+DyHEMgERElCXOrrJFj1pUf1q3iTNgfVZ63qbH0WD5zjvZ0ys5ISVRvtj3s0zf+T+5nhQnFfOXlQlNhkiLsuGm18LOi0SUDgZAIiLKEmdX2WalY4QzpBdALWWmijsjTlw7K69vnCYrz2xQHT3aVWgp4+4eIKXyFtf3IMocBkAiIsoSV1TZZrRjhKNQZZteL+W0Aqg1V/VKRkeP30+skTc3zZBzsZekUHABeb1hX+l6ZzvJ5Z9L3yvzHHkdyLtxHMAs4DhCRETm8JCVsezSgvtG1TFKDxEgszKdGUrp0FbRsroazwthz1agtLV/WjI7H7C1qISr8smeH2RX5EG13Kh4bdXeL1+Qc9r6ZfR18EY8fzMAZgk/QEREZggVqAoFy7OKUYLm6oGb02M8P+szXnrPDwF0zBhze7/0ZHY+YEvbI/aq8BeTFCtB/oHybLXHpWWZJqbn6UB9tAMy+zp4G56/GQCzhB8gIqL/2CpZQmcNtNdzVaiwLiFs2tQ8PAuWi+vN5C5cEBk0SCQiwrxsLb0SSlSRYkzD9NgrAXSkFDMxJVG+O/SrLDv9t1oOy1dGTeVWJrSEWnYGo6TWXolmeq+DN+H5mwEwS/gBIiK6lTOrbNNjK3DisfAcMiOtAJdWFTdgVpCLF28/VlvP0bq69VTMOflw17dyJtaUVE0eDmsunas8IoFOaOtnKatB1pvw/M1OIERE5EQIQAgP9saycxajKtO6NCuz4Q8QWm3BMcyYYT/8AaaNw/Rxluw9R6Pn8Lz5miw5uU5GbZqhwl/BoHwyskEf6V61vdPDH9g7PmuO7keejQGQiIg8CkIeStWcXX9lr5cyghyqkNOC6lPLnsBpPUesC8ofI58d+1y+PrhAklKTpUHRGjKp6WtSp2g1fS/ns3d81hzdjzwbAyAREXkUVDHba8eWGQhv9gaWtleKZw2hznKw67SeY8lG++WhTydL4Tr7xS81UJ6r1kGG1n9R8geF6nu4RnrjG6b1OpD3YQAkIiKP4swqSiMM2RpYOjMljcZzs/Uc/QOTpH7fBdL83c8kd6HrEn28lPzRd5Bc33qv6XnYSWUOwnNNb1w/HF9ODrBN7oUBkIiIPIozqyhRImZv6JPMlDQaz836OeYPOy8PfvCeVH1inVo+uOA+WfbqILl6slSWB5FGKSU6qaCDR9eu5mt7U9ThOHG8zh5gmzwPewFnAXsRERFlHkJPZnoM4+/S65Wbnv79RZ54Iu3HRGkaApWjUH1qDKFiPMczZzSp/Oh6qdd7keQKTpL4qFDZNK2LnN9SQ/8rs8z2vDWqqK1fB6NEL63xDTPz2nsLnr8ZALOEHyAiosxBcElveJS0GMEHMnMWswxr9jg6bIph3rxbn/sP86/LzN0/Sdkme9TyuS3VZNPUrpIQnU8tW8rMINL/hUx9hRWEQLymvjCuX0bx/M0qYCIiymZGeLMOLsbwKLaqLq21b2+eoaNQIX1FBll22LAHpWJFi+oL6Rg79tbwh2nc1hWerMJfSmKAbJ/1uKx7s5fN8AeZqdZOr4oawRjHidfJXrtA8l1uGQDXrVsn7dq1k9KlS6uGsQsXLtS33K5Pnz5qn/fQctVCVFSUdO/eXSV8XHA7Ojpa32q2e/duadasmeTJk0fKlCkj48aNM/2DYYEoEZGrIISkNTwKpNcmDgERJV+jR4tcuWJeV7iwSM+e5tuOsh63zxq2O3JKQCnbG2+Yb2NIlzkHF8mEbZ9IdGKMXD1ZQpb1HyyHFjYz3dntp1yU0mW2562jnWEwjV1a7QLJN7llAIyNjZW6devKRx99pK+xDcFw06ZNKiha69q1q+zcuVOWLFmiLriNEGhA8e+DDz6o/nbLli3y4YcfytSpU2X69On6HkRE5GyOllrZK52zV3po+s0vX32lLzjou+/sB03jcTDAc1oQ4FBtjSrWs7EX5a1N78nvJ9eobedW3SPL+g2Wq8dvP0cZcLyZ7Xmb0VLDjJSwkg9AG0B3hqe4YMECfek/Z86c0cqUKaPt2bNHCwsL02bMmKFv0bR9+/apv9u4caO+RtM2bNig1h04cEAtz5w5UytQoIAWHx+vlmHChAmaKRBqqamp+pq0Xb16Vd0nromIKH3ff4/v9fQv2M9acrKmlS1re//MXlav1u/cgqOPg33mzdPUOWPF6X+0Z5cP0zovHai9uOoNbfbK3Tb/xvoydqz+oJlgPE8/P9v3beuCfcuVM/+tL+P5W7NRHu0BTP/YVGnesGHDpGbNmvra/5jCnqr2bdy4sb5GJDw8XK1bj1nCTbAPqn+Dg4PVMrRp00bOnTsnJ06c0NfcKiEhQZUcWl6IiMhxjpZa2dovvdLDzLBVjero46CqOiYxVl5fMVu+2PeLJKYmSe0id8rkpsMk+GItfa+0Vami38gElBraG9fPHsRAR9o/kvfzyAA4adIkyZUrl/RHP34bLly4IMWLF9eX/oN12Aa4LlGihLptMJaNfaxNmDDhZptCXMqh4QYRETkMbd3QZs5eYEmrTZyjbd4ywlbQdPRxJn97WOanTJET2m5JTQ6QugntZUSDPlIouECWgm5GoOOJrXH90uOK15I8i8cFwG3btpl+8bwvX331lemLwv5PHlvbNNNPH8v11vtgO9i735EjR6ou48blNH5GERGRw9IqtTKW7bWJy2pYsoTHshc003sc/1zJUuf5X6XFxFkSUuyqXDtdXJYPGCivt28uCxeYT6tZCboZhRCIiiuMJThqlL4yHc58LckzeVwA/Ouvv+TSpUtSvnx5VQqIy8mTJ2XIkCFSAV2cTEqWLCkXL15Uty1FRETcLOXDPtYlfbhfsC4ZNKC6GOMFWV6IiChj7JVaITClNRuFI6GqSBF9IR34vT9tmu2gaTyOLaGlI+SB6R9IjU6rxM9fkyO/N5GlrwyWqCPmP0AP55UrRX7+WaRXL/PjWD9fLGP9iy+a93PGEC04DgwkjSFfsit4kmfzuACItn+7du1SvXqNC3ryoj3g0qVL1T5NmjRRJXSbN29Wy4DewljXtGlTtYx9MNxMYmKiWoZly5ap+zKCJBERpQ/hJb15aK1ZllphEGRcY8Bie+EP0mvzhlDVrp2+4IDBg233iF2wACNF6As3aVKx9SZpM3OqFKl6WhKuhchfY5+TrR90lJQEc1tyPD7aDrZqZZ5BBMPUIJBiiBpLWMZ6bE9v6raMykoJK/kY1RXEzcTExGg7duxQFzzF6dOnq9snT57U97iVdS9gaNu2rVanTh3V+xeX2rVra48++qi+VdOio6O1EiVKaF26dNF2796tzZ8/X8ufP782depUfY/0mQKlen64JiLyRegFa91j1ugd6yq2HjMzF/SIxcXyuQ4bdvt+gaGxWtM3Zqsevri0mPSRlqdI1G372boYj4HevujZjGss29vPWa+brdcIvX9d+b54Ep6/TZ8J/dqtrF69Wr0x1pcePXroe9zKVgCMjIzUunXrpuXLl09dcDsqKkrfarZr1y7tvvvu04KDg7WSJUtqY8aMcXgIGOAHiIh8GcJEdoQZWzCMCcKU9WNn9ILnaQyL8vPPt28vVuuI1u7bMSr4dfx9sFat4wrNzz/ltv3SuxQrpmnffGO+trUdF8vn4gy4Hwxzg+CJa18f+sUSz9+mzxv+Z3oRKBMwDAx6A5s+QGwPSEQ+BdW8qLa0N1wKqhvRFs1V89Cm9/gZtWKFSOfOIpcvm5f9AlKk1jNLpXqnFeIfoEnM2aKyYWJ3uXKovHkHF0J1ONrzkevw/O2hw8AQEVHOSm+sPBQtuHK8OUfH6nMU2i4a4S+01GV5YNqHUrPrchX+ji1pLEtfHnpL+LPVBtFZOEQLZQcGQCIiyjBMK+YIV4UZ19yvJhUe2KI6ehStflISY/LIP+/0kM0zOkty/H+TBowdm/Fx9zKCQ7RQdmAVcBawCJmIfBF6q/bp81+JWVosqzNRbYuSO4Q3Y6x+jL6FwGMMS2JsN9bZqz5GiR16zzoDHmPk6BuyMm6uhLXYrtZd2nWHbJzcTeIiCqllQ7Fi/4VPPNdFi8y9ap3B1dXm9B+evxkAs4QfICLyNQh/Tz1lruJNi3WYwd9hjDx71bbG+H2RkeZrwN9jSBNbQ8MYbQBREpnVs1jRGsckfPh3ElryiqSm+Mueb9vK/p8eEC319kqyX34xHz84sx2iUaWc1jiI5Dw8fzMAZgk/QETkSxwNPNZhxtHQaM+PP5pCWlFzqR+gRBGlg+PHm6tjM8vPP0W186vRdZlq6xd7oYisn/CMRB4wHaQNw4aJTJ6sL5g4sxQSgzOjJJHhL3vw/O2kAHjjxg3TP2xNQkJC1DJm5liwYIHUqFFDWrdurdZ5I36AiMiXOBp4UE36ySfmMOPs3roGhMysnL3ylrgi4cO/lWI1T6jl48sbybaZHSQ5LrdatoTj+fhjkaef1lfoMPA1BnLOLNzvjBnm9oRpVXeT8/H87aROIO3bt5dvvvlG3Y6OjpbGjRvLtGnT1PpZs2ap9URE5Nkc7XiBUGOUZDm7t64hrfA3ZIg5XNkT1mKbtJk1RYW/xNjcsn5Cd9k0tZvN8IcSRhy3dfiDzHbWQHjFBSG5WzdziSbDH2U3pwTA7du3m369mFvwzp07V82li1JAhMIPPvhArSciIttQSobStYxMpZZd8Fwwt+2bb4r8+ae+Mh2WPWQd7S3sTD/9ZJ7n11qukHhpPOw7aTJijgTljZeIvRVk6UvD5NSaBvoet0JI++ILfcEGnPbQTjGj8Dds60c5zSkBMC4uTvLly6duYz7dJ02fan9/fwkPD1dBkIiIbEP7OFSRomrV2fPCZhWeg+n3vJrb9p13RL79Vt+QBsxzi9BohNiICPN1dkKJ46pV+oKucNWT0vbjqVKx1VZJTfGT3d+0kVVD+0nsRauJei2glDGtsQxRaodOKkabR3uwHSWJjsx5bBm4ccFtd/pBQN7DKQGwcuXKsnDhQtM/lNOydOnSm+3+Ll26xLZxRER2GJ0jrKtIUWqG9TkZAvHYHTrc2ivXEVeumAOjEWLTqop1pa++Ml/7+adKjS7LpdWMDyS0dKTEXiikgt/e79qKlupYvWtaVd8IcijNs1cSiM4d2P7WWyJduqRd3WsduHHBbazLyc8CeSendAJBtW9X00/XFNPPlAceeECVAsKECRNk3bp18qej9QYeho1IiSizUKqTVucIlBpZDqOSnfDcwsKyVn1rlIqNGSMyerT5dnYLKRYl4a99J8XrHFXLJ1c3kK0fPCVJcXnUsqMcmZoNrxlKCvGaodQTwTcjnTuMwJ2WefMyV21sPDdHxlf0FTx/OykAwoULF0wfrvNSt25dVf0LmzdvVi9stWrV1LK34QeIiDLL0R61OTEvbEaGN0Hrn5gYfcEKQqDRHtAVHUHSUu7+HXJX/18kKN8NSYoNlm0fd5ATKxuZtqRTX2shu0K4o4Ebz+XEiYw9FwRL6/EXcT/2xlf0FTx/O3EquJIlS0r9+vVvhj+4++67vTb8ERFlhaM9ah3dz1kQRtDuzFH2wh+geAHBo1cvc5gySgWtdepkf1tG5cqdIHcP/kHueeMbFf4u7w+TJS8PNYW/u0xbM/YgeP7oTOLq0jKj5DA9eC3ttUe0BeHPXZsYUM5zSgCMj4+XKVOmyMMPPyyNGjWSBg0a3HIhIqJbOTqESGaHGskMBAJUS6PtmTOhShRVwaVL6yt0aB+HmTX69jWXUmGwZ1ssyhVushUYKzY6JV1/nCaV2mwWLdVP9n73oKwc8qrEXrBzxw4YPNj1QSkjId/RfRHk8ZraquMz1g0caN6PfJNTqoDR/m/58uWmXxRPqSFg/Kz+ZY7OqQYgLsYiZCLKLJx4EbZQGmPrWxhfo9nZBtAoLcrIGQHBLDVVX3AAjgelgVWqmIMtgiEClr3q4UKFzCFlxAhzyReqpsGYCWTtWnPP5JjrqVL58VVyvtSfkqKlSnxkQTWjx6Xdd5j/IAuM05krh23JSJW7o00C3LmJgTvg+dtJARAv4h9//CH33HOPvsY38ANERFlhhC6w/CbOjtBhyQij9oKYM+HYcFyQXuBM63XAa4cSrsj4aAkf9p2UqHdErS+TWE/y/vu0jBtlnpnKGVwdxvH6O7sNoKOzlGBoGvRO9jU8fzupCrhMmTI3xwEkIiLHINQg3FgOnAw40WdX+AOUrmUk/NmqknUUAh+CW//+6Zc2GtutqypvBuewXdL2kykq/CXdCJJN0zrLtHbPOjX8AZ6H5XiAeC4oYXPWwN0IdI7MmYCOG44GUHdsYkDuxSklgBjmBTN+fPLJJ6ZfMaafMT6CvyCIyBkQIBAu0L4LJ+TsHqYjq3PaZgejqhKvVaU7E6T4o4uk8iMb1LbIg+Vkw8Tucv2c/UEH8+TBvPX6QiahtCw42HW9ahFse/e+fezFIkVEPvssY/eP18mdmhi4G56/nRQAIyIipGPHjmrMv5CQEAkMDNS3mF3ByKBeiB8gIvIGGWmDllNQCog5hueuOiOzj38r+ctdUh099v/cUvZ821ZSk3Ppe7oOZvNIq0l7Zsfps2SULuICCL24ZCakuUsTA3fE87eTAmCrVq3k1KlT8sILL9jsBNKjRw/9lnfhB4iIvIFRWpQdbQAzq0DBVPl661r56cjvovmlSFxEAdk4pZtc+reKvodrYWDn5GSRqCh9hQ0oqbt40b1K1Iy2kpbvLXpfv/ee74Y/4PnbSQEQpX4bNmxQg0D7En6AiMhbjBuXczN2pCd34asSPvR7KdnwkFo+/Xcd2fJeR0mMyauW3cmKFSIPPKAvuImcbmLgjnj+dlInEAz2fCOrjSuIiCjHYGgWd1S68R5pO2uKCn/J8UGy2RT8Nrzb0y3DHxhVt+4EYQ/VyOnNRUy+xSkBcOLEiTJkyBDTB3+NREZGqmRteSEiIveFEiJUXWZV4cL6DScICE6Uhv3myv3jvpTcBWPlyuEysrTfYDn2ZxNJTb21mRERZZxTqoCN6d+s2/7hrrEuBd8uXohFyETk6Wy1EXMUAt/PP4tcumSuWsRXfatW+sYsKFDxnDQd+Y0UCDOn0v2/tJDdXz8sqUm3dvRASZa7nV7csQqYbsfzt5MC4FoMx56GZs2a6be8Cz9AROTJjF6iWTkLWPZ8TUxEm/CshDJN7nx8ndR94VcJCEqRG5H5ZePUrnJxe1V9++3QM7hECXMAvXxZZNCgW8MsOmZgWBWUT2T9bJc2d+wEQrbx/O2kAOir+AEiIk+FkOaMnr+YA+DVV0VatjQvZ7YEMLhgjDQe+r2UvuuAWj67oaZsntFZEq6GqmV7+vUT6dDhv44NOC7rDg+LFmW+lDMjnDEMDGUPnr+dHADj4uLUcDCJ+BlooU6dOvot78IPEBG5C1vBJ62SKFeM/RdqymrXr+sLGVDqrn3SeMgPkrvQdUlOCJSdn7WXI781NW1xvK1feoMxW74+xYuL9Oxpf5DkzGDpn2fh+dtJARADQT/33HNqRhBb2AaQiMh1bLXjSy8QucPsH/6BSVLvxV/lzsdNycwk6lhp2TDxGbl20pRgMwmDNb/xRvpBzN4gyVlhzFZC7o/nbyf1Ah44cKBERUXJxo0bJU+ePLJkyRL5+uuvpUqVKrJ48WJ9LyIicjYjyFhXb6J0C+ux3RaUEuakAmHnpfUHM26Gv4Pz75fl/QdmKfwBxjJE1bat40ZZBEo+EX6NDizW8zCjJC+zULpI5CmcUgJYyvRNsmjRIrn77rtVkt66davceeedKvxNnjxZ/v77b31P78JfEESUkxBo0mrHh44P9uZ7Nf7WmdWgjtGkymN/S90Xf5VcwUkSHxWqOnpc2Fpd3+4cOHbLqc7slZJOn26e5cOoOsfrktl2jCwB9Bw8fzupBDA2NlaKo1GFSWHTzypUCUPt2rVl+/bt6jYRETkX2rSl1bEBwe70aduDEyMQoooYrEbwcpngAtflvrFfSMNX5qvwd25Tdfmz72tOD38GzB+MQJdWKWmnTpiv/r9BkjGkTUbh9cP0amh3SeQpnBIAq1atKgcPHlS369WrJ59++qnpH9ZZ+eSTT1TpIBEROZ+jVY4dO9quEkXpGErJrKtBEWaGDTOXkDlLyQYHpO2syVImfJ+kJOaSbR8/Ieve6iUJ0fn0PZzLMvyi5M9WKaexzgiKkNFTlhGeMbcuO4CQJ3FaG8Dz+jfR6NGjVRvA8uXLywcffCDjx49X64mIyLkcDSso4bLXHhAh8MQJc/Xl99+br1FlPHnyf+tHjdJ3zgT/wGSp13uRNJ/wqeQpEiPRJ0pK7RODpFOd+01bXV/0iADoSCkpSlMBpXgIvo6WimJfy6pmIk/h1GFgDBgO5sCBAyoEFi1aVF/rfdiGgIhyUkba8SHQ2GsPmJ7M9hjOX+6iNBnxrRSqbHqCJocW3Sv/ftFOvv0qSDZvNpeauRrC6zvv6AtpQPhFNTAYVcZg+boaoXDMGPPcyQjg6Q23Ywvet4wM2UPOx/O3E0oAk5KSpFKlSrJv3z59DUaCD5EGDRp4dfgjIspplu340mNd0pURGW/Jo8kdD6+X1h9NU+EvPjqvrHvrRdk+s4OkJAbJ4cNZC39BQfqNNBjt8hztlIEx/IxqYHtV40Zp31tv/ddmMKPBDeESoR1jMCJU49per2UiV3JKCWAZ07+SFStWSPXqrmnI6674C4KI3AHCw4svikRF6SvSYD1zhiMyUtIYlP+63D3oJynbdI9aPr+1qmya2lXio8zfkUaown1lBsoVgoMd+3vMzNG+vePPHQHPcuxEZ5fUGSWL1s/DKFlkVXL24fnbSW0AX331VZk0aZIkJyfra4iIKDs5Gkw++ijjpU6OljSWqHdI2s6aqsJfSmKAbP+kvawd1ftm+INz5zIX/hCScMG0c478PUIuxvoDR3s7434t20riuFHKl9nSPksIkxnpjELkak4pAXziiSdk5cqVEhoaqoZ+yZs3r77FbL6Xlm3zFwQR5TR7pUrpsS51cqS067XXRKZM0Rcs+OdKlto9/pBqT60RP39Nrp4qLhsmPCvRx6zqUDPAelo5VOei2jghIWPtEY1SPXBkPmC8LpltK5kWR6fe41iC2YPnbyeVABYsWND0a6uDtGnTRkqXLq1eVMsLERE5X1qlSumxLHVCCEyvXRoeCx0lrOUrc0lazXhfqndcrcLfkd+byLJ+Q7IU/mDhwtt7JiOoZrQ9olGqB+jVPGOG+bY9eF0y21YyLY4O2ePofkRZ5ZQSQF/FXxBE5Gpplcw5WqqUGUYJodHjddkyka++Mq8z06RSm03S4OUFkit3oiRcC5HN0zvL2Q219e1Z8+OPIiVK3H7ceD0cbdNnsCzVw/RvjpQgWvYKdgaWALoXnr8ZALOEHyAiciWUwNmavszoqDBoUPYMpWItMDRO7hrws5S//1+1fHFHFdk4pavciCyolp3BCHsGy+M2qr0hI2cwhCvIiSCWXnB1VdUz2cbzt5MCYP369U0fXv3nogWsy507t1SuXFl69uxp+kfnop+qOYQfICJyFXtt+4yv2qFDbbfHc7VitY9Ik+HfSUixaElN9pddsx+RA/NMSUlzSosiu4zjNtos2grH6UGpHmZFyakgZi+4Wh8buR7P305qA9i2bVs5duyY6vyBkNfc9LMJHUKOHj0qd911l2CWkFatWsmiRYv0vyAiIntQWpRWj1Fcpk/XV2QTv4AUqd3zd2k5eaYKf9dOF5PlAwbKgbktTU/IteEPjNfC6CmLoORImz5LqEpGqLPXK9hYdtW0bnjOCHn2xhdk+KPs5JQSwF69eqlZP9588019jdk777wjJ0+elM8//1xNEff777/L1q1b9a2ej78giMgVXNm2LzNCS0dIk+FzpEi1U2r56J/hsn3W45KSEKyWs5tl9ayjs5RgSBi0/7t0yRwEL182V6FbliAaPY1dHcQQYJ05viBlHM/fTgqAeBG3bdumqnotHTlyRBo2bKheYEwNh9LAmJgYfavn4weIiFwhp9r23U6TCq22SMNX5ktgSIIkxITIlvc6ypm/6+rbM+exx0S2b89Y9a0lyw4ajoblfPnEdP7RF0xQ6oZS1GLFGMR8Ec/fTqoCRju/9evX60v/wTpsg9TUVAnG8O1ERGQXSoe++05fyEGBeW9Ik5HfSviwH1T4u/TvHbL0paFZCn+oYkV4Q2ugXr30lZmAsGZAaEOYs67OtWZd9oA2gJ06iVy54pyBnok8jVMCIGYC6du3rwwYMEDmzJlj+vL6Tt1+6aWXpH///mqfpUuXqs4iRERkH6oGIyL0hTT4m7690ws9mVW05jFpO2uKhDXfoXf0eFhWj3hZ4iIK6XtkDuqbjPB2xx3m64xCNS1CnyGtNn1psW5TSORrnFIFDAh9H330kRw8eFAtV61aVQXDrnrjjBs3bpj+cZp7BXsLFiETkbM52qatYUNzNSpYfosjBGX2W93PP0VqdlsmNbosF/8ATWLOFZUNE5+RKwfD9D2ybtQokRo1RP75R+Tjj/WVGYB2fE8/rS9YsNUruGBBkehofSENHHvP9/D87cQA6Iv4ASIiZ3O0TRvars2ceXtHBqx3pATRWt4SkdJkxBwpWuOEWj6+7C7ZNvNJSb7hXj/a7YU1lOK9/ba5XV9Gm5o7e9Bncn88fzupCpiIiJwD1ZsIcelByCta1DwUCkIRQgyuMzIsiiGsxTZV5Yvwl3g9t/wz/lnZNK2r24U/QIcNayj9w6whY8dmPPyBZZtCIl/hlgFw3bp10q5dOzWvMKqNF2JSSF1SUpIMHz5cateurcYdxD7PPvusnDt3Tt/DLCoqSrp3764SPi64HW1VF7B7925p1qyZ5MmTR8qUKSPjxo0TFogSUU5Cm7bGjfWFdCAMYX+UiBkdGazHmEtLrpB4CR82R5X8BeZNkIg9FWXJS8Pk9Fr3ba9tHdaMwZUjI/UVGYDqcus2hUS+wi0DYGxsrNStW1e1KbQWFxcn27dvV2MO4nq+6V//oUOH5DGMK2ABbQ937twpS5YsURfcRgg0oPj3wQcfVAFyy5Yt8uGHH8rUqVNlenaPrkpEZAGB5rff9IV0HD6s37DgaK/YItVPSNuZU6RCq22SmuIvu79+SFYNe0XiLhXW97gVOp3kJFthDdW+9gbMTo/x+rhq0Gcit4c2gO4MT3HBggX6km2bN29W+508eVIt79u3Ty1v3LhRLcOGDRvUugMHDqjlmTNnagUKFNDi4+PVMkyYMEEzBUItNTVVX5O2q1evqvvENRFRViUna1rZsvjec+zi56dp8+bpf2wB67ANl9v+xj9Fq9l1qdbxj8Fa56UDtUe/HqcVqX78tv2sL2PGaNqKFZo2cKB52dZ9u+piHIv1sa5ebXt/Ry7lytl+7cg38PytZcP8PdkAjThRVVwQXb5MTGFPVfs2tqhHCQ8PV+uM8QqxD6p/LccmbNOmjapKPoFGNURE2QxDwGR0cGRbw5jYm3IspPgVaTnlI6nd40/xD0iVEysbqrH9IvdX0Pewb8wYkZ49zSVw8+ZlrKo5ozBrhyV7U6XZag+YFrSPNNpKYq5fTr1GvswpATDF9O3z5ZdfqmpXzPnbsmXLWy6uFB8fLyNGjFCPbfTkuXDhghQvXlzdtoR12Aa4LoFWwxaMZWMfawkJCarq2PJCROQsGQ00KMs6fdocHK0h3OC3LDpGQLlmO1RHj2K1jktSbLAa3mXj5GckKS6PeQcHYPBktLcD3PeKFbeHNUuoZkV4Q1hMr0raEoZ6sezYYi+sZaTzBqqPX32Vgz4TGZwSADHoMy4IgrVq1VLt9ywvroIOIZ07d1azjMzEeAgWUCJoTTN9W1qut94H28HW38KECRNudirBpRy+UYiInCSzvVHTCo7/+zZe7h7yg9zz+jcSFBovl/eFyZKXh8rJ1Q31PRynf0WqUkd44AGRzz83hzvrr01jGYM0f/CB+XZ68Df4WkVAs+zYYi+sOdreEdjWj+hWTgmAP/74o+kX28/y008/mf6RvSczZsy45eIKCH8dO3Y0/TI8LsuXL79lHJ+SJUvKxYsX9aX/RERE3Czlwz7WJX2XMEu4iXXJoGHkyJGqutm4nMZPbyKiTELVLcb9w+DPuG7a1PFAYwkVHtb3heV5a09KrTemSaXWmyU1xU/2fNdaVg55VWIvFNX/MuOsSx3tVTdbVtsa+2CdPcYxZySoYb/0ZgEpUsRcZW2rBJHIlzklAAYFBUnlypX1Jdczwt/hw4dlxYoVpn/gpn/hFpo0aaIC2ubNm/U1Ips2bVLrmuIb1gT7YLiZxMREtQzLli1TvYIrVLDdHgbtBRE0LS9ERJmB3r74qsGgz5j5A9eYHs0YkDgjIRBz2uJ3q3FfLR9IlXtfXiELEj+QfKUvS+zFQrL6tVdkzzcPiZbqnGIwy1JHhCvr8QhtVdsaJYi2WAbGjDDCpXUAxWkB1d8oC2D4I7qdH3qC6Lczbdq0aXLs2DE1bIu96tOMuH79uhw5ckTdxvzBGJqlhembrXDhwiqgdejQQQ0B89tvv91SWoftCKPw0EMPqQ4dn376qVru3bu3hIWFya+//qqWEQYxXR3aKL7++usqTPbs2VPeeustGTJkiNonPWgDiKpg3BfDIBE5yhi7zvrb1/j6HDrUXJKX0Q4hEFIsSsKHfSfF6x5VyyfX1JetHzwtSbGOt/VzBEIeqmcdYe94DQhqb7yRtSpalHiiVBLBFFXpqB5mlS/Zw/O3kwLgE088YfoyWK0CWM2aNSUwMFDfYoax+jJizZo1KvBZ69Gjh4wZM0YqVqyor7kVnkNz/RvpypUr0r9/f1m8eLFaxjiBCKhGT2HAQNCvvPKKKiksVKiQ9O3bVwVAR0MsP0BElFEIKij5sxfu8PWD0jD8Bh4//r9OHI4oe++/ctfAnyU4X5wk3QiS7R93kFOr7jI9ZtZ/mBuM54cSPkcClqPH6+j9ETkDz99OCoDPPfecfsu22bNn67e8Cz9ARJRRaJ9n4/ftbUaPFnnnHXOASk9AcII0eGmh3PHQRrUcebC86uV7/ZwDc8plgPHbOCNVtY4eb0ZKFImyiudvJwVAX8UPEBFlFKp20U7PWQpVPi1NRnwr+ctFiJbqJ/t/fkB2f9NWtBTnF6ehhy46aWSkTZ2jx4u2g0b7R0ewypeygudvJ3UCISIix2R2qJfb+KVKtadWSav33lfhLy6ioKwe/rLsmv2IS8IfBnRANW379rf3Nk6Lo8dra1o7e2x1oMFyBlsbEfm0TJcANmjQQFauXKnazqGjRlrt5tBhwxvxFwQRZVR6beIckbvwVQl/7TspWd+cmk7/VUe2vN9REmPyqmVXQAkdJk7C3LuWzx3t9zAUi71SQeN4MYh0WmcbnEIcqVpOrwNNZnoSk+/h+TsLAXDs2LEybNgwCQkJUbfTMhqNWbwQP0BElBnjxpnb+GVGmSa75e5BP0lwgVhJjg+S7TOfkGNLMe2l/R/hzoCveUwHl5nghdDWoYO+YAfuJ73OIOmFZ0fugwh4/s5CACR+gIgoc777TuSZZ/QFBwUEJ0q93oukyqPm+cyvHC4rGyZ2l5gzxdWYdxAZab52NmMqt6wEL0dDb1qdQdihhJyF52+2ASQiylYoDRs0SF9wUMFKZ6X1h9Nvhr/9P7eUFQMHqPCHkjkMdowLgg+qakeNUrs5Te/eaVdZoxjB3pzEhipV9BvpSGtau7S2WXJ0PyJfxgBIRJRNjPZrERH6ivT4pcqdT6yRB9+fIQXCLsqNyPyyekRf+ffLdlKmVC41xdlbb5lL3XBBqRd60mKOXmcwplFzRnhztDNIWvs54z6IyIwBkIgoG6D9GjpQONroJneha9Lsnc+kQd9FEhCUImfW15LNrw+TLs2qqpI+VLfaanOHx8GlcGF9RRagNBGP4YzghWFaUE1stBm0hvUYZgb72eOM+yAiMwZAIqJsgOpRR3v+lrp7r7T9ZIqUanRQkuMDZcsHT0kr/+fl9JFQNRwLSvpstbVDCSM6SbRqhdmQ9JVW7IUnW1CaiPt0RvDC80VvYbC+H2MZYwzaa0MIzrgPIjJzSgAcN26cxMXF6Uv/uXHjhtpGROTrHGmXFhCUKE0GzZNmb38huQtel6ijpWXXu0Nk8vP3yOi3/NIMNkb1cnohs2hR836OQIjEvosWOSd4oTQRvYXRqcQSwqWjw7c44z6IyPRv1xm9gANM/+rPm77dihcvrq8xi4yMVOtSUB/hhdiLiIhswVee9SwVWE6rB2uBCuekyYg5UrCiOSlWutFMWuZ/VJrfnyvdYIXHS29swdBQ8zh+Ge0pjICHcIUqZwRB63EAixUTmTnT8VAJtl6fjJbaOeM+yHfx/O2kAOjv7y8XL140fRHcOu/kqlWrpFOnThLhcItnz8IPEBFZQ0mcrcGSUXWL3r+3D4isSZXH/pJ6vX6VgKBkKRCUT16q1VXqFq2mb08/7Dg6PEpWGEOr/PKLyMsvi1y+rG8wwfFZDgbNcEbujufvLAZAzAKCGUCMF9ByNhCU+l2/fl369u0rH3/8sb7Wu/ADRESWjGpY629V46tx6FCRqVPNt7FPcIEYaTzkByndeL9aVyq5hox+oLMUCM6nlsFeoLQMXM6eX9gWYyaQtI4PVbCQ0dlCiLIbz99ZDIBff/216YtAk+eff17ee+899WIagoKCpEKFCtKkSRN9jffhB4iIDCj1cmSWimnTRAYPFkkuuV+FvzyFYyQ1KZc0TG0vwx6955Yf0ukFSqPNW3aUAK5YIdKzZ9rHh57HaDeY3vMlymk8f2cxABrWrl0rTZs2lcDAQH2Nb+AHiIgMjoawJcuTZKv2m+zR1qnlQlJKXmvcXSoUKKWWDY4GSrTNA+yb3ny7mYXWPShlRO/izLJ8vqwOppzG87eTegE3a9bM9A86QA4dOiR///23rFu37pYLEZG3Q3u39OQvf0E+PP7ezfB3aOF98nvfgbJ95a3hD9CGzl74AwQ9Y/YNBCp7vXSdAdXLly7pC5lk+XyJKOc5JQBu3LhRKleuLNWrV5f7779fmjdvfvPSwtX1EkREbgCdHezTpPKj/0jrj6ZLvrBzEh8dKmtH9ZLts56U0yeCVDUvqnstORIowdgPVau2hkdxBpQupn18jnP0uIjItZwSANHRo1GjRrJnzx65cuWKREVF3bxgmYjI26GnK6o4rUvggvJfl3vH/E8avTpXcgUnybkt1WRJ32FyfksNtd2osh040Fzta3A0cO3bZ65+xt8iBJ44Ye6xO2eOecw/Z8CUcPaOL6OcFSSJKGucEgAPHz4s48ePVyWABQsWVPXqlhciIm9nqxq2RP2D8tAnU6Rskz2Skhgg2z95XNa92Uvio25tc2SretTRwPXOO+a2hxiG1Rh3H3+L0bcsh2rJCowdmFY1s7GMoGjv+WI9p2kjch9OCYCNGzeWI0eO6EtERL7JqIYtWz5Z6r64WFpM/ETyFLkm18+UkOUDBsmhBc1Mac/+165l9WhG2/WhsmX0aDH9CDcFzxLmMQedxRjiFcf300/moGcJQXXePJHPPjMv2wuInKaNyH1kuhfwrl279FsiR48elVGjRsmwYcOkdu3at/UGrlOnjn7Lu7AXERFZOxd7ST7Y9Y2cjDmrlmv43yN3y2PS9sEgtZwWY7BlS7YGXs5uxvOyNSah9UwgtvZByR/CH4eAIXfB83cWAiBm/8B4Vfb+3NiGa04FR0TeDt93q89ukm8OLJCE1EQJDcwrfWp2lkbFa90c0sXeMC0oIbM1RIqtMOVMaCOYmmouPbQH4c2YBs6RMQkBx8uZQMid8fydhQB48uRJ/Vb6wsLC9FvehR8gIoLrSbHy+d6fZfMlc81IrcJ3quncCuf+rw20MagzWH7r2gpQYOyfuW/orLN8Xu3bOz4mIYMeeQKev7MQAIkfICIS2XvlsMzc/Z1cSbgqAX4B0rnKI/JwWDPRUv1vKwVDKZoj1aNGiaGrSv4cYfm8HB3k2lYVNpE74vnbSQFw8eLF+q1bofo3d+7caozAihUr6mu9Bz9ARL4rOTVFfjn6p/x6fJVopv9KhxSXfnWekYr5y9msukUJGTp1oDQtvepRV07tZvrKMn1n6Qs2YDq3n382BznjeTk61zDmC+7SRV8gcmM8fzspANprD2jZDvDee++VhQsXSqFChfStno8fICLfdCEuQj7aNUeOXjullluWCZfuVR+X3LmC7VbdopoUrKt6bXE0cGUEHh9t/jA8THqsS/JYAkjehudvJw0Ds3z5crnrrrvUNV5MXHD77rvvlt9++01NBxcZGSlDhw7V/4KIyPPgB+2as5tkxIapKvzlzRUig+o+J71qdlLhD1W3KPmz9bPaWGcM+IwLghXCHq4TE/9bvnjRvK+zGOGzWzfzdXqsZ+tAKWVaYxJiPcf4I/IsTikBrFWrlnz22WfStGlTfY3ZP//8I71795a9e/fKihUr5Pnnn5dTp8y/mL0Bf0EQeZ7M9lC9nhQnX+77RTZe3KmWaxSqLC/X7iZFchdUy+BoSdnYsSKff35rFTGeA56bwXrZEgIXpnx74QWRDz+8tRevMUYfBm82YF3//iL33CPSqpW+Mg22SvIy2omFyJ3x/O2kAJgnTx7ZsmWLCoKWdu/erUoBb9y4oXoNY6aQuLg4favn4weIyLOk1TYvrfByIOqofLR7jkTGR0uAn790rPywPFqhhfibbltyRdWtNevAZSvQwrvvmo/LMhwiNMbHm9fZ+ubHfafVm9fW68cx/sgT8fztpACI9n358uWTb775RorpQ8ZHRETIs88+K7GxsaoKGCWAL7/8shw6dEht9wb8ABF5jsy0zUNHj/nHlsrCYytUR4+SIUWlX+3uckeB8mq7dfjCsiMlbBlhXRLoSOBK61iNdZa3Ia3XwZKtwOlICSqRO+H520kB8ODBg9K+fXvTr8bjpi+ncqYvEj9V1VupUiVZtGiR3HnnnaoDSExMjHTv3l3/K8/HDxCRZ0Boyeg4dhfjLqtSvyNXzWOeNit9t/Ss9qRq6wf2ShNv3LBfwpZZM2aYp3dzJHA5cqzo6ZsnD0vyyHfx/O2kAAi4m6VLl6oSPtyuVq2aPPjgg6qHsLfiB4jIM2S0F+tf57bK7P1z5UZKgoTkyi0v1ugoTUrW1/fKfAmb9f6OysjwKo4e64oV5iDJkjzyRTx/OzEA+iJ+gIg8g6Nt877+4YZcqzFX/rmwXS1XK1hJXqn9jBTN89/wVY6WsOXObZ76zYASthdfFBk9Wl+RAbY6ZdirinX0WDlmH/kynr+zEAA/+OAD1cMXAz3jdlr6o/uZF+IHiMgzOFIqVqTGcXlyxhyJkSuqc0eHO9rI4xVb3dbRIyslbIDwaG9OYGsIk7Y6ZdirfkanD4TPjJR2Evkinr+zEAAxs8fWrVulSJEiac7ygfaAx44d05e8Cz9ARJ7BKLWzFbz8/FOkZtflUrPbMtNtTYrnKaw6elQpaPoDG7JawmZUH0Na374If2DdKSOt6mfALB6DBtkPmfZCJZEv4fnb9F2Q2QBI/AAReRJbwStviSsSPnyOFKtpSkMm95VqJD2rd1Dt/uxZudKxnr4oAXzgAX3Biq0SPIQxBFWDrU4ZjlQ/I9xNmybSqZN5neU3vL1QSeRreP520kwgRETuDoEHwQdj4UH5ZtulzawpKvzl0nJLv9rPqIGd0wp/zoLncuKEuRoWJYW4xhCplssoobMOaWjzZy/8AcLe6dMiGI3L8lgNCIcMf0QETisBPGP6Vlq8eLEa/iURcxpZmD59un7Lu/AXBJHnuZ4QL1P+mieHUreq5SoFKqjwVzxEn0IjHTnZySKjj22vowiRr+P520kBcOXKlfLYY4+ptoAYExAzgpww/bzFXTdo0EBWrVql7+ld+AEi8ixHok/Kh7u/lUs3IsXP9N+TlVrLE5UelAB/x1NRRoeUcaacfGwib8Lzt5MCIKZ7a9u2rYwbN07NCPLvv/9K8eLFpVu3bmr9Sy+9pO/pXfgBIvIMqVqqLDq+UuYeXaJuF81dSJX6VS1USd/DcWl1KAFXdrLIyccm8iY8fzupDeD+/fulR48e6nauXLnU3L+hoaEqEE6aNEmtJyLKCZHxUfL21pny85E/VPjDgM4TmwzLVPgDBCsMtwJGpwqDsYzOG64IYDn52ETkXZwSAPPmzSsJCQnqdunSpeXo0aPqNly+fFm/RUSUvTZe2CnD10+RA1FHJXdAsLxUq6u8Wru75A3Mo++ROdYdSgzZ0ckiJx+biLyHU6qAH3/8cXnkkUekV69e8tprr8mCBQukZ8+eMn/+fClUqJCswHgIXohFyETuKT45Qb4+uEDWnN2klisXCFNVviVCiqplRzjSgSInO1mwgwdR5vH87aQAiIGer1+/LnXq1JG4uDgZOnSo/P3331K5cmWZMWOGhIWF6Xt6F36AiNzP0aun5KPdc+RCXITq6NG+Yis1q0euDHT0sDVOH0rYUP3KEjYiz8fzt5MCoK/iB4jIfaB9328nVqu2fimm24WDC8ortbtJjcKV9T0ck95MG86qZmUJHlHO4fnbiQEwOjra9MU4V7X/GzZsmBQuXFi2b98uJUqUkDLWjVW8BD9ARO7hSny0zNzzvey9clgtNy5RV16s0VFCA0PUsqOMXrbpzbSR1V62LGEkylk8fzspAO7atUtatWqlXkyM/4exACtVqiRvvvmmnDx5Ur755ht9T+/CDxBRzttycZd8tu8nuZ4UJ8EBQdKj2pPSvPTdprBm1U3WAdkxzl52lTASkX08fzupF/DgwYNVp4/Dhw9L7tz/TaP00EMPybp16/QlIiLnQUePL/b9LNP/na3CX6X85WRC+FBpUaZxpsIfoDrWEY7uZw0ljCj5s/Wz21g3cKB5PyIiV3JKANyyZYv06dNHX/oPqn4vXLigLxEROcfxa2fkjY3TZeWZDaqjx2MVWsrYu/tLqbzF9D0yB23xHOHoftbQ5s+RuXyxHxGRKzklAKLUD8Wp1lAVXAyzkhMROYHR0ePNTe/JubhLUii4gLze8CXpcmc7yeWfS98r89ARo0g6UwJjO/bLDFeXMBIROcopAbB9+/Zq1o+kpCS1jOqXU6dOyYgRI6RDhw5qHRFRVkQlXJWJ2z+V7w4tlhQtRe4qXlsmNRkmtYpU0fdwf64uYSQicpRTAuDUqVMlIiJCzf+LaeCaNWumxgDEvMDvvvuuvpfj0G6wXbt2alYRhMmFCxfqW8zQb2XMmDFqe548eaR58+ayd+9efatZVFSUdO/eXTXyxAW30VPZ0u7du9VzxX2guhoh1kmdoonIibZd2qNm9NgdeUiC/APlxRpPy6C6z0m+oLz6Hs6BqtfISH3BDmzPbBUtSg7R29deE0WsL1cu8yWMRESOckoARA8aDPw8b948mThxovTr10/++OMPWbt2rZomLqNiY2Olbt268tFHH+lrbjV58mSZPn262o72hyVLlpQHH3xQYmJi9D1EunbtKjt37pQlS5aoC24jBBpQZY2/QYjEfXz44YcqyOJ+icg9JKYkyv/2z5WpO7+UmKRYCctXRsY3GSIPlG2a6Y4eaXF1FS2GjuFcvkTkFjAMTGYdPnxYv+U6eIoLFizQlzQtNTVVMwU+zRQ09TWaFh8frxUoUED75JNP1PK+ffvU323cuFEtw4YNG9S6AwcOqOWZM2eqv8HfGiZMmKCZAqF6DEdcvXpV3Seuici5Tlw7qw35e4LWeelAdfn2wEItMSVJ3+oaq1fjOyf9C/bLinnzNK1s2Vvvs1w583oicj2evzUtSyWAd955p5QrV06effZZmT17thoD0NWOHz+ueha3bt1aXyMSHBysqnLXr1+vlk1hT1X7Nm7cWC1DeHi4Wme5D/4Gf2to06aNnDt3zu5xJCQkqJJDywsROZfpe0mWnFwnb26aIWdjL0rBoHwysmFfeaZqewl0QkePtGRXFS3G+cPXDMYT/P578zUGl+b4f0SUXbIUAFHFi+FfEJpQ7XvHHXdIxYoV5YUXXpA5c+bI2bNn9T2dxxhWBjOMWMKysQ3XaI9oDess97F1H2DsY23ChAk32xTigvBLRM4TnRAjk3d8Ll8fXCBJqcnSoFhNmdT0NalTpKq+h2tlZxUt7gODSXfpYr5mtS8RZacsBcD7TD+DR40aJStWrFAdLFabfsY+99xzqpSud+/eUr58eala1TVf3Nbtf1BqYLnOVvug9PbBdrD1tzBy5Eg1arhxOY0Bu4jIKXZE7JPhGybLzsv7JdA/UJ6r1kGG1ntB8geF6ntkD5TCYTYO6xksUTLIWTqIyFs4pRMIBAYGyv3336/mAUZQevnllyU0NFSOHDmi7+Ec6PAB1qV0ly5dulmCh30uXryobltCT2XLfWzdB1iXDBpQXYwOL5YXIsqaxJQk+frAfFXydy3xupQLLSXvhg+S1uXvtftjzNVYRUtE3i7LATA+Pl5WrVql5v1FiWChQoWkf//+cv36dZk1a5YaD9CZUMWM8LZ8+XJ9jekEkpioqqObNm2qlps0aaJK6DZv3qyWYdOmTWqd5T4YbgZ/a1i2bJnqFVwBs8ETkcudvn5eRm2aIUtOmcdVaVv+fnmn8SAVAnMaq2iJyJv5aUa9ZyagEwWGUEHbP5T+YRkXeyVojkJ4NEoO69evr4ZmadGihRQuXFhVK0+aNEm1x0PHkypVqsj48eNlzZo1auYRjD0ImIcYbRM//fRTtYwq6bCwMPn111/VMsIgqqdbtmwpr7/+uprHGPMZv/XWWzJkyBC1T3rQCQRtAXFfLA0kchy+dpaf/kfmHFosSalJqpr3pZpdpV6x6voeRESuw/N3FgMgqn1LlSoljz/+uBqMGSGwaNGi+tbMQ5hD4LPWo0cP+eqrr9TJY+zYsSrcYcBn9Pb9+OOPpVatWvqeIleuXFElkYsXL1bLjz32mBo3sGDBgmoZMBD0K6+8okoKUXLZt29fFQAdrXbiB4go41DN++neH2V7hHnw9npFq0ufml2kYLD5xxsRkavx/J3FAIgBm//66y8V2NABBIMtY2gYlAIiEOLam+cC5geIKGN2XT4gs/Z8L9GJMWpIl65V2kmb8vflWFs/IvJNPH9nMQBaw0wcmBEEYRCh8N9//1VVtHv27NH38C78ABE5BkO6/Hj4d/nj5Bq1XCZvCXm1zrMSlq+0WiYiyk48fzuxFzBg2je008MFVaq5cuWS/fv361uJyBdhMOc3N713M/y1LnevjA8fzPBHRJSDslQCmJqaKlu3br1ZBfzPP/+oauEyZcqoNnzGBZ0vvBF/QRDZh6+WlWc2yLcHF0piapLkC8wrfWp2lobF/2ur60opKSJ//WWet7dUKfPsHezJS0TA83cWAyBeNAQ+dARBmz9cEPjQK9gX8ANEZFtMYqx8tu8n2Xppt1quXeROealWVykUXEAtu9r8+SIDBoicOaOvMMFAzpjlg2P5ERHP31kMgOiFi8CHjh++iB8gotvtiTwsM/d8J1EJVyXAL0C6VHlUHgq7X/z9nNrixC6Ev6eeQgmkvkJn9DPhbB5ExPO3kzuB+Bp+gIj+k5yaLD8f+VN+O7FaNNN/pfMWl361u0vF/GX1PVwP1b4Yx92y5M8SQiBKAjGrB6uDiXwXz99O7gRCRL7pfOwleWvz+/LriVUq/D1QtomMDx+SreEP0ObPXvgD/NzFFN7Yj4jIlzEAElGmoQJh9dlNMnLDNDl+7YyEBobI4LrPyYs1OkpwQJC+V/ZBhw9HOLofEZG3YgAkoky5nhQn7+/6Wj7b+6MkpCZKzcJVZFKTYXJXiTr6HtkPvX0d4eh+RETeim0As4BtCMhX7btyRHX0iIyPlgA/f+lY+WF5tEKLbOvoYY/RBvDs2ds7gQDbABIR8PztxAB46NAhNR7gpUuX1PiAljC/rjfiB4h8TXJqisw7ukQWHV+p2vqVDCkm/Wo/I3cUKK/vkfOMXsBg+e3GXsBEZOD520kB8PPPP5eXXnpJihYtKiVLljR90f43rydub9++XV/yLvwAkS+5GHdZPtz1rRy9dkottyjTWJ6t+oTkzhWslt2JrXEAy5UTee89hj8i4vkbnBIAMdPHyy+/LMOHD9fX+AZ+gMgX4Cvir/NbZfb+eRKfkiB5c+WRXjU6SuOS9fQ93BNnAiEie3j+dlIAxIu3c+dOqVSpkr7GN/ADRN4uNumGfLn/F9lwYYdarlboDulXu5sUyV1ILRMReSKev53UC/jpp5+WZcuW6UtE5A0ORB2TERumqPCHzh2dKj8sbzZ6meGPiMgLOKUEcMKECTJ9+nR55JFHpHbt2hIYGKhvMevfv79+y7vwFwR5o5TUFFlwbLnMP7ZMdfQonqeIvFq7u1QuGKbvQUTk2Xj+dlIArFixon7rdugEcuzYMX3Ju/ADRN7mUlykfLxnjhyKPqGW7y99l/Ss9qTkyZVbLRMReQOev50UAH0VP0DkTf45v02+3D9XbiTHq8D3YvWnpWmpBvpWIiLvwfM3ZwIh8nlxpsD38e458pHpgvBXtWBFNaMHwx8RkffKdAng4MGD5e2335a8efOq22lB+0BvxF8Q5OkOR58wBb9v5dKNK6qjx5OVWsvjFVtJgD/HSyEi78XzdxYCYIsWLWTBggVSsGBBddsetAFctWqVvuRd+AEiT5WqpcrC4ytk3tGl6nax3IWlX51n5M6C9tvzEhF5C56/2QYwS/gBIk90+UaUqvI9EG3unHVPyQbyfPWnJCQwj1omIvJ2PH+zDSCRT8GYfsM3TFbhL09AsLxcq5v0q9Od4Y+IyMc4rQRwy5Yt8ssvv8ipU6ckMTFRX2s2HxNzeiH+giBPEZ+cIF8dmC9rz21Wy1UKhMkrtZ+REiFF1TIRkS/h+dtJJYA//vij3HPPPbJv3z7VLjApKUndRts/vMBElHOOXj0lIzdOVeHPz/QfOnq8dderDH9ERD7MKQFw/PjxMmPGDPntt98kKChI3n//fdm/f7907NhRypcvr+9FRNkJnTsWHV8hoze/LxfiLkuR3AVNwe8VebryQ5KLvXyJiHyaUwLg0aNH1TRwEBwcLLGxsar376BBg+Szzz5T64ko+0TGR8u7W2fJj4d/lxRTEAwvUU8mNhkm1Qrdoe9BRES+zCkBsHDhwhITE6NulylTRvbs2aNuR0dHS1xcnLpNRNlj88VdMnz9FNkXdUSCA4Kkb80u0r/OsxIaGKLvQUREvs4pAfC+++6T5cuXq9uo9h0wYID06tVLunTpIg888IBaT0SuhY4en+39SWb8O1tik+OkUv5yMiF8qDQrc7cqkSciIjI4pRfwlStXJD4+XkqXLi2pqakydepU+fvvv6Vy5cry5ptvSqFChfQ9vQt7EZG7OH7ttHy461s5HxehOno8VvEBeeqOtmzrR0RkA8/fTgiAycnJ8t1330mbNm2kZMmS+lrfwA8Q5TR09Pjj5Fq9rV+KFA4uoIZ3qVG4sr4HERFZ4/nbSSWAISEhqtdvWFiYvsY38ANEOelK/FWZted72XPlkFq+u3gd6VWzo4QG5lXLRERkG8/fTmoD2LhxY9mxY4e+RESutvXSHhm+YYoKf8H+QdKrRicZWLcnwx8RETnEKSWAmAFkxIgRatiXhg0bSt68t56E6tSpo9/yLvwFQdktISVR5hxcJCvOrFfLFfOVVVO5lc5bXC0TEVH6eP52UgD097+9IBG9DnHXuE5JSdHXehd+gCg7nYw5qzp6nI29qJYfrdBCOlV+WHL551LLRETkGJ6/nRQAT548qd+yzVvbBvIDRNkBHT2WnPpLfjj0qyRrKVIwOL+8XKur1C5SVd+DiIgygudvJwVAX8UPELladMI1mbXnB9kVeUAtNyxWS3rX7CT5g0LVMhERZRzP304KgJGRkVKkSBF1+/Tp0/L555/LjRs35LHHHlODRHsrfoDIlbZH7JVP9/wo15KuS5B/oDxTtb20KtuUgzoTEWURz99ZDIC7d++Wdu3aqdBXpUoV+fHHH6Vt27ZqLmC0C8T13Llz5fHHH9f/wrvwA0SukJiSJN8f/lWWnvpLLYflKy39aneXsqG+Nc4mEZGr8PydxWFgXnvtNaldu7asXbtWmjdvLo8++qg8/PDD6gWNioqSPn36yMSJE/W9iSg9p2POy6hNM26Gv4fDmsnbjQcx/BERkVNlqQSwaNGismrVKjXMy/Xr11WK3rx5szRq1EhtP3DggISHh0t0dLRa9jb8BUHOgn+Gy07/Ld8dWixJqclSICif9K3VReoVra7vQUREzsLzdxZLADEHsDH9W2hoqBr/r3DhwmoZMAdwTEyMvkREtlxNiJEpO76Qrw7MV+EPoW9Sk2EMf0RE5DJZngnEukE6G6gTOe7fywfUjB47Lu+TQP9c0rPak/Ja/V5SIDifvgcREZHzZakKGB09HnroIQkODlbLv/76q7Rs2fLmTCAJCQmyZMkSDgRNZAUlfT8e/k3+OLlWLZcLLSX9aj8j5fOVVstEROQ6PH9nMQA+99xz+q20zZ49W7/lXfgBosw4c/2CfLT7WzkZc04tty53r3S7s50EBQSpZSIici2ev7MYAH0dP0CUEfinhjl8vz24SJJSkyR/YKj0qdVZGhSrqe9BRETZgedvJ7QBJKL0XUu8LtN3/k/+t3+uCn91ilSTSU2HMfwREVGOYAAkcrHdkQdVR4+tEXskl1+AdK/6uAxv0EvN6UtERJQTGACJXCQ5NVmN6zd+2ydqTt8yeUuoQZ0xuLO/H//pERFRzuFZiMgFzsVekrc2vS+/nVitlluVvUfeDR8sFfKXUctEREQ5ySMDYHJysowaNUoqVqwoefLkkUqVKsm4ceMkNTVV38Pc4H7MmDFSunRptQ+mqtu7d6++1QzT1XXv3l01BMUFt7111hLKHvjcrTqzUV7fME2Ox5yR0MC8MqTe8/JCjackmL18iYjITXhkAJw0aZJ88skn8tFHH8n+/ftl8uTJMmXKFPnwww/1PUStmz59utpny5YtasaSBx988JaZSbp27So7d+5UYxXigtsIgUSZcT0pVt779yv5fN9PkpCaKLUKV1EzejQqXlvfg4iIyD145DAwjz76qJQoUUK+/PJLfY1Ihw4dJCQkRL799ltVCoOSv4EDB8rw4cPVdgxKjb9BeOzTp48KjjVq1JCNGzdK48aN1T643aRJEzWHcdWqVdW6tLAbORn2XTkiH++eI1cSrkqAX4B0qvywPFKhOdv6ERG5IZ6/PbQE8N5775WVK1fKoUOH1PK///4rf//9tzz88MNq+fjx43LhwgVp3bq1WgbMVtKsWTNZv369Wt6wYYN6843wB+Hh4WqdsQ9RepJTU+THw7/LO1tnqvBXKqSYvN14gLSr2JLhj4iI3JZHnqFQqtelSxepVq2aBAYGSv369VVpH9YBwh+gxM8Slo1tuC5evLi6bQnrjH2soRQRvxosL+S7LsRFyJjNH8ii4ytEM/3Xoky4jA8fIhXzl9P3ICIick8eGQB/+uknmTNnjnz//feyfft2+frrr2Xq1Knq2pKfn59+ywxVw5brrLeD9T6WJkyYoEoIjUu5cjzR+yJ8Rtae3SwjN0yTo9dOSd5cITKwbk/pXbOT5M5lnhebiIjInXlkABw2bJiMGDFCOnfuLLVr11YdNwYNGqQCGqDDB1iX5F26dOlmqSD2uXjxorptKSIi4raSQ8PIkSNVewHjcvr0aX0L+YrYpBvywa5v5JO9P0h8SoLUKFRZJjUdKo1L1NX3ICIicn8eGQDj4uLE3//Wpx4QEHBzGBgMD4OAt3z5crUMiYmJsnbtWmnatKlaRmcPhLjNmzerZdi0aZNaZ+xjDe0I0VjU8kK+40DUURmxYYpsvLhTAvz8pXOVR+SNRi9JkdyF9D2IiIg8g0cGwHbt2sm7774rv//+u5w4cUIWLFighnx54okn1HZU4aJN4Pjx49W2PXv2SM+ePVUvYQz9AtWrV5e2bdtKr169VO9fXHAbPYwd6QFMviMlNUV+OfKnjNvysVyOj5KSIUVl7N0DpH3FVuzoQUREHskjh4HBWH5vvvmmCneo1sWQL+gA8tZbb0lQkHmwXRzW2LFj5dNPP1UDPqO378cffyy1atVS2+HKlSvSv39/Wbx4sVp+7LHH1LiBBQsWVMvpYTdy73cx7rIa3uXw1ZNquVnpu6VHtSckT67capmIiDwPz98eGgDdBT9A3u2vc1tl9v65ciMlQUJMge/FGh2lScn6+lYiIvJUPH97aBUwkSvFJd2Qj3bPkZl7vlPhr2rBijKxyTCGPyIi8hoMgEQWDkWfkBEbpso/57ep9n1PV35I3rqrnxTLU1jfg4iIyPMxABKZoKPHvKNLZeyWDyUi/ooUNwW+0Xe9Kk9Was2OHkRE5HV4ZiOfF3Hjiry99WOZe3SJpGqpcm+phjKhyTC5s2AFfQ8iIiLvwgBIPm39+e1qbL+D0cclT0CwvFL7GXVBpw8iIiJvxQBIPulGcrzM2vO9fLj7W4kz3a5SoILq6IHSPyIiIm/HAEg+58jVk2oe33Xntoif6T+08xt9Vz8pHlJE34OIiMi7MQCSz0D7voXHlsuYzR/IxRuXpWjuQqqHL3r6BvgH6HsRERF5PwZA8gmR8VHyztaZ8tORPyTFFAQxph+qfKsVqqTvQURE5DsYAMnrbbqwU4avnyr7o45K7oBgealWV3m1dnfJG5hH34OIiMi3MACS14pPTpDP9v4o7+36WmKT4+SO/OVlQpMhcn/pu8TPz0/fi4iIyPcwAJJXOnbttIzcOE1Wn92kOno8XvFBGXN3fykZUkzfg4iIyHcxAJJXQUePxcdXylub3pcLcRFSOLigjGr0snSq8rDkYkcPIiIihQGQvMaV+GiZsO0T+eHwb5KipUjjEnVlUtOhUqNwZX0PIiIiAgZA8gpbLu2W4RumyJ4rhyXYP0h61+gkA+r0kNDAvPoeREREZGAAJI+WkJIoX+z7Wabv/J9cT4qTivnLqo4eLcqGs6MHERGRHQyA5LFOXDsrr2+cJivPbFAdPdpVaCnj7h4gpfIW1/cgIiIiWxgAyeOgo8fvJ9bIm5tmyLnYS1IouIC83rCvdL2zneTyz6XvRURERPYwAJJHiUq4KpO2fyZzDi2SZC1FGhWvLZOaDJNaRe7U9yAiIqL0MACSx9gesVeGr58iuyIPSpB/oLxY42kZXPc5yRfEjh5EREQZwQBIbi8xJVFm758nU3Z8ITFJsRKWr4yMDx8iD5Rtyo4eREREmcAASG7tVMw5eWPjDFl2+m+1/HBYc3m78UApE1pCLRMREVHGMQCSW9I0TZacXCejNs2QM7EXpGBQPhnZoI90r9peAtnRg4iIKEsYAMntXE2Ikck7PpevDy6QpNRkaVC0hkxq+prUKVpN34OIiIiyggGQ3MrOy/vltQ2T1XWgf6A8V62DDK3/ouQPCtX3ICIioqxiACS3kJiSJF8fWKCGeLmWeF3KhZaSdxsPktbl72VHDyIiIidjAKQcd/r6eXlz03uy5NQ6tdy2/H3yjin8lctXSi0TERGRczEAUo5BR4/lp/9RvXxPXT+nqnlfq99LelR7UoICAvW9iIiIyNkYAClHoJp32s7/yf/2z5Wk1CSpW6SaTGrymtQvVkPfg4iIiFyFAZCyHWbyGL5+smyL2CO5/ALk2aqPy2sNeknB4Hz6HkRERORKDICUbTCky5yDi2TCtk8kOjFGyuQtIe+ED5aHwpqJvx8/ikRERNmFZ13KFmdjL8pbm96T30+uUcsPlrtHxpvCX1i+0mqZiIiIsg8DILkUOnqsPLNeXt8wTU7EnJXQwLwypN4L8nz1pyQoIEjfi4iIiLITAyC5TExirMz4d7Z8se8XSUxNktpF7pTJTYdJo+K19D2IiIgoJzAAkkvsiTwsIzZMkS2XdkuAX4A8c2d7GdGgjxQKLqDvQURERDmFAZCcKjk1WX449KuM3zZLriRcldIhxeXtxgPlkQrN2dGDiIjITfCMTE5zPjZCRm/+QBafWCWa6b8HyjaRd8MHS8X8ZfU9iIiIyB0wAFKWoaPH6rObZOTGqXLs2mkJDQyRwXWfkxdrdJTcuYL1vYiIiMhdMABSllxPipP3d30tn+39URJSEqVGocoyqckwuatEHX0PIiIicjcMgJRp+68cVR09Nl38VwL8/KVLlUfljUYvSeHcBfU9iIiIyB0xAFKGJaemyE+H/5C3t34skfHRUjKkqIy9e4A8VvEBdvQgIiLyADxbU4ZcjLssY7d8KAuPL1cdPZqXaSwTwofKHQXK63sQERGRu2MAJIego8df57bIiA1T5cjVk5I3Vx4ZUKeH9KnZmR09iIiIPAwDIKUrLumGfLR7jszc873EpyRItUJ3yMQmwyS8ZD19DyIiIvIkDICUpoNRx1Sp3/oL21X7vo6VH5Y3G70sRfMU0vcgIiIiT8MASDalpKbI3CNLZOyWjyQi/ooUz1NExtz1qjxR6UF29CAiIvJwPJPTbSJuXJFxWz+SeceWqo4e95VqJBOaDJUqBSvoexAREZEnYwCkW/xzfpsM3zBFDkWfkDy5cku/2t3l5drdJMR0m4iIiLwDAyApccnxMnP3d6qzxw3T7TsLVlAzetxTqoG+BxEREXkLBkCSI9EnZeSGqfLX+a3iZ/qvwx1t5K1G/aRYnsL6HkRERORNGAB9WKqWKguOLZfRWz6QSzcipWjuQjL6rn7y1B1tJcA/QN+LiIiIvI3HBsCzZ8/KM888I0WKFJGQkBCpV6+ebNu2Td9qHrh4zJgxUrp0acmTJ480b95c9u7dq281i4qKku7du0uBAgXUBbejo6P1rd7t8o0oeXvrTPn5yB8qCDYt2UBV+VYtVEnfg4iIiLyVRwZABLd77rlHAgMD5c8//5R9+/bJtGnTpGDBgvoeIpMnT5bp06fLRx99JFu2bJGSJUvKgw8+KDExMfoeIl27dpWdO3fKkiVL1AW3EQK93YYLO2TEhilyIOqo5AkIlpdrdZV+tZ+RkMA8+h5ERETkzfw0FJV5mBEjRsg///wjf/31l77mVjgklPwNHDhQhg8frtYlJCRIiRIlZNKkSdKnTx/Zv3+/1KhRQzZu3CiNGzdW++B2kyZN5MCBA1K1alW1Li3Xrl1TJYdXr16V/Pnz62vdV3xygnx1YL6sPbdZLVcuEKaCX4mQomqZiIjIF3ja+dsVPLIEcPHixdKoUSN5+umnpXjx4lK/fn35/PPP9a0ix48flwsXLkjr1q31NSLBwcHSrFkzWb9+vVresGGDevON8Afh4eFqnbGPNYRIfGgsL57i6NVTMnLjNBX+0NEDAzqPvutVhj8iIiIf5JEB8NixYzJr1iypUqWKLF26VPr27Sv9+/eXb775Rm1H+AOU+FnCsrEN1wiP1rDO2MfahAkTVEA0LuXKldO3uC+071t0fIWM3vy+XIiLkCK5C8qbjV5RU7rlYkcPIiIin+SRATA1NVUaNGgg48ePV6V/qNLt1auXCoWW/Pz89FtmqBq2XGe9Haz3sTRy5EhVXGxcTp8+rW9xT5Hx0fLu1lny4+HfJcUUBMNL1JOJTYZJ9cJ36HsQERGRL/LIAFiqVCnVfs9S9erV5dSpU+o2OnyAdUnepUuXbpYKYp+LFy+q25YiIiJuKzk0oBoZbQUsL+5q88VdMnz9FNkXdUSCA4KkT83O0r/OsxIaGKLvQURERL7KIwMgegAfPHhQXzI7dOiQhIWFqdsVK1ZUAW/58uVqGRITE2Xt2rXStGlTtYzOHijF27zZ3CECNm3apNYZ+3gidPT4Yt/PMuPf2RKbHCeV8peTCeFDpXmZxnZLNomIiMi3eGQvYAzrgpA2duxY6dixowpxqAL+7LPPpFu3bmof9PZFm73Zs2ertoKoLl6zZo0Kjvny5VP7PPTQQ3Lu3Dn59NNP1XLv3r1ViPz111/VcnrcrRfR8Wtn5KNd38q5uEuqo0e7ii3l6TvaSi7/XPoeRERE5G7n75zgkQEQfvvtN9Um7/Dhw6rEb/DgwSoEGnBYCIgIdxg3EL19P/74Y6lVq5a+h8iVK1dU5xH0KobHHntMjRtoOZ5gWtzlA4SOHn+cXKu39UuRwsEF5OXa3aRm4Sr6HkRERGRgAPTgAOgO3OEDFJVwVWbt+V52Rx5Sy3cXryMv1ugo+YLyqmUiIiK6FQOgh7YBJLNtl/aojh4If8H+QSr4Dazbk+GPiIiI0sQA6IESUhLly31zZerOLyUmKVYq5Csj7zYZLA+UbcKOHkRERJQuBkAPczLmnLyxcbqsOPOPWn40rIWMazxQyuS1PXQNERERkTUGQA+Bppp/nlwro0zh72zsRSkYnF9GNuwr3ao+JoHs5UtEREQZwADoAaITYmTS9s/km4MLJVlLkQbFasqkJsOkTpGq+h5EREREjmMAdHM7IvbJ8A2T5d/IAxLoHyjPV39KhtZ7QfIHhep7EBEREWUMA6CbSkxJkq8OzJfJOz6Xa4nXpXxoaXk3fJA8WO4edvQgIiKiLGEAdEOnY87LqE0zZOmpv9TyQ+Xvl7cbD5RyoaXUMhEREVFWMAC6oUUnVsrp6+dVNe/wBr3l2WpPSFBAoL6ViIiIKGsYAN1Qz2pPSvMyjWVSk9ekXtHq+loiIiIi52AAdEOhgSHSp2ZnKRicT19DRERE5DwMgEREREQ+hgGQiIiIyMcwABIRERH5GAZAIiIiIh/DAEhERETkYxgAiYiIiHwMAyARERGRj2EAJCIiIvIxDIBEREREPoYBkIiIiMjHMAASERER+RgGQCIiIiIfwwBIRERE5GP8NBP9NmXQ1atXpWDBgnL69GnJnz+/vpaIiIjc2bVr16RcuXISHR0tBQoU0Nf6FgbALDhz5oz6ABEREZHnQQFO2bJl9SXfwgCYBampqXLu3DnJly+f+Pn56Wvdg/HrxltLJ739+IDvoefje+j5+B56PlvHiOgTExMjpUuXFn9/32wNxwDopfCBR7E2qqm99UvLm48P+B56Pr6Hno/voefzhWPMDHYCISIiIvIxDIBEREREPiZgjIl+m7xMQECANG/eXHLlyqWv8S7efnzA99Dz8T30fHwPPZ8vHGNGsQ0gERERkY9hFTARERGRj2EAJCIiIvIxDIBEREREPoYBkIiIiMjHMAC6sXXr1km7du3USOWYaWThwoX6FjP030EnbmzPkyeP6uG0d+9efatZVFSUdO/eXQ2CiQtuY+5DS7t375ZmzZqp+yhTpoyMGzdO3berpXd8PXv2VOstL+Hh4fpWs4SEBHn11VelaNGikjdvXnnsscfUFH2WTp06pR4H27Ff//79JTExUd/qOhMmTJC77rpLzRRTvHhxefzxx+XgwYP6VjNnPf+1a9dKw4YNJXfu3FKpUiX55JNP9C2u5cgx4nNp/T527txZ32rmrp/TWbNmSZ06ddTgsbg0adJE/vzzT32r579/kN4xevL7Zws+sziGgQMH6mu843002Do+T38PcZ6zfv4lS5bUt3r+uTDHmA6O3NQff/yhvfHGG9q8efPwCdQWLFigbzGbOHGiZjrxqu2mD67WqVMnrVSpUtq1a9f0PTStbdu2Wq1atbT169erC24/+uij+lZNu3r1qlaiRAnN9GWg7gP3hfucOnWqvofrpHd8PXr0UM///PnzNy+RkZH6VrO+fftqpn+o2vLly7Xt27drLVq00OrWraslJyer7bjGMWM9tmM/05eE1q9fP7Xdldq0aaPNnj1b27Nnj7Zz507tkUce0cqXL69dv35d38M5z//YsWNaSEiINmDAAG3fvn3a559/rgUGBmpz587V93AdR47R9IWq9erV65b30fTFq281c9fP6eLFi7Xff/9dM4VadXn99dfVa4vjBU9//yC9Y/Tk98/a5s2btQoVKmimwKteb4M3vI9g7/g8/T0cPXq0VrNmzVue/6VLl/Stnn8uzCkMgB7COiClpqZqpl9A6oNviI+P10y/bDTTr061jC8h/N3GjRvVMmzYsEGtO3DggFqeOXOm+hv8rcH0C1J9ueExsou9ANi+fXt96Xb4AsMX7I8//qiv0bSzZ89q/v7+2pIlS9QyQiaWsd7www8/aMHBweoffHbCFxaOc+3atWrZWc//tdde06pVq6ZuG/r06aOFh4frS9nH+hgBJx/Lk5E1T/qcQqFChbQvvvjCK98/g3GM4C3vX0xMjFalShUV3iyPyVveR3vHB57+HiIAIpDb4m3nwuzEKmAPdfz4cblw4YK0bt1aXyNi+jJSxdemXzdq2fQBV0XdjRs3VsuAKlSss9wHf4O/NbRp00bOnTsnJ06c0NfknDVr1qiqxTvvvFNMv2DFFDD0LSLbtm2TpKSkW14D0z9WMf2yu+X4sIz1Bhwfqnzw99nJdKJQ14ULF1bXznr+2MfyPgD7bN26Vd1/drI+RsN3332nqs1Mv+Jl6NChahJ2g6d8TlNSUsQUEiQ2NlZVk3rj+2d9jAZveP9eeeUVeeSRR6RVq1b6GjNveR/tHZ/B09/Dw4cPq9e/YsWKqvr62LFjar2vnAtdgQHQQ+EDDyVKlFDXBiwb23CN8GQN6yz3sXUfYOyTUx566CH1pbVq1SqZNm2abNmyRVq2bKm+dAHPLygoSAoVKqSWDdavgfXxYX/8XXYen+nHlgwePFjuvfdedSIBZz1/W/tgOTk5WS5fvqyvcT1bxwjdunWTH374QYX5N998U+bNmydPPvmkvtX8/N35c7p7924JDQ1VJ4a+ffvKggULpEaNGupxveX9s3eM4OnvHyDUIqhNmDBBX/MfPL6nv49pHR94+nuI4PbNN9/I0qVL5fPPP1eP17RpU4mMjLz52Laem+Vzd/fPaE5gAPRwaAxrCSdhy3XW2yG9fbAdbP1tdurUqZP6RYswgcbXaJh+6NAh+f333/U9bMvMa+Bq/fr1k127dqkv4fR46nto7xhRcotSCbyP+OU+d+5cWbFihWzfvl3fw72PsWrVqrJz507ZuHGjvPTSS9KjRw/Zt2+fvvV2nvj+pXWMnv7+nT59WgYMGKB+TKJzhqM85X105Pg8/T1EYUCHDh2kdu3a6jiMc8DXX3+trsHWc0vruYO7HF9OYQD0UEYPKOtfJqgiNX61YJ+LFy+q25YiIiJu2cfWfYD1r6GcVqpUKQkLC1NVAYDnjl546N1lyfo1sD4+7I8qmew6PvQuXLx4saxevVrKli2rr3Xe87f3HmLOyyJFiuhrXMveMdrSoEEDCQwMvOV9dOfPKUp5KleuLI0aNVIlLHXr1pX333/fq94/e8doi6e9fygZw2Ohdy5eU1zQW/eDDz5Qt/H4nvw+pnd8qNa35mnvoTX0xEYYxPPH8wJbz83yuXvTudBZGAA9FNpB4AO7fPlyfY2oLzH8w0fROKAND9pkbd68WS3Dpk2b1DrLfTAcC/7WsGzZMtXWokKFCvoa94DifvzaRRAEfOHhS8zyNTh//rzs2bPnluPDMtYbcHyo6sLfuxJ+PaJUbP78+aoaG++ZJWc9f+xjeR+AfXAyx/27UnrHaAuGZ8CJ03gfPe1zimNGMwRveP/sMY7RFk97/x544AFVxY0STuOC1xbVosZtT34f0zu+gIAAfc//ePq/QXw29+/fr56/L54Lncb0D53cFHp17dixQ13wVk2fPl3dPnnypNqOXk8FChTQTCdf1W29S5cuNru+Y0iADRs2qIvpV9MtXd/RA87060b9Le4D95U/f/5s6fqe1vFh25AhQ1R3/ePHj2urV6/WTP9A1VANlseH4RvKli2rrVixQg3P0LJlS5vDN5i+JNV27If9LYdvcJWXXnpJvT9r1qy5ZfiCuLg4fQ/nPH9j+IlBgwap3m5ffvlltg0/kd4xHjlyRBs7dqy2ZcsW9T5iuBH0lKxfv/7NYwR3/ZyOHDlSM50U1HPftWuXGiIFvUFNJwa13dPfP0jrGD39/bOnmVWvWG94Hy1ZHp83vIc4F+A7Bq8xevLieWGIlhMnTqjtnn4uzCkMgG4MoQfByPqC4VEAXdPRPd7060cNR3D//ferD64ljJtn+iWo/rHggttRUVH6VjN86d93333qPnBfY8aMyZZu72kdHwJE69attWLFiqkvUYwth/WnTp3S/9rsxo0b6ku4cOHCWp48edQ/aOt9ECgxPh22Yz/sb9nV31VsHRsuGDfP4Kznjy9HfKEHBQWpccBmzZqlb3EtW8eHi3GMOBZ8LvG88dzuuOMOrX///reN5+iun9Pnn39eCwsLU88dn0UEACP8gae/f5DWMXr6+2ePdQD0hvfRkuXxecN7aIzrh3NB6dKltSeffFLbu3evvtXzz4U5xQ//M31hExEREZGPYBtAIiIiIh/DAEhERETkYxgAiYiIiHwMAyARERGRj2EAJCIiIvIxDIBEREREPoYBkIiIiMjHMAASkUdZs2aNmpw9OjpaX5NxzriPtJw4cULdP6biIiJyRwyARJQhPXv2lMcff1xf+o+rQ1VG7NixQx599FEpXry45M6dW83l2alTJ7l8+bLajvk/z58/LwUKFFDLzlauXDl1/7Vq1dLXuI8+ffrIHXfcIXny5JFixYpJ+/bt5cCBA/pWIvIVDIBE5FUuXbokrVq1kqJFi8rSpUvVpPH/+9//1MTxcXFxap+goCA1gTwCqytgAn7cf65cufQ17qNhw4Yye/Zs9brg9cFkUK1bt5aUlBR9DyLyBQyAROQy69evl/vvv1+VNqFUrH///hIbG6tvFZkzZ440atRI8uXLpwJT165dVYCz9Mcff8idd96p7qNFixaqejUteMxr167JF198IfXr15eKFStKy5Yt5b333pPy5curfaxLK5s3b66WrS/GY129elV69+6tShTz58+v7u/ff/9V22yxrgI2Hm/lypXqeENCQlQp5MGDB9V2e86cOSOdO3eWwoULS968edXfbtq0SW0bM2aM1KtXT4VbHFdoaKi89NJLKshNnjxZvZ54vu+++67a34DjwHuCUtEGDRrIO++8I6dPn073dSUi78IASEQusXv3bmnTpo08+eSTsmvXLvnpp5/k77//ln79+ul7iCQmJsrbb7+twtTChQvl+PHjqorZgGCCv3/44YdVmHrxxRdlxIgR+lbbEHySk5NlwYIFqnTLEfPnz1dVtsYFj1m1alUpUaKEuo9HHnlELly4oMLotm3bVHB64IEH5MqVK/o9OOaNN96QadOmydatW1Xp4PPPP69vud3169elWbNmcu7cOVm8eLF6jV577TVJTU3V9xA5evSo/Pnnn7JkyRL54YcfVBjEc0VwXLt2rUyaNElGjRolGzdu1P/iVgjjKA1ESEZAJyIfYvpyIyJyWI8ePbSAgAAtb968t1xy586NtKVFRUWp/bp376717t1b3Tb89ddfmr+/v3bjxg19za02b96s7iMmJkYtjxw5UqtevbpmCj1qGYYPH37L49jy+uuva6aApRUuXFhr27atNnnyZM0U4PStmrZ69Wq79zF9+nStYMGC2sGDB9XyypUrtfz582vx8fFq2XDHHXdon376qb50K1OQVfe/Y8cOtWw83ooVK9Qy/P7772qdvdcC950vXz4tMjJSX3Or0aNHayEhIdq1a9f0NZpmCtxahQoVtJSUFH2NppmCrDZhwgR9yezjjz9W7xkev1q1atqRI0f0LUTkK1gCSEQZhqpYlMhZXlDlagklZV999ZWqmjQuKBFECRZK+gCdNdAJISwsTFUDoyoWTp06pa7RTi08PFxVnxqaNGmi37IP1Z4osfvkk0+kRo0a6toUdFSpZFpQmoYSRpRWotoZcBwojStSpMgtx4JjQAlcRtSpU0e/JapNIlhXeRvwmqIKG9W/9qAaF6+bASWWOF5TyNbXmNdZP0a3bt3Ua49SwipVqkjHjh3FFHD1rUTkCxgAiSjD8ubNK5UrV77lUqZMGX2rGYIeepxahkRUYx4+fFj1QkX1IzofIEyhLeCWLVtUtS2gahhMP1LVdWYgsD399NOqyhVBsnTp0jJ16lR96+327dun2ttNnDhRPS8DjgNhzfI4cEH7vWHDhul7OSYwMFC/JTdDrWWVriW0eUyP5f0B7tPWOuvHQO9nBD+0BZw7d67qBWy89kTkGxgAicgl0E5u7969twVFXNALF6EDw7IgcN13332qhM66pAqlWdbt1+y1Z0sLHs8InbZERkZKu3btVNu/QYMG6WvNcBwoTUSbPevjQE9jV0FpIYJmRtsZZgaCdkJCgr5ERL6AAZCIXGL48OGyYcMGeeWVV1SQQckfOjO8+uqrajt6riKYffjhh3Ls2DG1DR1CLPXt21dVsw4ePFiVuH3//feqWjktv/32mzzzzDPq+tChQ+rvUPKHDhyobrYFwQ8lbuhZi7BnXNCjFkPKoNoZYx9i2BT0lkVPY3SuQGcOV+nSpYvq0ILH/eeff9RrNG/ePPWaZhbuY8KECapaG9XsuC9U/+LY0dGGiHwHAyARuQRKsNDGDMEPJXxoz/bmm2/ebPuGQYgR5n755RdV0oeSQOsqWoREhJ5ff/1V6tatq9ryjR8/Xt9qG+4Lw6wMGTJEDZOCNoQ///yzaqPYvXt3fa9brVu3TpVWok0dnp9xQS9kVKEiPKK6FL120TYQVcUIgmhf5yoIx8uWLVNDuSCc1a5dW71GGGMwszAo9l9//aXuDyWYCH+ozkegxeMQke/wQ08Q/TYRERER+QCWABIRERH5GAZAIiIiIh/DAEhERETkYxgAiYiIiHwMAyARERGRj2EAJCIiIvIxDIBEREREPoYBkIiIiMjHMAASERER+RgGQCIiIiIfwwBIRERE5GMYAImIiIh8isj/ASJiDzPaZWlNAAAAAElFTkSuQmCC\" width=\"640\">"
      ],
      "text/plain": [
       "<IPython.core.display.HTML object>"
      ]
     },
     "metadata": {},
     "output_type": "display_data"
    }
   ],
   "source": [
    "# plotting values and regression line\n",
    "max_x=np.max(x)+100\n",
    "min_x=np.min(y)-100\n",
    "# Calculating line values x and y\n",
    "x_X=np.linspace(min_x,max_x,1000)\n",
    "y_Y=b0+b1*x_X\n",
    "#Plotting line\n",
    "plt.plot(x_X,y_Y,Color='#58b970',label=\"Regression line\")\n",
    "plt.scatter(x,y,c='blue',label=\"Scatter plot\")\n",
    "plt.xlabel(\"Head Size in cm3\")\n",
    "plt.ylabel(\"Brain Weaight in grams\")\n",
    "plt.legend()\n",
    "plt.show()"
   ]
  },
  {
   "cell_type": "code",
   "execution_count": 98,
   "metadata": {},
   "outputs": [
    {
     "name": "stdout",
     "output_type": "stream",
     "text": [
      "R2 Score\n",
      "0.6393117199570003\n"
     ]
    }
   ],
   "source": [
    "# Calculating R2 Values\n",
    "ss_tot=0\n",
    "ss_res=0\n",
    "for i in range(len(x)):\n",
    "    y_pred=b0+b1*x[i]\n",
    "    ss_tot+=(y[i]- mean_y) **2\n",
    "    ss_res+=(y[i]-y_pred) **2\n",
    "r2=1-(ss_res/ss_tot)\n",
    "print(\"R2 Score\")\n",
    "print(r2)"
   ]
  },
  {
   "cell_type": "code",
   "execution_count": 100,
   "metadata": {},
   "outputs": [
    {
     "data": {
      "text/plain": [
       "1635"
      ]
     },
     "execution_count": 100,
     "metadata": {},
     "output_type": "execute_result"
    }
   ],
   "source": [
    "data['Brain Weight(grams)'].max()"
   ]
  },
  {
   "cell_type": "code",
   "execution_count": 101,
   "metadata": {},
   "outputs": [
    {
     "data": {
      "text/plain": [
       "955"
      ]
     },
     "execution_count": 101,
     "metadata": {},
     "output_type": "execute_result"
    }
   ],
   "source": [
    "data['Brain Weight(grams)'].min()"
   ]
  },
  {
   "cell_type": "code",
   "execution_count": 102,
   "metadata": {},
   "outputs": [],
   "source": [
    "# Linear Regression\n",
    "import numpy as np\n",
    "import pandas as pd\n",
    "from sklearn.linear_model import LinearRegression\n",
    "from sklearn.metrics import mean_squared_error\n"
   ]
  },
  {
   "cell_type": "code",
   "execution_count": 103,
   "metadata": {},
   "outputs": [
    {
     "data": {
      "text/html": [
       "<div>\n",
       "<style scoped>\n",
       "    .dataframe tbody tr th:only-of-type {\n",
       "        vertical-align: middle;\n",
       "    }\n",
       "\n",
       "    .dataframe tbody tr th {\n",
       "        vertical-align: top;\n",
       "    }\n",
       "\n",
       "    .dataframe thead th {\n",
       "        text-align: right;\n",
       "    }\n",
       "</style>\n",
       "<table border=\"1\" class=\"dataframe\">\n",
       "  <thead>\n",
       "    <tr style=\"text-align: right;\">\n",
       "      <th></th>\n",
       "      <th>Gender</th>\n",
       "      <th>Age Range</th>\n",
       "      <th>Head Size(cm^3)</th>\n",
       "      <th>Brain Weight(grams)</th>\n",
       "    </tr>\n",
       "  </thead>\n",
       "  <tbody>\n",
       "    <tr>\n",
       "      <td>0</td>\n",
       "      <td>1</td>\n",
       "      <td>1</td>\n",
       "      <td>4512</td>\n",
       "      <td>1530</td>\n",
       "    </tr>\n",
       "    <tr>\n",
       "      <td>1</td>\n",
       "      <td>1</td>\n",
       "      <td>1</td>\n",
       "      <td>3738</td>\n",
       "      <td>1297</td>\n",
       "    </tr>\n",
       "    <tr>\n",
       "      <td>2</td>\n",
       "      <td>1</td>\n",
       "      <td>1</td>\n",
       "      <td>4261</td>\n",
       "      <td>1335</td>\n",
       "    </tr>\n",
       "    <tr>\n",
       "      <td>3</td>\n",
       "      <td>1</td>\n",
       "      <td>1</td>\n",
       "      <td>3777</td>\n",
       "      <td>1282</td>\n",
       "    </tr>\n",
       "    <tr>\n",
       "      <td>4</td>\n",
       "      <td>1</td>\n",
       "      <td>1</td>\n",
       "      <td>4177</td>\n",
       "      <td>1590</td>\n",
       "    </tr>\n",
       "  </tbody>\n",
       "</table>\n",
       "</div>"
      ],
      "text/plain": [
       "   Gender  Age Range  Head Size(cm^3)  Brain Weight(grams)\n",
       "0       1          1             4512                 1530\n",
       "1       1          1             3738                 1297\n",
       "2       1          1             4261                 1335\n",
       "3       1          1             3777                 1282\n",
       "4       1          1             4177                 1590"
      ]
     },
     "execution_count": 103,
     "metadata": {},
     "output_type": "execute_result"
    }
   ],
   "source": [
    "data=pd.read_csv('headbrain.csv')\n",
    "data.head()\n",
    "                 "
   ]
  },
  {
   "cell_type": "code",
   "execution_count": 129,
   "metadata": {},
   "outputs": [
    {
     "name": "stdout",
     "output_type": "stream",
     "text": [
      "[[1310.27229206]]\n",
      "R^2 Score\n",
      "0.639311719957\n"
     ]
    }
   ],
   "source": [
    "#\n",
    "# collecting x and y\n",
    "X=data['Head Size(cm^3)'].values\n",
    "Y=data['Brain Weight(grams)'].values\n",
    "m=len(X)\n",
    "X=X.reshape((m,1))\n",
    "Y=Y.reshape((m,1))\n",
    "# print(X)\n",
    "#Model Inialization\n",
    "reg=LinearRegression()\n",
    "#Data Fitting\n",
    "reg=reg.fit(X,Y)\n",
    "#Y Predict\n",
    "# g=X[1]\n",
    "# v=g.reshape((len(g),1))\n",
    "# print(reg.predict(v))\n",
    "Y_pred=reg.predict(X)\n",
    "# print(Y_pred)\n",
    "#model Evaluation\n",
    "r2=reg.score(X,Y)\n",
    "print(\"R^2 Score\")\n",
    "print(r2)\n"
   ]
  },
  {
   "cell_type": "code",
   "execution_count": 131,
   "metadata": {},
   "outputs": [
    {
     "data": {
      "text/plain": [
       "array([[1115.86143952]])"
      ]
     },
     "execution_count": 131,
     "metadata": {},
     "output_type": "execute_result"
    }
   ],
   "source": [
    "p=reg.predict([[3000]])\n",
    "p"
   ]
  },
  {
   "cell_type": "code",
   "execution_count": null,
   "metadata": {},
   "outputs": [],
   "source": []
  }
 ],
 "metadata": {
  "kernelspec": {
   "display_name": "Python 3",
   "language": "python",
   "name": "python3"
  },
  "language_info": {
   "codemirror_mode": {
    "name": "ipython",
    "version": 3
   },
   "file_extension": ".py",
   "mimetype": "text/x-python",
   "name": "python",
   "nbconvert_exporter": "python",
   "pygments_lexer": "ipython3",
   "version": "3.7.4"
  }
 },
 "nbformat": 4,
 "nbformat_minor": 2
}
